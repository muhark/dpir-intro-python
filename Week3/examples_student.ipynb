{
 "cells": [
  {
   "cell_type": "markdown",
   "metadata": {
    "slideshow": {
     "slide_type": "subslide"
    }
   },
   "source": [
    " # Functions"
   ]
  },
  {
   "cell_type": "markdown",
   "metadata": {
    "slideshow": {
     "slide_type": "subslide"
    }
   },
   "source": [
    "## Defining Functions in Python\n",
    "\n",
    "Defining functions in python is very simple:"
   ]
  },
  {
   "cell_type": "code",
   "execution_count": null,
   "metadata": {
    "slideshow": {
     "slide_type": "subslide"
    }
   },
   "outputs": [],
   "source": [
    "def my_first_function(x):\n",
    "    output = 2*x\n",
    "    return output"
   ]
  },
  {
   "cell_type": "markdown",
   "metadata": {
    "slideshow": {
     "slide_type": "subslide"
    }
   },
   "source": [
    "To use the function, simply run it elsewhere once it has been defined:"
   ]
  },
  {
   "cell_type": "code",
   "execution_count": null,
   "metadata": {
    "slideshow": {
     "slide_type": "subslide"
    }
   },
   "outputs": [],
   "source": [
    "my_first_function(5)"
   ]
  },
  {
   "cell_type": "markdown",
   "metadata": {
    "slideshow": {
     "slide_type": "subslide"
    }
   },
   "source": [
    "Note the indentation when writing functions. To end the function, leave a blank line and remove the indent."
   ]
  },
  {
   "cell_type": "code",
   "execution_count": null,
   "metadata": {
    "slideshow": {
     "slide_type": "subslide"
    }
   },
   "outputs": [],
   "source": [
    "def my_second_function(x):\n",
    "    y = int(x/2)\n",
    "    return y \n",
    "\n",
    "my_second_function(12)"
   ]
  },
  {
   "cell_type": "markdown",
   "metadata": {
    "slideshow": {
     "slide_type": "subslide"
    }
   },
   "source": [
    "**Task**:\n",
    "\n",
    "Create a function, call it `my_third_function`. This function should take a single argument, `x`, and return `x+2`."
   ]
  },
  {
   "cell_type": "code",
   "execution_count": null,
   "metadata": {
    "slideshow": {
     "slide_type": "fragment"
    }
   },
   "outputs": [],
   "source": [
    "## Your answer here\n"
   ]
  },
  {
   "cell_type": "markdown",
   "metadata": {
    "slideshow": {
     "slide_type": "subslide"
    }
   },
   "source": [
    "### _Docstrings_\n",
    "\n",
    "We can write documentation for our functions, called a _docstring_, by writing a string in the line following the `def` call:"
   ]
  },
  {
   "cell_type": "code",
   "execution_count": null,
   "metadata": {
    "slideshow": {
     "slide_type": "subslide"
    }
   },
   "outputs": [],
   "source": [
    "def my_documented_function(input1, input2):\n",
    "    \"\"\"\n",
    "    This function converts inputs to string,\n",
    "    concatenates the input, then reverses the order.\n",
    "    \"\"\"\n",
    "    in1 = str(input1)\n",
    "    in2 = str(input2)\n",
    "    combi = in1+in2\n",
    "    return combi[::-1]    \n",
    "\n",
    "my_documented_function(43214, 'cats')"
   ]
  },
  {
   "cell_type": "code",
   "execution_count": null,
   "metadata": {
    "slideshow": {
     "slide_type": "subslide"
    }
   },
   "outputs": [],
   "source": [
    "my_documented_function?"
   ]
  },
  {
   "cell_type": "markdown",
   "metadata": {
    "slideshow": {
     "slide_type": "subslide"
    }
   },
   "source": [
    "**Task**:\n",
    "\n",
    "Create a function that:\n",
    "\n",
    "- Takes two arguments, x and y\n",
    "- Returns (x-y)\\*(y-x)\n",
    "\n",
    "Name it appropriately and describe it in a docstring."
   ]
  },
  {
   "cell_type": "code",
   "execution_count": null,
   "metadata": {
    "slideshow": {
     "slide_type": "fragment"
    }
   },
   "outputs": [],
   "source": [
    "# Your answer here\n"
   ]
  },
  {
   "cell_type": "markdown",
   "metadata": {
    "slideshow": {
     "slide_type": "subslide"
    }
   },
   "source": [
    "### _Default Values_\n",
    "\n",
    "- We can give arguments default values when defining a function.\n",
    "- Arguments taking default values become optional arguments; we do not have to pass a value each time we call the function.\n"
   ]
  },
  {
   "cell_type": "code",
   "execution_count": null,
   "metadata": {
    "slideshow": {
     "slide_type": "subslide"
    }
   },
   "outputs": [],
   "source": [
    "def function_with_defaults(x, replace=\" \", val=\" \"):\n",
    "    \"Casts input to string, replaces `replace` with `val`, prints result. Returns None\"\n",
    "    y = str(x)\n",
    "    y = y.replace(replace, val)\n",
    "    print(y)\n",
    "\n",
    "function_with_defaults(\"1. I love dogs.\")\n",
    "function_with_defaults(\"2. I love dogs.\", \" dogs.\")\n",
    "function_with_defaults(\"3. I love dogs.\", val=\"_\")\n",
    "function_with_defaults(\"4. I love dogs.\", \"d\", \"b\")\n",
    "function_with_defaults(\"5. I love dogs.\", \"dog\", \"cat\")"
   ]
  },
  {
   "cell_type": "markdown",
   "metadata": {
    "slideshow": {
     "slide_type": "subslide"
    }
   },
   "source": [
    "### Namespaces\n",
    "\n",
    "Recall the difference between local and global namespace.\n",
    "\n",
    "- Variables named within functions are not accessible outside the function.\n",
    "- When a variable is called within a function, the program first checks if it is defined locally, then checks if it is defined globally."
   ]
  },
  {
   "cell_type": "code",
   "execution_count": null,
   "metadata": {
    "slideshow": {
     "slide_type": "subslide"
    }
   },
   "outputs": [],
   "source": [
    "def function_with_local():\n",
    "    some_local_variable = 12\n",
    "    \n",
    "print(some_local_variable)"
   ]
  },
  {
   "cell_type": "code",
   "execution_count": null,
   "metadata": {
    "slideshow": {
     "slide_type": "subslide"
    }
   },
   "outputs": [],
   "source": [
    "a = \"Global A\"\n",
    "\n",
    "def function1():\n",
    "    print(a)\n",
    "    \n",
    "def function2():\n",
    "    a = \"Local A\"\n",
    "    print(a)\n",
    "    \n",
    "def function3(a):\n",
    "    print(a)\n",
    "\n",
    "function1()\n",
    "function2()\n",
    "function3(\"Argument A\")"
   ]
  },
  {
   "cell_type": "markdown",
   "metadata": {
    "slideshow": {
     "slide_type": "subslide"
    }
   },
   "source": [
    "### Namespaces Take Away\n",
    "\n",
    "When defining variables within the global environment, use _unique, specific and informative names_. When working within functions, give generic names that inform what the argument or variable is doing."
   ]
  },
  {
   "cell_type": "code",
   "execution_count": null,
   "metadata": {
    "slideshow": {
     "slide_type": "subslide"
    }
   },
   "outputs": [],
   "source": [
    "# Check: What is the value of x?\n",
    "x = 10\n",
    "\n",
    "def do_something(x):\n",
    "    x = x+5\n",
    "    \n",
    "do_something(x)\n",
    "# print(x)"
   ]
  },
  {
   "cell_type": "code",
   "execution_count": null,
   "metadata": {
    "slideshow": {
     "slide_type": "subslide"
    }
   },
   "outputs": [],
   "source": [
    "# Another check: What is the value of y?\n",
    "x = 10\n",
    "y = -5\n",
    "\n",
    "def do_something(y):\n",
    "    y = x+y\n",
    "    return y\n",
    "\n",
    "y = do_something(y)\n",
    "# print(y)"
   ]
  },
  {
   "cell_type": "code",
   "execution_count": null,
   "metadata": {},
   "outputs": [],
   "source": [
    "# Cleaning up:\n",
    "del x, y"
   ]
  },
  {
   "cell_type": "markdown",
   "metadata": {
    "slideshow": {
     "slide_type": "subslide"
    }
   },
   "source": [
    "# Applying Functions to Vectors\n",
    "\n",
    "We go over a variety of ways in which you may apply a function to a `pandas.Series` or `pandas.DataFrame`.\n",
    "\n",
    "- Transformations:\n",
    "    - Element-wise Operations\n",
    "    - Cumulative Operations\n",
    "- Summaries:\n",
    "    - Point Summaries\n",
    "    - Grouped Summaries"
   ]
  },
  {
   "cell_type": "markdown",
   "metadata": {
    "slideshow": {
     "slide_type": "subslide"
    }
   },
   "source": [
    "## Element-wise Operations on a Series\n",
    "\n",
    "We can use the `pd.Series.apply()` method to apply a function element-wise to a pandas Series."
   ]
  },
  {
   "cell_type": "code",
   "execution_count": null,
   "metadata": {
    "slideshow": {
     "slide_type": "subslide"
    }
   },
   "outputs": [],
   "source": [
    "import pandas as pd\n",
    "\n",
    "ser = pd.Series(range(0, 12, 2)) # range(start, stop, step)\n",
    "ser"
   ]
  },
  {
   "cell_type": "code",
   "execution_count": null,
   "metadata": {
    "slideshow": {
     "slide_type": "subslide"
    }
   },
   "outputs": [],
   "source": [
    "def square(x):\n",
    "    y = x**2\n",
    "    return y\n",
    "\n",
    "ser.apply(square)"
   ]
  },
  {
   "cell_type": "code",
   "execution_count": null,
   "metadata": {
    "slideshow": {
     "slide_type": "subslide"
    }
   },
   "outputs": [],
   "source": [
    "def exponentiate(x, e=3):\n",
    "    y = x**e\n",
    "    return y\n",
    "\n",
    "ser.apply(lambda x: exponentiate(x, 3))\n",
    "ser.apply(exponentiate)"
   ]
  },
  {
   "cell_type": "markdown",
   "metadata": {},
   "source": [
    "### Lambda Functions\n",
    "\n",
    "Python allows you to write in-line functions using the lambda statement. The following two are equivalent:\n",
    "\n",
    "```\n",
    "def my_func(x):\n",
    "    return x+3\n",
    "\n",
    "my_func\n",
    "lambda x: x+3\n",
    "```"
   ]
  },
  {
   "cell_type": "code",
   "execution_count": null,
   "metadata": {
    "slideshow": {
     "slide_type": "subslide"
    }
   },
   "outputs": [],
   "source": [
    "ser.apply(lambda x: x**3)"
   ]
  },
  {
   "cell_type": "code",
   "execution_count": null,
   "metadata": {
    "slideshow": {
     "slide_type": "subslide"
    }
   },
   "outputs": [],
   "source": [
    "e = 1/2\n",
    "ser.apply(lambda x: x**e)"
   ]
  },
  {
   "cell_type": "markdown",
   "metadata": {
    "slideshow": {
     "slide_type": "subslide"
    }
   },
   "source": [
    "## Cumulative Operations on a Series\n",
    "\n",
    "In order to use cumulative operations, we can either use a `cum` function, or the `pd.Series.expanding` method."
   ]
  },
  {
   "cell_type": "code",
   "execution_count": null,
   "metadata": {
    "slideshow": {
     "slide_type": "subslide"
    }
   },
   "outputs": [],
   "source": [
    "ser.cumsum()"
   ]
  },
  {
   "cell_type": "code",
   "execution_count": null,
   "metadata": {
    "slideshow": {
     "slide_type": "subslide"
    }
   },
   "outputs": [],
   "source": [
    "ser.expanding()"
   ]
  },
  {
   "cell_type": "code",
   "execution_count": null,
   "metadata": {
    "slideshow": {
     "slide_type": "subslide"
    }
   },
   "outputs": [],
   "source": [
    "ser.expanding().sum()"
   ]
  },
  {
   "cell_type": "code",
   "execution_count": null,
   "metadata": {
    "slideshow": {
     "slide_type": "subslide"
    }
   },
   "outputs": [],
   "source": [
    "ser.expanding(2).sum() # We can set the minimum period within the expand function."
   ]
  },
  {
   "cell_type": "markdown",
   "metadata": {
    "slideshow": {
     "slide_type": "subslide"
    }
   },
   "source": [
    "We can also use apply with a DataFrame. In this case, each row (axis=0) or column (axis=1) is treated as an element."
   ]
  },
  {
   "cell_type": "code",
   "execution_count": null,
   "metadata": {
    "slideshow": {
     "slide_type": "subslide"
    }
   },
   "outputs": [],
   "source": [
    "import numpy as np\n",
    "\n",
    "df = pd.DataFrame({\n",
    "    'col1': np.random.randint(-100, 100, 5), # 5 draws from U(-100, 100)\n",
    "    'col2': np.arange(0, 5), # Integers from [0, 5)\n",
    "    'col3': np.linspace(0, 1, 5) # Five evenly spaced values from [0, 1]\n",
    "})\n",
    "df"
   ]
  },
  {
   "cell_type": "code",
   "execution_count": null,
   "metadata": {
    "slideshow": {
     "slide_type": "subslide"
    }
   },
   "outputs": [],
   "source": [
    "# Means over each column\n",
    "df.apply(lambda x: x.mean(), axis=0)"
   ]
  },
  {
   "cell_type": "code",
   "execution_count": null,
   "metadata": {
    "slideshow": {
     "slide_type": "subslide"
    }
   },
   "outputs": [],
   "source": [
    "# Sums over each row\n",
    "df.apply(lambda x: x.sum(), axis=1)"
   ]
  },
  {
   "cell_type": "code",
   "execution_count": null,
   "metadata": {
    "slideshow": {
     "slide_type": "subslide"
    }
   },
   "outputs": [],
   "source": [
    "# |x|**5 to every element\n",
    "df.applymap(lambda x: abs(x)**0.5)"
   ]
  },
  {
   "cell_type": "markdown",
   "metadata": {
    "slideshow": {
     "slide_type": "subslide"
    }
   },
   "source": [
    "## Point Summaries\n",
    "\n",
    "We have already looked at a number of point summary functions in the previous week.\n",
    "\n",
    "- `pd.Series.mean()`\n",
    "- `pd.Series.sum()`\n",
    "\n",
    "We do not spend more time on them here."
   ]
  },
  {
   "cell_type": "markdown",
   "metadata": {
    "slideshow": {
     "slide_type": "subslide"
    }
   },
   "source": [
    "## Grouped Summaries\n",
    "\n",
    "The syntax for group summaries is [explained in detail in the lecture](https://muhark.github.io/dpir-intro-python/Week3/lecture.html#/groupby-syntax-simple-group-operations)."
   ]
  },
  {
   "cell_type": "code",
   "execution_count": null,
   "metadata": {
    "slideshow": {
     "slide_type": "subslide"
    }
   },
   "outputs": [],
   "source": [
    "link = 'http://github.com/muhark/dpir-intro-python/raw/master/Week2/data/bes_data_subset_week2.feather'\n",
    "df = pd.read_feather(link)\n",
    "col_name_dict =  {\n",
    "    'a01': 'top_issue',\n",
    "    'a02': 'top_issue-best_party',\n",
    "    'a03': 'politics_interest',\n",
    "    'e01': 'ideo_LR',\n",
    "    'k01': 'politics_attention',\n",
    "    'k02': 'read_pol_news',\n",
    "    'k03': 'newspaper',\n",
    "    'k11': 'canvasser_contact',\n",
    "    'k13': 'party_contact',\n",
    "    'k06': 'twitter_use',\n",
    "    'k08': 'facebook_use',\n",
    "    'y01': 'income_band',\n",
    "    'y03': 'housing',\n",
    "    'y06': 'religion',\n",
    "    'y07': 'religiosity',\n",
    "    'y08': 'union_member',\n",
    "    'y09': 'gender',\n",
    "    'y11': 'ethnicity',\n",
    "    'y17': 'employment_type',\n",
    "    'y18': 'has_worked'\n",
    "}\n",
    "df = df.rename(col_name_dict, axis=1)\n",
    "df.loc[:, 'finalserialno'] = df['finalserialno'].astype(str)\n",
    "df.loc[:, 'ideo_LR'] = df['ideo_LR'].replace(\n",
    "    {'0 Left': '0', '10 Right': '10', 'Refused': np.nan, 'Don`t know': np.nan}\n",
    ").astype(float)"
   ]
  },
  {
   "cell_type": "code",
   "execution_count": null,
   "metadata": {
    "slideshow": {
     "slide_type": "subslide"
    }
   },
   "outputs": [],
   "source": [
    "df.groupby('region')['Age'].mean().astype('int')"
   ]
  },
  {
   "cell_type": "code",
   "execution_count": null,
   "metadata": {
    "slideshow": {
     "slide_type": "subslide"
    }
   },
   "outputs": [],
   "source": [
    "df.groupby('region')[['Age']].mean() # List indexer returns a DataFrame of width 1."
   ]
  },
  {
   "cell_type": "markdown",
   "metadata": {
    "slideshow": {
     "slide_type": "subslide"
    }
   },
   "source": [
    "**Task**:\n",
    "\n",
    "Calculate:\n",
    "\n",
    "- Max age for each gender\n",
    "- Median ideology for each age"
   ]
  },
  {
   "cell_type": "code",
   "execution_count": null,
   "metadata": {
    "slideshow": {
     "slide_type": "fragment"
    }
   },
   "outputs": [],
   "source": [
    "## Your answer here"
   ]
  },
  {
   "cell_type": "code",
   "execution_count": null,
   "metadata": {
    "slideshow": {
     "slide_type": "subslide"
    }
   },
   "outputs": [],
   "source": []
  },
  {
   "cell_type": "markdown",
   "metadata": {
    "slideshow": {
     "slide_type": "subslide"
    }
   },
   "source": [
    "We can group over multiple columns simultaneously. Pass the grouping columns as a list in the order that they should be grouped by."
   ]
  },
  {
   "cell_type": "code",
   "execution_count": null,
   "metadata": {
    "slideshow": {
     "slide_type": "subslide"
    }
   },
   "outputs": [],
   "source": [
    "df.groupby(['region', 'gender'])['Age'].mean()"
   ]
  },
  {
   "cell_type": "markdown",
   "metadata": {
    "slideshow": {
     "slide_type": "subslide"
    }
   },
   "source": [
    "We can also pass custom functions using `apply`"
   ]
  },
  {
   "cell_type": "code",
   "execution_count": null,
   "metadata": {
    "slideshow": {
     "slide_type": "fragment"
    }
   },
   "outputs": [],
   "source": [
    "df.groupby(['region', 'Constit_Code'])['Age']\\\n",
    "    .apply(lambda x: f\"{int(x.min())}-{int(x.max())}\")\\\n",
    "    .rename('Age Range')"
   ]
  },
  {
   "cell_type": "markdown",
   "metadata": {
    "slideshow": {
     "slide_type": "subslide"
    }
   },
   "source": [
    "**Task:**\n",
    "\n",
    "Calculate the proportion of Facebook users per income band per region.\n"
   ]
  },
  {
   "cell_type": "code",
   "execution_count": null,
   "metadata": {
    "slideshow": {
     "slide_type": "fragment"
    }
   },
   "outputs": [],
   "source": []
  },
  {
   "cell_type": "markdown",
   "metadata": {
    "slideshow": {
     "slide_type": "subslide"
    }
   },
   "source": [
    "We can pass multiple functions by using the `agg` function."
   ]
  },
  {
   "cell_type": "code",
   "execution_count": null,
   "metadata": {
    "slideshow": {
     "slide_type": "fragment"
    }
   },
   "outputs": [],
   "source": [
    "df.groupby(['region', 'Constit_Code'])['Age']\\\n",
    "    .agg([np.mean, len])\\\n",
    "    .rename({'len':'count'}, axis=1)"
   ]
  },
  {
   "cell_type": "markdown",
   "metadata": {
    "slideshow": {
     "slide_type": "subslide"
    }
   },
   "source": [
    "**Task:**\n",
    "\n",
    "Show the number of Facebook users and total number of individuals per gender per income band."
   ]
  },
  {
   "cell_type": "code",
   "execution_count": null,
   "metadata": {
    "slideshow": {
     "slide_type": "fragment"
    }
   },
   "outputs": [],
   "source": []
  },
  {
   "cell_type": "markdown",
   "metadata": {
    "slideshow": {
     "slide_type": "subslide"
    }
   },
   "source": [
    "We can also apply a single function to multiple columns simultaneously:"
   ]
  },
  {
   "cell_type": "code",
   "execution_count": null,
   "metadata": {
    "slideshow": {
     "slide_type": "fragment"
    }
   },
   "outputs": [],
   "source": [
    "df.groupby(['region', 'Constit_Code'])\\\n",
    "    [['newspaper', 'religion', 'gender', 'ethnicity']]\\\n",
    "    .apply(lambda x: x.mode().iloc[0])"
   ]
  },
  {
   "cell_type": "markdown",
   "metadata": {
    "slideshow": {
     "slide_type": "subslide"
    }
   },
   "source": [
    "And finally, we can map different functions to different columns using the `agg()` function with a dictionary:"
   ]
  },
  {
   "cell_type": "code",
   "execution_count": null,
   "metadata": {
    "slideshow": {
     "slide_type": "subslide"
    }
   },
   "outputs": [],
   "source": [
    "def group_mode(x):\n",
    "    \"Function for extracting first modal value from pandas groupby object\"\n",
    "    m = x.value_counts().index[0]\n",
    "    return m\n",
    "\n",
    "def gender_proportion(x):\n",
    "    m = x.apply(lambda e: 1 if e==\"Female\" else 0)\n",
    "    m = m.astype(int).mean()\n",
    "    return m\n",
    "\n",
    "df.groupby(['region', 'Constit_Code']).agg({'newspaper': group_mode,\n",
    "                                            'religion': group_mode,\n",
    "                                            'gender': gender_proportion,\n",
    "                                            'Age': [min, max]})"
   ]
  },
  {
   "cell_type": "markdown",
   "metadata": {
    "slideshow": {
     "slide_type": "subslide"
    }
   },
   "source": [
    "Note: to index the above DataFrame, you will need some fancy indexers, namely `pd.IndexSlice`.\n",
    "\n",
    "For more general notes, see: https://pandas.pydata.org/pandas-docs/stable/user_guide/advanced.html#advanced-indexing-with-hierarchical-index"
   ]
  },
  {
   "cell_type": "code",
   "execution_count": null,
   "metadata": {
    "slideshow": {
     "slide_type": "subslide"
    }
   },
   "outputs": [],
   "source": [
    "temp = df.groupby(['region', 'Constit_Code']).agg({'newspaper': group_mode,\n",
    "                                                   'religion': group_mode,\n",
    "                                                   'gender': gender_proportion,\n",
    "                                                   'Age': ['min', 'max']})\n",
    "\n",
    "temp"
   ]
  },
  {
   "cell_type": "code",
   "execution_count": null,
   "metadata": {
    "slideshow": {
     "slide_type": "subslide"
    }
   },
   "outputs": [],
   "source": [
    "idx = pd.IndexSlice \n",
    "temp.loc[idx['East Midlands', :], idx[:, 'group_mode']]"
   ]
  },
  {
   "cell_type": "markdown",
   "metadata": {
    "slideshow": {
     "slide_type": "subslide"
    }
   },
   "source": [
    "We can also use apply with a DataFrame. In this case, each row (axis=0) or column (axis=1) is treated as an element."
   ]
  },
  {
   "cell_type": "markdown",
   "metadata": {
    "slideshow": {
     "slide_type": "subslide"
    }
   },
   "source": [
    "# Combining Datasets\n",
    "\n",
    "We look at two commands in particular. For an in-depth explanation, see: https://pandas.pydata.org/pandas-docs/stable/user_guide/merging.html"
   ]
  },
  {
   "cell_type": "code",
   "execution_count": null,
   "metadata": {
    "slideshow": {
     "slide_type": "subslide"
    }
   },
   "outputs": [],
   "source": [
    "df1 = df.loc[:, ['finalserialno', 'Age', 'gender']]\n",
    "df2 = df.loc[:, ['finalserialno', 'religion']]"
   ]
  },
  {
   "cell_type": "markdown",
   "metadata": {
    "slideshow": {
     "slide_type": "subslide"
    }
   },
   "source": [
    "## Using `pd.concat`"
   ]
  },
  {
   "cell_type": "code",
   "execution_count": null,
   "metadata": {
    "slideshow": {
     "slide_type": "subslide"
    }
   },
   "outputs": [],
   "source": [
    "print(df1.shape)\n",
    "print(df2.shape)\n",
    "print(pd.concat([df1, df2], axis=0, sort=False).shape)\n",
    "pd.concat([df1, df2], axis=0, sort=False)   "
   ]
  },
  {
   "cell_type": "code",
   "execution_count": null,
   "metadata": {
    "slideshow": {
     "slide_type": "subslide"
    }
   },
   "outputs": [],
   "source": [
    "print(df1.shape)\n",
    "print(df2.shape)\n",
    "print(pd.concat([df1, df2], axis=1).shape)\n",
    "\n",
    "pd.concat([df1, df2], axis=1)"
   ]
  },
  {
   "cell_type": "code",
   "execution_count": null,
   "metadata": {
    "slideshow": {
     "slide_type": "subslide"
    }
   },
   "outputs": [],
   "source": [
    "df3 = df.sample(1000).loc[:, ['finalserialno', 'politics_attention']]"
   ]
  },
  {
   "cell_type": "code",
   "execution_count": null,
   "metadata": {
    "slideshow": {
     "slide_type": "subslide"
    }
   },
   "outputs": [],
   "source": [
    "pd.concat([df1, df2, df3], axis=1).info()\n",
    "# Check: why are there differing numbers of NAs?"
   ]
  },
  {
   "cell_type": "code",
   "execution_count": null,
   "metadata": {},
   "outputs": [],
   "source": [
    "# Check: How many columns, rows, and NAs will the following have?\n",
    "pd.concat([df1, df2, df3], axis=0).info()"
   ]
  },
  {
   "cell_type": "markdown",
   "metadata": {
    "slideshow": {
     "slide_type": "subslide"
    }
   },
   "source": [
    "## `pd.merge`"
   ]
  },
  {
   "cell_type": "code",
   "execution_count": null,
   "metadata": {
    "slideshow": {
     "slide_type": "subslide"
    }
   },
   "outputs": [],
   "source": [
    "pd.merge(df1, df2, on=\"finalserialno\")"
   ]
  },
  {
   "cell_type": "code",
   "execution_count": null,
   "metadata": {
    "slideshow": {
     "slide_type": "subslide"
    }
   },
   "outputs": [],
   "source": [
    "df4 = df.sample(30).loc[:, ['finalserialno', 'ethnicity']]"
   ]
  },
  {
   "cell_type": "code",
   "execution_count": null,
   "metadata": {
    "slideshow": {
     "slide_type": "subslide"
    }
   },
   "outputs": [],
   "source": [
    "print(df3.index)\n",
    "print(df4.index)\n",
    "for join in ['inner', 'left', 'right', 'outer']:\n",
    "    print(pd.merge(df3, df4, how=join, on=\"finalserialno\").shape)"
   ]
  },
  {
   "cell_type": "code",
   "execution_count": null,
   "metadata": {
    "slideshow": {
     "slide_type": "subslide"
    }
   },
   "outputs": [],
   "source": [
    "df4 = df4.rename({'finalserialno':'serialno'}, axis=1)\n",
    "df4"
   ]
  },
  {
   "cell_type": "code",
   "execution_count": null,
   "metadata": {
    "slideshow": {
     "slide_type": "subslide"
    }
   },
   "outputs": [],
   "source": [
    "pd.merge(\n",
    "    df3, df4,\n",
    "    how=\"outer\", left_on=\"finalserialno\", right_on='serialno')"
   ]
  },
  {
   "cell_type": "code",
   "execution_count": null,
   "metadata": {},
   "outputs": [],
   "source": [
    "# Can check the same with set operations\n",
    "len(set(df3['finalserialno']).intersection(set(df4['serialno'])))"
   ]
  },
  {
   "cell_type": "markdown",
   "metadata": {
    "slideshow": {
     "slide_type": "subslide"
    }
   },
   "source": [
    "**Task**:\n",
    "\n",
    "Sample 100 rows of `df` to create a new dataframe and call it `df5`.\n",
    "\n",
    "Left-join `df5` on `df` on a unique key. How many rows and columns are in the resulting dataframe?"
   ]
  },
  {
   "cell_type": "code",
   "execution_count": null,
   "metadata": {
    "slideshow": {
     "slide_type": "fragment"
    }
   },
   "outputs": [],
   "source": []
  },
  {
   "cell_type": "markdown",
   "metadata": {
    "slideshow": {
     "slide_type": "subslide"
    }
   },
   "source": [
    "# Melting and Pivoting"
   ]
  },
  {
   "cell_type": "code",
   "execution_count": null,
   "metadata": {
    "slideshow": {
     "slide_type": "subslide"
    }
   },
   "outputs": [],
   "source": [
    "long_df = pd.DataFrame({\n",
    "    \"Constituency\": ['Oxford West', 'Oxford East']*4,\n",
    "    \"Year\": [2010, 2010, 2015, 2015, 2017, 2017, 2019, 2019],\n",
    "    \"Party\": [\"Labour\", \"Tory\"]*2+[\"Labour\", \"LibDem\"]*2\n",
    "})\n",
    "\n",
    "long_df"
   ]
  },
  {
   "cell_type": "code",
   "execution_count": null,
   "metadata": {
    "slideshow": {
     "slide_type": "subslide"
    }
   },
   "outputs": [],
   "source": [
    "wide_df = long_df.pivot(index=\"Constituency\", columns=\"Year\", values=\"Party\")\n",
    "wide_df"
   ]
  },
  {
   "cell_type": "code",
   "execution_count": null,
   "metadata": {
    "slideshow": {
     "slide_type": "subslide"
    }
   },
   "outputs": [],
   "source": [
    "wide_df\\\n",
    "    .reset_index()\\\n",
    "    .melt(\n",
    "        id_vars=\"Constituency\",\n",
    "        value_vars=[2010, 2015, 2017, 2019],\n",
    "        var_name=\"Year\")"
   ]
  },
  {
   "cell_type": "markdown",
   "metadata": {
    "slideshow": {
     "slide_type": "subslide"
    }
   },
   "source": [
    "**Task**:\n",
    "\n",
    "Pivot `long_df` so that the years are the index and the constituencies the columns."
   ]
  },
  {
   "cell_type": "code",
   "execution_count": null,
   "metadata": {
    "slideshow": {
     "slide_type": "fragment"
    }
   },
   "outputs": [],
   "source": []
  }
 ],
 "metadata": {
  "kernelspec": {
   "display_name": "Python 3",
   "language": "python",
   "name": "python3"
  },
  "language_info": {
   "codemirror_mode": {
    "name": "ipython",
    "version": 3
   },
   "file_extension": ".py",
   "mimetype": "text/x-python",
   "name": "python",
   "nbconvert_exporter": "python",
   "pygments_lexer": "ipython3",
   "version": "3.7.9"
  }
 },
 "nbformat": 4,
 "nbformat_minor": 4
}
