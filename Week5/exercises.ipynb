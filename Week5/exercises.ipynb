{
 "cells": [
  {
   "cell_type": "markdown",
   "metadata": {},
   "source": [
    "# Coding Exercises Week 5: Unsupervised Learning\n",
    "\n",
    "The task for this week is a little bit different. Using the code in the examples as a guide, do the following:\n",
    "\n",
    "- Fit a kmeans, pca, and pca+kmeans model for a selection of the variables from the BES data.\n",
    "- Visualise the clusterings.\n",
    "- Interpret the principal components. To do this, you will need to inspect how each component \"weights\" each of the features. The higher the weight, the proportion of the variance of the component is being derived from this weight.\n",
    "- Interpret the clusters: what kind of people are assigned to each cluster? Does this make sense? How does this match up to your understanding of the division within British society?"
   ]
  },
  {
   "cell_type": "markdown",
   "metadata": {},
   "source": [
    "## Bonus Challenge\n",
    "\n",
    "As mentioned, `sklearn.cluster` contains many other clustering algorithms. Read through the documentation at https://scikit-learn.org/stable/modules/clustering.html and choose one that you think you understand best (Agglomerative Clustering is the most intuitive, IMHO). Cluster the BES data with this algorithm, and compare results between the models."
   ]
  },
  {
   "cell_type": "code",
   "execution_count": null,
   "metadata": {},
   "outputs": [],
   "source": []
  }
 ],
 "metadata": {
  "kernelspec": {
   "display_name": "teaching",
   "language": "python",
   "name": "teaching"
  },
  "language_info": {
   "codemirror_mode": {
    "name": "ipython",
    "version": 3
   },
   "file_extension": ".py",
   "mimetype": "text/x-python",
   "name": "python",
   "nbconvert_exporter": "python",
   "pygments_lexer": "ipython3",
   "version": "3.7.9"
  }
 },
 "nbformat": 4,
 "nbformat_minor": 4
}
