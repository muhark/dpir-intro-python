{
 "cells": [
  {
   "cell_type": "markdown",
   "metadata": {},
   "source": [
    "# Week 2 Lecture Exercises\n",
    "\n",
    "\n",
    "We'll be working with the BES 2017 face-to-face cross-sectional survey extensively in this course.\n",
    "\n",
    "- You can download a zip folder containing the data from the website: https://muhark.github.io/dpir-intro-python/Week2/data/data_week2.zip\n",
    "- For these exercises, you can either use `bes_data_full_week2` or `bes_data_subset_week2`.\n",
    "- I've included the codebook (`BES-2017-F2F-codebook.pdf`). You'll need this to interpret the columns."
   ]
  },
  {
   "cell_type": "markdown",
   "metadata": {},
   "source": [
    "### Step 0: Read in the Data\n",
    "\n",
    "I've taken this first step for you because I'm hosting the data files online. Normally you would write a filepath to the location the file is being kept relative to where the script is being executed."
   ]
  },
  {
   "cell_type": "code",
   "execution_count": null,
   "metadata": {},
   "outputs": [],
   "source": [
    "import pandas as pd\n",
    "\n",
    "link = 'http://github.com/muhark/dpir-intro-python/raw/master/Week2/data/bes_data_subset_week2.feather'\n",
    "bes_df = pd.read_feather(link)"
   ]
  },
  {
   "cell_type": "markdown",
   "metadata": {},
   "source": [
    "## Exercise 1: First Look at the Data\n",
    "\n",
    "_Answer the following questions about the dataset_:\n",
    "\n",
    "- How many observations in the dataset?\n",
    "- How many variables?\n",
    "- How many variables contain numeric values?\n",
    "- How many variables are open-ended response?\n",
    "- How many categorical variables?"
   ]
  },
  {
   "cell_type": "code",
   "execution_count": null,
   "metadata": {},
   "outputs": [],
   "source": []
  },
  {
   "cell_type": "markdown",
   "metadata": {},
   "source": [
    "# Exercise 2: Clean Up Labels\n",
    "\n",
    "_It's annoying to have to always refer to the codebook. Choose a few sections from the survey (i.e. questions a, questions b, etc.) and give the columns short, meaningful titles._\n",
    "\n",
    "For this part of the assignment, \n",
    "\n",
    "For instance, `a01` asks \"First, I'd like to ask you a few questions about the issues and problems facing Britain today. As far as you're concerned, what is the single most important issue facing the country at the present time?\". I might rename this question `most_important_issue`, or even `top_issue`.\n",
    "\n",
    "Another example: `y01` could be renamed `income` or `annual_income`.\n",
    "\n",
    "To keep your code neat, I recommend that you first create a dictionary called something like `col_name_dict`, put the original and replacements in there, and then use the `df.rename()` function to substitute the column names.\n"
   ]
  },
  {
   "cell_type": "code",
   "execution_count": null,
   "metadata": {},
   "outputs": [],
   "source": []
  },
  {
   "cell_type": "markdown",
   "metadata": {},
   "source": [
    "## Exercise 3: Cursory Statistics\n",
    "\n",
    "There are a few things you can calculate fairly easily. For instance:\n",
    "\n",
    "- How many responses per region? per constituency?\n",
    "- (If using section y:) Median income bracket? Modal religion? Mean/median age?\n",
    "\n",
    "Here you want to be creative. What questions would you ask of your data? What would a reviewer or a client be likely to want to know?\n",
    "\n",
    "For an additional challenge, calculate each of the statistics per-region, e.g. median income bracket per-region."
   ]
  },
  {
   "cell_type": "code",
   "execution_count": null,
   "metadata": {},
   "outputs": [],
   "source": []
  }
 ],
 "metadata": {
  "kernelspec": {
   "display_name": "Python 3",
   "language": "python",
   "name": "python3"
  },
  "language_info": {
   "codemirror_mode": {
    "name": "ipython",
    "version": 3
   },
   "file_extension": ".py",
   "mimetype": "text/x-python",
   "name": "python",
   "nbconvert_exporter": "python",
   "pygments_lexer": "ipython3",
   "version": "3.7.9"
  }
 },
 "nbformat": 4,
 "nbformat_minor": 4
}
