{
 "cells": [
  {
   "cell_type": "markdown",
   "metadata": {},
   "source": [
    "# Week 2 Lecture Exercises\n",
    "\n",
    "\n",
    "We'll be working with the BES 2017 face-to-face cross-sectional survey extensively in this course.\n",
    "\n",
    "I've prepped a subset of the columns, but if you're interested in the full dataset it can be obtained at: https://www.britishelectionstudy.com/data-object/2017-face-to-face/"
   ]
  },
  {
   "cell_type": "markdown",
   "metadata": {},
   "source": [
    "### Step 0: Read in the Data\n",
    "\n",
    "I've filled in this step for you, but "
   ]
  },
  {
   "cell_type": "code",
   "execution_count": 8,
   "metadata": {},
   "outputs": [],
   "source": [
    "import pandas as pd\n",
    "\n",
    "link = 'http://github.com/muhark/dpir-intro-python/raw/website/Week2/data/bes_data_subset_week2.feather'\n",
    "bes_df = pd.read_feather(link)"
   ]
  },
  {
   "cell_type": "markdown",
   "metadata": {},
   "source": [
    "## Exercise 1: First Look at the Data\n",
    "\n",
    "_Answer the following questions about the dataset_:\n",
    "\n",
    "- How many observations in the dataset?\n",
    "- How many variables?\n",
    "- How many variables contain numeric values?\n",
    "- How many variables are open-ended response?\n",
    "- How many categorical variables?"
   ]
  },
  {
   "cell_type": "code",
   "execution_count": 9,
   "metadata": {},
   "outputs": [
    {
     "name": "stdout",
     "output_type": "stream",
     "text": [
      "<class 'pandas.core.frame.DataFrame'>\n",
      "RangeIndex: 2194 entries, 0 to 2193\n",
      "Data columns (total 30 columns):\n",
      " #   Column                Non-Null Count  Dtype   \n",
      "---  ------                --------------  -----   \n",
      " 0   finalserialno         2194 non-null   int32   \n",
      " 1   region                2194 non-null   object  \n",
      " 2   Constit_Code          2194 non-null   object  \n",
      " 3   Constit_Name          2194 non-null   object  \n",
      " 4   Interview_Date        2194 non-null   object  \n",
      " 5   total_num_dwel        2194 non-null   object  \n",
      " 6   total_num_hous        2194 non-null   object  \n",
      " 7   num_elig_people       2194 non-null   object  \n",
      " 8   turnoutValidationReg  1507 non-null   category\n",
      " 9   Age                   2175 non-null   float64 \n",
      " 10  a01                   2194 non-null   object  \n",
      " 11  a02                   2132 non-null   category\n",
      " 12  a03                   2194 non-null   category\n",
      " 13  e01                   2194 non-null   category\n",
      " 14  k01                   2194 non-null   category\n",
      " 15  k02                   2194 non-null   category\n",
      " 16  k03                   1103 non-null   category\n",
      " 17  k11                   2194 non-null   category\n",
      " 18  k13                   2194 non-null   category\n",
      " 19  k06                   2194 non-null   category\n",
      " 20  k08                   2194 non-null   category\n",
      " 21  y01                   2194 non-null   category\n",
      " 22  y03                   2194 non-null   category\n",
      " 23  y06                   2194 non-null   category\n",
      " 24  y07                   1165 non-null   category\n",
      " 25  y08                   2194 non-null   category\n",
      " 26  y09                   2194 non-null   category\n",
      " 27  y11                   2194 non-null   category\n",
      " 28  y17                   2194 non-null   category\n",
      " 29  y18                   1039 non-null   category\n",
      "dtypes: category(20), float64(1), int32(1), object(8)\n",
      "memory usage: 212.4+ KB\n"
     ]
    }
   ],
   "source": [
    "bes_df.info()"
   ]
  },
  {
   "cell_type": "markdown",
   "metadata": {},
   "source": [
    "# Exercise 2: Clean Up Labels\n",
    "\n",
    "_It's annoying to have to always refer to the codebook. Choose a few sections from the survey (i.e. questions a, questions b, etc.) and give the columns short, meaningful titles._\n",
    "\n",
    "For instance, `a01` asks \"First, I'd like to ask you a few questions about the issues and problems facing Britain today. As far as you're concerned, what is the single most important issue facing the country at the present time?\". I might rename this question `most_important_issue`, or even `top_issue`.\n",
    "\n",
    "Another example: `y01` could be renamed `income` or `annual_income`.\n",
    "\n",
    "To keep your code neat, I recommend that you first create a dictionary called something like `col_name_dict`, put the original and replacements in there, and then use the `df.rename()` function to substitute the column names.\n"
   ]
  },
  {
   "cell_type": "code",
   "execution_count": null,
   "metadata": {},
   "outputs": [],
   "source": []
  },
  {
   "cell_type": "markdown",
   "metadata": {},
   "source": [
    "## Exercise 3: Cursory Statistics\n",
    "\n",
    "There are a few things you can calculate fairly easily. For instance:\n",
    "\n",
    "- How many responses per region? per constituency?\n",
    "- (If using section y:) Median income bracket? Modal religion? Mean/median age?\n",
    "\n",
    "Here you want to be creative. What questions would you ask of your data? What would a reviewer or a client be likely to want to know?\n",
    "\n",
    "For an additional challenge, calculate each of the statistics per-region, e.g. median income bracket per-region."
   ]
  },
  {
   "cell_type": "code",
   "execution_count": null,
   "metadata": {},
   "outputs": [],
   "source": []
  }
 ],
 "metadata": {
  "kernelspec": {
   "display_name": "Python 3",
   "language": "python",
   "name": "python3"
  },
  "language_info": {
   "codemirror_mode": {
    "name": "ipython",
    "version": 3
   },
   "file_extension": ".py",
   "mimetype": "text/x-python",
   "name": "python",
   "nbconvert_exporter": "python",
   "pygments_lexer": "ipython3",
   "version": "3.7.9"
  }
 },
 "nbformat": 4,
 "nbformat_minor": 4
}
