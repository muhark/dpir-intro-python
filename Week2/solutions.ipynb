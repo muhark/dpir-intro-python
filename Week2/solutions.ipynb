{
 "cells": [
  {
   "cell_type": "markdown",
   "metadata": {},
   "source": [
    "# Week 2 Lecture Exercises\n",
    "\n",
    "\n",
    "We'll be working with the BES 2017 face-to-face cross-sectional survey extensively in this course.\n",
    "\n",
    "- You can download a zip folder containing the data from the website: https://muhark.github.io/dpir-intro-python/Week2/data/data_week2.zip\n",
    "- For these exercises, you can either use `bes_data_full_week2` or `bes_data_subset_week2`.\n",
    "- I've included the codebook (`BES-2017-F2F-codebook.pdf`). You'll need this to interpret the columns."
   ]
  },
  {
   "cell_type": "markdown",
   "metadata": {},
   "source": [
    "### Step 0: Read in the Data\n",
    "\n",
    "I've taken this first step for you because I'm hosting the data files online. Normally you would write a filepath to the location the file is being kept relative to where the script is being executed."
   ]
  },
  {
   "cell_type": "code",
   "execution_count": 1,
   "metadata": {},
   "outputs": [],
   "source": [
    "import pandas as pd\n",
    "\n",
    "link = 'http://github.com/muhark/dpir-intro-python/raw/master/Week2/data/bes_data_subset_week2.feather'\n",
    "bes_df = pd.read_feather(link)"
   ]
  },
  {
   "cell_type": "markdown",
   "metadata": {},
   "source": [
    "## Exercise 1: First Look at the Data\n",
    "\n",
    "_Answer the following questions about the dataset_:\n",
    "\n",
    "- How many observations in the dataset?\n",
    "- How many variables?\n",
    "- How many variables contain numeric values?\n",
    "- How many variables are open-ended response?\n",
    "- How many categorical variables?"
   ]
  },
  {
   "cell_type": "code",
   "execution_count": 2,
   "metadata": {},
   "outputs": [
    {
     "name": "stdout",
     "output_type": "stream",
     "text": [
      "<class 'pandas.core.frame.DataFrame'>\n",
      "RangeIndex: 2194 entries, 0 to 2193\n",
      "Data columns (total 30 columns):\n",
      " #   Column                Non-Null Count  Dtype   \n",
      "---  ------                --------------  -----   \n",
      " 0   finalserialno         2194 non-null   int32   \n",
      " 1   region                2194 non-null   object  \n",
      " 2   Constit_Code          2194 non-null   object  \n",
      " 3   Constit_Name          2194 non-null   object  \n",
      " 4   Interview_Date        2194 non-null   object  \n",
      " 5   total_num_dwel        2194 non-null   object  \n",
      " 6   total_num_hous        2194 non-null   object  \n",
      " 7   num_elig_people       2194 non-null   object  \n",
      " 8   turnoutValidationReg  1507 non-null   category\n",
      " 9   Age                   2175 non-null   float64 \n",
      " 10  a01                   2194 non-null   object  \n",
      " 11  a02                   2132 non-null   category\n",
      " 12  a03                   2194 non-null   category\n",
      " 13  e01                   2194 non-null   category\n",
      " 14  k01                   2194 non-null   category\n",
      " 15  k02                   2194 non-null   category\n",
      " 16  k03                   1103 non-null   category\n",
      " 17  k11                   2194 non-null   category\n",
      " 18  k13                   2194 non-null   category\n",
      " 19  k06                   2194 non-null   category\n",
      " 20  k08                   2194 non-null   category\n",
      " 21  y01                   2194 non-null   category\n",
      " 22  y03                   2194 non-null   category\n",
      " 23  y06                   2194 non-null   category\n",
      " 24  y07                   1165 non-null   category\n",
      " 25  y08                   2194 non-null   category\n",
      " 26  y09                   2194 non-null   category\n",
      " 27  y11                   2194 non-null   category\n",
      " 28  y17                   2194 non-null   category\n",
      " 29  y18                   1039 non-null   category\n",
      "dtypes: category(20), float64(1), int32(1), object(8)\n",
      "memory usage: 212.4+ KB\n"
     ]
    }
   ],
   "source": [
    "bes_df.info()\n",
    "# 2194 observations\n",
    "# 30 coluimns\n",
    "# 1 numeric column (finalserialno should not be int32)\n",
    "# Open-ended response a01\n",
    "# Categorical: 20 variables"
   ]
  },
  {
   "cell_type": "code",
   "execution_count": 3,
   "metadata": {},
   "outputs": [
    {
     "data": {
      "text/plain": [
       "{'a01': 'top_issue',\n",
       " 'a02': 'top_issue-best_party',\n",
       " 'a03': 'politics_interest',\n",
       " 'e01': 'ideo_LR',\n",
       " 'k01': 'politics_attention',\n",
       " 'k02': 'read_pol_news',\n",
       " 'k03': 'newspaper',\n",
       " 'k11': 'canvasser_contact',\n",
       " 'k13': 'party_contact',\n",
       " 'k06': 'twitter_use',\n",
       " 'k08': 'facebook_use',\n",
       " 'y01': 'income_band',\n",
       " 'y03': 'housing',\n",
       " 'y06': 'religion',\n",
       " 'y07': 'religiosity',\n",
       " 'y08': 'union_member',\n",
       " 'y09': 'gender',\n",
       " 'y11': 'ethnicity',\n",
       " 'y17': 'employment_type',\n",
       " 'y18': 'has_worked'}"
      ]
     },
     "execution_count": 3,
     "metadata": {},
     "output_type": "execute_result"
    }
   ],
   "source": [
    "{\n",
    "    'a01': 'top_issue',\n",
    "    'a02': 'top_issue-best_party',\n",
    "    'a03': 'politics_interest',\n",
    "    'e01': 'ideo_LR',\n",
    "    'k01': 'politics_attention',\n",
    "    'k02': 'read_pol_news',\n",
    "    'k03': 'newspaper',\n",
    "    'k11': 'canvasser_contact',\n",
    "    'k13': 'party_contact',\n",
    "    'k06': 'twitter_use',\n",
    "    'k08': 'facebook_use',\n",
    "    'y01': 'income_band',\n",
    "    'y03': 'housing',\n",
    "    'y06': 'religion',\n",
    "    'y07': 'religiosity',\n",
    "    'y08': 'union_member',\n",
    "    'y09': 'gender',\n",
    "    'y11': 'ethnicity',\n",
    "    'y17': 'employment_type',\n",
    "    'y18': 'has_worked'\n",
    "}"
   ]
  },
  {
   "cell_type": "markdown",
   "metadata": {},
   "source": [
    "# Exercise 2: Clean Up Labels\n",
    "\n",
    "_It's annoying to have to always refer to the codebook. Choose a few sections from the survey (i.e. questions a, questions b, etc.) and give the columns short, meaningful titles._\n",
    "\n",
    "For this part of the assignment, \n",
    "\n",
    "For instance, `a01` asks \"First, I'd like to ask you a few questions about the issues and problems facing Britain today. As far as you're concerned, what is the single most important issue facing the country at the present time?\". I might rename this question `most_important_issue`, or even `top_issue`.\n",
    "\n",
    "Another example: `y01` could be renamed `income` or `annual_income`.\n",
    "\n",
    "To keep your code neat, I recommend that you first create a dictionary called something like `col_name_dict`, put the original and replacements in there, and then use the `df.rename()` function to substitute the column names.\n"
   ]
  },
  {
   "cell_type": "code",
   "execution_count": 4,
   "metadata": {},
   "outputs": [],
   "source": [
    "col_name_dict =  {\n",
    "    'a01': 'top_issue',\n",
    "    'a02': 'top_issue-best_party',\n",
    "    'a03': 'politics_interest',\n",
    "    'e01': 'ideo_LR',\n",
    "    'k01': 'politics_attention',\n",
    "    'k02': 'read_pol_news',\n",
    "    'k03': 'newspaper',\n",
    "    'k11': 'canvasser_contact',\n",
    "    'k13': 'party_contact',\n",
    "    'k06': 'twitter_use',\n",
    "    'k08': 'facebook_use',\n",
    "    'y01': 'income_band',\n",
    "    'y03': 'housing',\n",
    "    'y06': 'religion',\n",
    "    'y07': 'religiosity',\n",
    "    'y08': 'union_member',\n",
    "    'y09': 'gender',\n",
    "    'y11': 'ethnicity',\n",
    "    'y17': 'employment_type',\n",
    "    'y18': 'has_worked'\n",
    "}"
   ]
  },
  {
   "cell_type": "code",
   "execution_count": 5,
   "metadata": {},
   "outputs": [
    {
     "data": {
      "text/plain": [
       "Index(['finalserialno', 'region', 'Constit_Code', 'Constit_Name',\n",
       "       'Interview_Date', 'total_num_dwel', 'total_num_hous', 'num_elig_people',\n",
       "       'turnoutValidationReg', 'Age', 'top_issue', 'top_issue-best_party',\n",
       "       'politics_interest', 'ideo_LR', 'politics_attention', 'read_pol_news',\n",
       "       'newspaper', 'canvasser_contact', 'party_contact', 'twitter_use',\n",
       "       'facebook_use', 'income_band', 'housing', 'religion', 'religiosity',\n",
       "       'union_member', 'gender', 'ethnicity', 'employment_type', 'has_worked'],\n",
       "      dtype='object')"
      ]
     },
     "execution_count": 5,
     "metadata": {},
     "output_type": "execute_result"
    }
   ],
   "source": [
    "bes_df = bes_df.rename(col_name_dict, axis=1)\n",
    "bes_df.columns"
   ]
  },
  {
   "cell_type": "markdown",
   "metadata": {},
   "source": [
    "## Exercise 3: Cursory Statistics\n",
    "\n",
    "There are a few things you can calculate fairly easily. For instance:\n",
    "\n",
    "- How many responses per region? per constituency?\n",
    "- (If using section y:) Median income bracket? Modal religion? Mean/median age?\n",
    "\n",
    "Here you want to be creative. What questions would you ask of your data? What would a reviewer or a client be likely to want to know?\n",
    "\n",
    "For an additional challenge, calculate each of the statistics per-region, e.g. median income bracket per-region."
   ]
  },
  {
   "cell_type": "code",
   "execution_count": 6,
   "metadata": {},
   "outputs": [
    {
     "data": {
      "text/plain": [
       "North West            304\n",
       "South East            282\n",
       "West Midlands         227\n",
       "Eastern               226\n",
       "London                212\n",
       "Scotland              191\n",
       "Yorkshire & Humber    187\n",
       "South West            167\n",
       "East Midlands         156\n",
       "Wales                 129\n",
       "North East            113\n",
       "Name: region, dtype: int64"
      ]
     },
     "execution_count": 6,
     "metadata": {},
     "output_type": "execute_result"
    }
   ],
   "source": [
    "bes_df['region'].value_counts()"
   ]
  },
  {
   "cell_type": "code",
   "execution_count": 7,
   "metadata": {},
   "outputs": [
    {
     "data": {
      "text/plain": [
       "Birmingham    57\n",
       "North East    44\n",
       "Sheffield,    26\n",
       "Liverpool,    22\n",
       "Falkirk       21\n",
       "              ..\n",
       "Southport      4\n",
       "Great Grim     3\n",
       "Perth and      2\n",
       "Glenrothes     2\n",
       "Bolton Wes     1\n",
       "Name: Constit_Code, Length: 214, dtype: int64"
      ]
     },
     "execution_count": 7,
     "metadata": {},
     "output_type": "execute_result"
    }
   ],
   "source": [
    "bes_df['Constit_Code'].value_counts()"
   ]
  }
 ],
 "metadata": {
  "kernelspec": {
   "display_name": "Python 3",
   "language": "python",
   "name": "python3"
  },
  "language_info": {
   "codemirror_mode": {
    "name": "ipython",
    "version": 3
   },
   "file_extension": ".py",
   "mimetype": "text/x-python",
   "name": "python",
   "nbconvert_exporter": "python",
   "pygments_lexer": "ipython3",
   "version": "3.7.9"
  }
 },
 "nbformat": 4,
 "nbformat_minor": 4
}
