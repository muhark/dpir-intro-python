{
 "cells": [
  {
   "cell_type": "markdown",
   "metadata": {
    "slideshow": {
     "slide_type": "slide"
    }
   },
   "source": [
    "# `pandas` part 1\n",
    "\n",
    "This week we learn about the following five areas of pandas:\n",
    "\n",
    "- Data I/O\n",
    "- Understanding the `DataFrame` and `Series`\n",
    "- Indexing and Filtering\n",
    "- Renaming \n",
    "and Replacing\n",
    "- First look at the data\n",
    "- Summary functions"
   ]
  },
  {
   "cell_type": "markdown",
   "metadata": {
    "slideshow": {
     "slide_type": "slide"
    }
   },
   "source": [
    "## Importing Libraries\n",
    "\n",
    "In python, we use the `import` statement to \"load\" code from other libraries. This is similar to the `library()` function in `R`.\n",
    "\n",
    "Note we can also use `import` _library name_ `as` _abbreviation_ to rename the imported library. Although it makes for less typing, I recommend sticking to widely accepted abbreviations."
   ]
  },
  {
   "cell_type": "code",
   "execution_count": 1,
   "metadata": {
    "slideshow": {
     "slide_type": "subslide"
    }
   },
   "outputs": [
    {
     "data": {
      "text/plain": [
       "'0.25.3'"
      ]
     },
     "execution_count": 1,
     "metadata": {},
     "output_type": "execute_result"
    }
   ],
   "source": [
    "import pandas as pd\n",
    "\n",
    "pd.__version__ # you can check the version of any library with this command\n",
    "               # if you get anything older than 0.25.0, try updating pandas with: conda update pandas"
   ]
  },
  {
   "cell_type": "markdown",
   "metadata": {
    "slideshow": {
     "slide_type": "slide"
    }
   },
   "source": [
    "# `DataFrame` and `Series`"
   ]
  },
  {
   "cell_type": "markdown",
   "metadata": {
    "slideshow": {
     "slide_type": "subslide"
    }
   },
   "source": [
    "## `pd.Series`\n",
    "\n",
    "The pandas `Series` is a one-dimensional ordered and labelled data container.\n",
    "\n",
    "To pull up the associated documentation on a class, method or module, use the `?` magic."
   ]
  },
  {
   "cell_type": "code",
   "execution_count": 2,
   "metadata": {
    "slideshow": {
     "slide_type": "subslide"
    }
   },
   "outputs": [],
   "source": [
    "pd.Series?"
   ]
  },
  {
   "cell_type": "markdown",
   "metadata": {
    "slideshow": {
     "slide_type": "subslide"
    }
   },
   "source": [
    "We can create a series by calling the `pd.Series()` function on a one-dimensional array."
   ]
  },
  {
   "cell_type": "code",
   "execution_count": 3,
   "metadata": {
    "slideshow": {
     "slide_type": "fragment"
    }
   },
   "outputs": [
    {
     "data": {
      "text/plain": [
       "0     1\n",
       "1     4\n",
       "2     7\n",
       "3    -1\n",
       "4    12\n",
       "dtype: int64"
      ]
     },
     "execution_count": 3,
     "metadata": {},
     "output_type": "execute_result"
    }
   ],
   "source": [
    "ser = pd.Series([1, 4, 7, -1, 12])\n",
    "ser"
   ]
  },
  {
   "cell_type": "markdown",
   "metadata": {
    "slideshow": {
     "slide_type": "subslide"
    }
   },
   "source": [
    "Note that the default behaviour is to use an integer index ranging from 0 to the length of the input minus 1.\n",
    "\n",
    "We can override this behaviour by passing an equal length array as an index:"
   ]
  },
  {
   "cell_type": "code",
   "execution_count": 4,
   "metadata": {
    "slideshow": {
     "slide_type": "fragment"
    }
   },
   "outputs": [
    {
     "data": {
      "text/plain": [
       "a            1\n",
       "b            4\n",
       "d            7\n",
       "z           -1\n",
       "dinosaur    12\n",
       "dtype: int64"
      ]
     },
     "execution_count": 4,
     "metadata": {},
     "output_type": "execute_result"
    }
   ],
   "source": [
    "ser = pd.Series([1, 4, 7, -1, 12], index = ['a', 'b', 'd', 'z', 'dinosaur'])\n",
    "ser"
   ]
  },
  {
   "cell_type": "markdown",
   "metadata": {
    "slideshow": {
     "slide_type": "subslide"
    }
   },
   "source": [
    "## `pd.DataFrame`\n",
    "\n",
    "The `pandas.DataFrame` is a two-dimensional tabular data container. You can think of each column of the dataframe as being a series."
   ]
  },
  {
   "cell_type": "code",
   "execution_count": null,
   "metadata": {
    "slideshow": {
     "slide_type": "fragment"
    }
   },
   "outputs": [],
   "source": [
    "pd.DataFrame?"
   ]
  },
  {
   "cell_type": "markdown",
   "metadata": {
    "slideshow": {
     "slide_type": "subslide"
    }
   },
   "source": [
    "Dataframes can be constructed in a multitude of ways. I prefer using a combination of dicts and lists."
   ]
  },
  {
   "cell_type": "code",
   "execution_count": 6,
   "metadata": {
    "slideshow": {
     "slide_type": "subslide"
    }
   },
   "outputs": [],
   "source": [
    "# Create the data as a dict of lists:\n",
    "my_data = {\n",
    "    'col1': [1, 4, 7, 10],\n",
    "    'col2': [1/1, 1/4, 1/7, 1/10],\n",
    "    'col3': ['tea', 'coffee', 'toffee', 'key']\n",
    "}"
   ]
  },
  {
   "cell_type": "code",
   "execution_count": 7,
   "metadata": {
    "slideshow": {
     "slide_type": "fragment"
    }
   },
   "outputs": [],
   "source": [
    "# Optional: Create the column list if necessary (dict keys are unordered!)\n",
    "my_columns = ['col1', 'col2', 'col3']\n",
    "\n",
    "# Index is also optional\n",
    "my_index = ['a', 'b', 'c', 'pterodactyl']"
   ]
  },
  {
   "cell_type": "code",
   "execution_count": 8,
   "metadata": {
    "slideshow": {
     "slide_type": "subslide"
    }
   },
   "outputs": [
    {
     "data": {
      "text/html": [
       "<div>\n",
       "<style scoped>\n",
       "    .dataframe tbody tr th:only-of-type {\n",
       "        vertical-align: middle;\n",
       "    }\n",
       "\n",
       "    .dataframe tbody tr th {\n",
       "        vertical-align: top;\n",
       "    }\n",
       "\n",
       "    .dataframe thead th {\n",
       "        text-align: right;\n",
       "    }\n",
       "</style>\n",
       "<table border=\"1\" class=\"dataframe\">\n",
       "  <thead>\n",
       "    <tr style=\"text-align: right;\">\n",
       "      <th></th>\n",
       "      <th>col1</th>\n",
       "      <th>col2</th>\n",
       "      <th>col3</th>\n",
       "    </tr>\n",
       "  </thead>\n",
       "  <tbody>\n",
       "    <tr>\n",
       "      <th>a</th>\n",
       "      <td>1</td>\n",
       "      <td>1.000000</td>\n",
       "      <td>tea</td>\n",
       "    </tr>\n",
       "    <tr>\n",
       "      <th>b</th>\n",
       "      <td>4</td>\n",
       "      <td>0.250000</td>\n",
       "      <td>coffee</td>\n",
       "    </tr>\n",
       "    <tr>\n",
       "      <th>c</th>\n",
       "      <td>7</td>\n",
       "      <td>0.142857</td>\n",
       "      <td>toffee</td>\n",
       "    </tr>\n",
       "    <tr>\n",
       "      <th>pterodactyl</th>\n",
       "      <td>10</td>\n",
       "      <td>0.100000</td>\n",
       "      <td>key</td>\n",
       "    </tr>\n",
       "  </tbody>\n",
       "</table>\n",
       "</div>"
      ],
      "text/plain": [
       "             col1      col2    col3\n",
       "a               1  1.000000     tea\n",
       "b               4  0.250000  coffee\n",
       "c               7  0.142857  toffee\n",
       "pterodactyl    10  0.100000     key"
      ]
     },
     "execution_count": 8,
     "metadata": {},
     "output_type": "execute_result"
    }
   ],
   "source": [
    "df = pd.DataFrame(data=my_data, columns=my_columns, index=my_index)\n",
    "df"
   ]
  },
  {
   "cell_type": "code",
   "execution_count": 9,
   "metadata": {
    "slideshow": {
     "slide_type": "subslide"
    }
   },
   "outputs": [
    {
     "data": {
      "text/html": [
       "<div>\n",
       "<style scoped>\n",
       "    .dataframe tbody tr th:only-of-type {\n",
       "        vertical-align: middle;\n",
       "    }\n",
       "\n",
       "    .dataframe tbody tr th {\n",
       "        vertical-align: top;\n",
       "    }\n",
       "\n",
       "    .dataframe thead th {\n",
       "        text-align: right;\n",
       "    }\n",
       "</style>\n",
       "<table border=\"1\" class=\"dataframe\">\n",
       "  <thead>\n",
       "    <tr style=\"text-align: right;\">\n",
       "      <th></th>\n",
       "      <th>col1</th>\n",
       "      <th>col2</th>\n",
       "      <th>col3</th>\n",
       "    </tr>\n",
       "  </thead>\n",
       "  <tbody>\n",
       "    <tr>\n",
       "      <th>a</th>\n",
       "      <td>1</td>\n",
       "      <td>1.000000</td>\n",
       "      <td>tea</td>\n",
       "    </tr>\n",
       "    <tr>\n",
       "      <th>b</th>\n",
       "      <td>4</td>\n",
       "      <td>0.250000</td>\n",
       "      <td>coffee</td>\n",
       "    </tr>\n",
       "    <tr>\n",
       "      <th>c</th>\n",
       "      <td>7</td>\n",
       "      <td>0.142857</td>\n",
       "      <td>toffee</td>\n",
       "    </tr>\n",
       "    <tr>\n",
       "      <th>pterodactyl</th>\n",
       "      <td>10</td>\n",
       "      <td>0.100000</td>\n",
       "      <td>key</td>\n",
       "    </tr>\n",
       "  </tbody>\n",
       "</table>\n",
       "</div>"
      ],
      "text/plain": [
       "             col1      col2    col3\n",
       "a               1  1.000000     tea\n",
       "b               4  0.250000  coffee\n",
       "c               7  0.142857  toffee\n",
       "pterodactyl    10  0.100000     key"
      ]
     },
     "execution_count": 9,
     "metadata": {},
     "output_type": "execute_result"
    }
   ],
   "source": [
    "# We can also do this without the intermediary steps\n",
    "df = pd.DataFrame(\n",
    "    data = {\n",
    "        'col1': [1, 4, 7, 10],\n",
    "        'col2': [1/1, 1/4, 1/7, 1/10],\n",
    "        'col3': ['tea', 'coffee', 'toffee', 'key']\n",
    "    },\n",
    "    columns = ['col1', 'col2', 'col3'],\n",
    "    index = ['a', 'b', 'c', 'pterodactyl']\n",
    ")\n",
    "df"
   ]
  },
  {
   "cell_type": "markdown",
   "metadata": {
    "slideshow": {
     "slide_type": "slide"
    }
   },
   "source": [
    "# Reading in Data\n",
    "\n",
    "For this lecture we use the BES data. The data can be downloaded from: https://muhark.github.io/dpir-intro-python/Week2/data/data_week2.zip"
   ]
  },
  {
   "cell_type": "markdown",
   "metadata": {
    "slideshow": {
     "slide_type": "fragment"
    }
   },
   "source": [
    "The original file was in `dta` format, but I've saved it in a number of formats.\n",
    "Here are the file names with their associated sizes in kilobytes.\n",
    "\n",
    "```\n",
    "756K    bes_data_subset_week2.csv\n",
    "348K    bes_data_subset_week2.feather\n",
    "1.3M    bes_data_subset_week2.json\n",
    "```\n",
    "\n",
    "Let's just use the `feather` format for now, as this is the easiest to work with."
   ]
  },
  {
   "cell_type": "code",
   "execution_count": 12,
   "metadata": {
    "slideshow": {
     "slide_type": "subslide"
    }
   },
   "outputs": [],
   "source": [
    "bes_df = pd.read_feather(\"data/bes_data_subset_week2.feather\")"
   ]
  },
  {
   "cell_type": "markdown",
   "metadata": {
    "slideshow": {
     "slide_type": "subslide"
    }
   },
   "source": [
    "We can view the first/last 30 rows (and 20 columns) by just writing the name of the dataframe."
   ]
  },
  {
   "cell_type": "code",
   "execution_count": 13,
   "metadata": {
    "slideshow": {
     "slide_type": "fragment"
    }
   },
   "outputs": [
    {
     "data": {
      "text/html": [
       "<div>\n",
       "<style scoped>\n",
       "    .dataframe tbody tr th:only-of-type {\n",
       "        vertical-align: middle;\n",
       "    }\n",
       "\n",
       "    .dataframe tbody tr th {\n",
       "        vertical-align: top;\n",
       "    }\n",
       "\n",
       "    .dataframe thead th {\n",
       "        text-align: right;\n",
       "    }\n",
       "</style>\n",
       "<table border=\"1\" class=\"dataframe\">\n",
       "  <thead>\n",
       "    <tr style=\"text-align: right;\">\n",
       "      <th></th>\n",
       "      <th>finalserialno</th>\n",
       "      <th>region</th>\n",
       "      <th>Constit_Code</th>\n",
       "      <th>Constit_Name</th>\n",
       "      <th>Interview_Date</th>\n",
       "      <th>total_num_dwel</th>\n",
       "      <th>total_num_hous</th>\n",
       "      <th>num_elig_people</th>\n",
       "      <th>turnoutValidationReg</th>\n",
       "      <th>Age</th>\n",
       "      <th>...</th>\n",
       "      <th>k08</th>\n",
       "      <th>y01</th>\n",
       "      <th>y03</th>\n",
       "      <th>y06</th>\n",
       "      <th>y07</th>\n",
       "      <th>y08</th>\n",
       "      <th>y09</th>\n",
       "      <th>y11</th>\n",
       "      <th>y17</th>\n",
       "      <th>y18</th>\n",
       "    </tr>\n",
       "  </thead>\n",
       "  <tbody>\n",
       "    <tr>\n",
       "      <th>0</th>\n",
       "      <td>10115</td>\n",
       "      <td>East Midlands</td>\n",
       "      <td>Ashfield</td>\n",
       "      <td>E14000535</td>\n",
       "      <td>06/09/2017</td>\n",
       "      <td>1</td>\n",
       "      <td>1</td>\n",
       "      <td>2</td>\n",
       "      <td>Voted</td>\n",
       "      <td>21.0</td>\n",
       "      <td>...</td>\n",
       "      <td>No</td>\n",
       "      <td>GBP 5,200 - GBP 10,399</td>\n",
       "      <td>Own home on mortgage</td>\n",
       "      <td>No religion</td>\n",
       "      <td>NaN</td>\n",
       "      <td>No</td>\n",
       "      <td>Female</td>\n",
       "      <td>English/Welsh/Scottish/Northern Irish/British</td>\n",
       "      <td>Working full time -  employee (30+ hours)</td>\n",
       "      <td>NaN</td>\n",
       "    </tr>\n",
       "    <tr>\n",
       "      <th>1</th>\n",
       "      <td>10119</td>\n",
       "      <td>East Midlands</td>\n",
       "      <td>Ashfield</td>\n",
       "      <td>E14000535</td>\n",
       "      <td>06/09/2017</td>\n",
       "      <td>1</td>\n",
       "      <td>1</td>\n",
       "      <td>1</td>\n",
       "      <td>Voted</td>\n",
       "      <td>53.0</td>\n",
       "      <td>...</td>\n",
       "      <td>No</td>\n",
       "      <td>GBP 2,600 - GBP 5,199</td>\n",
       "      <td>Rented from local authority</td>\n",
       "      <td>Islam/Muslim</td>\n",
       "      <td>Never or practically never</td>\n",
       "      <td>No</td>\n",
       "      <td>Male</td>\n",
       "      <td>Indian</td>\n",
       "      <td>Looking after the family or home</td>\n",
       "      <td>Yes</td>\n",
       "    </tr>\n",
       "    <tr>\n",
       "      <th>2</th>\n",
       "      <td>10125</td>\n",
       "      <td>East Midlands</td>\n",
       "      <td>Ashfield</td>\n",
       "      <td>E14000535</td>\n",
       "      <td>06/09/2017</td>\n",
       "      <td>1</td>\n",
       "      <td>1</td>\n",
       "      <td>1</td>\n",
       "      <td>NaN</td>\n",
       "      <td>56.0</td>\n",
       "      <td>...</td>\n",
       "      <td>No</td>\n",
       "      <td>GBP 5,200 - GBP 10,399</td>\n",
       "      <td>Own home outright</td>\n",
       "      <td>No religion</td>\n",
       "      <td>NaN</td>\n",
       "      <td>No</td>\n",
       "      <td>Male</td>\n",
       "      <td>English/Welsh/Scottish/Northern Irish/British</td>\n",
       "      <td>Working full time - self-employed (30+ hours)</td>\n",
       "      <td>NaN</td>\n",
       "    </tr>\n",
       "    <tr>\n",
       "      <th>3</th>\n",
       "      <td>10215</td>\n",
       "      <td>East Midlands</td>\n",
       "      <td>Ashfield</td>\n",
       "      <td>E14000535</td>\n",
       "      <td>24/08/2017</td>\n",
       "      <td>1</td>\n",
       "      <td>1</td>\n",
       "      <td>2</td>\n",
       "      <td>Voted</td>\n",
       "      <td>65.0</td>\n",
       "      <td>...</td>\n",
       "      <td>No</td>\n",
       "      <td>GBP 36,400 - GBP 39,999</td>\n",
       "      <td>Own home outright</td>\n",
       "      <td>Christian - no denomination</td>\n",
       "      <td>Never or practically never</td>\n",
       "      <td>No</td>\n",
       "      <td>Female</td>\n",
       "      <td>English/Welsh/Scottish/Northern Irish/British</td>\n",
       "      <td>Retired from paid work</td>\n",
       "      <td>Yes</td>\n",
       "    </tr>\n",
       "    <tr>\n",
       "      <th>4</th>\n",
       "      <td>10216</td>\n",
       "      <td>East Midlands</td>\n",
       "      <td>Ashfield</td>\n",
       "      <td>E14000535</td>\n",
       "      <td>24/08/2017</td>\n",
       "      <td>1</td>\n",
       "      <td>1</td>\n",
       "      <td>2</td>\n",
       "      <td>Voted</td>\n",
       "      <td>68.0</td>\n",
       "      <td>...</td>\n",
       "      <td>Yes</td>\n",
       "      <td>GBP 40,000 - GBP 44,999</td>\n",
       "      <td>Own home outright</td>\n",
       "      <td>Christian - no denomination</td>\n",
       "      <td>Never or practically never</td>\n",
       "      <td>No</td>\n",
       "      <td>Female</td>\n",
       "      <td>English/Welsh/Scottish/Northern Irish/British</td>\n",
       "      <td>Retired from paid work</td>\n",
       "      <td>Yes</td>\n",
       "    </tr>\n",
       "    <tr>\n",
       "      <th>...</th>\n",
       "      <td>...</td>\n",
       "      <td>...</td>\n",
       "      <td>...</td>\n",
       "      <td>...</td>\n",
       "      <td>...</td>\n",
       "      <td>...</td>\n",
       "      <td>...</td>\n",
       "      <td>...</td>\n",
       "      <td>...</td>\n",
       "      <td>...</td>\n",
       "      <td>...</td>\n",
       "      <td>...</td>\n",
       "      <td>...</td>\n",
       "      <td>...</td>\n",
       "      <td>...</td>\n",
       "      <td>...</td>\n",
       "      <td>...</td>\n",
       "      <td>...</td>\n",
       "      <td>...</td>\n",
       "      <td>...</td>\n",
       "      <td>...</td>\n",
       "    </tr>\n",
       "    <tr>\n",
       "      <th>2189</th>\n",
       "      <td>69923</td>\n",
       "      <td>Yorkshire &amp; Humber</td>\n",
       "      <td>York Outer</td>\n",
       "      <td>E14001062</td>\n",
       "      <td>20/09/2017</td>\n",
       "      <td>1</td>\n",
       "      <td>1</td>\n",
       "      <td>2</td>\n",
       "      <td>NaN</td>\n",
       "      <td>59.0</td>\n",
       "      <td>...</td>\n",
       "      <td>No</td>\n",
       "      <td>GBP 60,000 - GBP 74,999</td>\n",
       "      <td>Own home outright</td>\n",
       "      <td>No religion</td>\n",
       "      <td>NaN</td>\n",
       "      <td>No</td>\n",
       "      <td>Female</td>\n",
       "      <td>English/Welsh/Scottish/Northern Irish/British</td>\n",
       "      <td>Retired from paid work</td>\n",
       "      <td>Yes</td>\n",
       "    </tr>\n",
       "    <tr>\n",
       "      <th>2190</th>\n",
       "      <td>69925</td>\n",
       "      <td>Yorkshire &amp; Humber</td>\n",
       "      <td>York Outer</td>\n",
       "      <td>E14001062</td>\n",
       "      <td>31/07/2017</td>\n",
       "      <td>1</td>\n",
       "      <td>1</td>\n",
       "      <td>1</td>\n",
       "      <td>NaN</td>\n",
       "      <td>46.0</td>\n",
       "      <td>...</td>\n",
       "      <td>Yes</td>\n",
       "      <td>GBP 75,000 - GBP 99,999</td>\n",
       "      <td>Own home outright</td>\n",
       "      <td>No religion</td>\n",
       "      <td>NaN</td>\n",
       "      <td>No</td>\n",
       "      <td>Female</td>\n",
       "      <td>English/Welsh/Scottish/Northern Irish/British</td>\n",
       "      <td>Looking after the family or home</td>\n",
       "      <td>Yes</td>\n",
       "    </tr>\n",
       "    <tr>\n",
       "      <th>2191</th>\n",
       "      <td>70016</td>\n",
       "      <td>Yorkshire &amp; Humber</td>\n",
       "      <td>York Outer</td>\n",
       "      <td>E14001062</td>\n",
       "      <td>19/09/2017</td>\n",
       "      <td>1</td>\n",
       "      <td>1</td>\n",
       "      <td>1</td>\n",
       "      <td>Voted</td>\n",
       "      <td>50.0</td>\n",
       "      <td>...</td>\n",
       "      <td>Yes</td>\n",
       "      <td>GBP 5,200 - GBP 10,399</td>\n",
       "      <td>It belongs to a Housing Association</td>\n",
       "      <td>No religion</td>\n",
       "      <td>NaN</td>\n",
       "      <td>No</td>\n",
       "      <td>Female</td>\n",
       "      <td>English/Welsh/Scottish/Northern Irish/British</td>\n",
       "      <td>Working part time - employee (8-29 hours)</td>\n",
       "      <td>NaN</td>\n",
       "    </tr>\n",
       "    <tr>\n",
       "      <th>2192</th>\n",
       "      <td>70022</td>\n",
       "      <td>Yorkshire &amp; Humber</td>\n",
       "      <td>York Outer</td>\n",
       "      <td>E14001062</td>\n",
       "      <td>02/08/2017</td>\n",
       "      <td>1</td>\n",
       "      <td>1</td>\n",
       "      <td>1</td>\n",
       "      <td>NaN</td>\n",
       "      <td>82.0</td>\n",
       "      <td>...</td>\n",
       "      <td>Yes</td>\n",
       "      <td>GBP 15,600 - GBP 20,799</td>\n",
       "      <td>Own home outright</td>\n",
       "      <td>No religion</td>\n",
       "      <td>NaN</td>\n",
       "      <td>No</td>\n",
       "      <td>Female</td>\n",
       "      <td>English/Welsh/Scottish/Northern Irish/British</td>\n",
       "      <td>Retired from paid work</td>\n",
       "      <td>Yes</td>\n",
       "    </tr>\n",
       "    <tr>\n",
       "      <th>2193</th>\n",
       "      <td>70023</td>\n",
       "      <td>Yorkshire &amp; Humber</td>\n",
       "      <td>York Outer</td>\n",
       "      <td>E14001062</td>\n",
       "      <td>22/09/2017</td>\n",
       "      <td>1</td>\n",
       "      <td>1</td>\n",
       "      <td>1</td>\n",
       "      <td>Voted</td>\n",
       "      <td>86.0</td>\n",
       "      <td>...</td>\n",
       "      <td>No</td>\n",
       "      <td>GBP 45,000 - GBP 49,999</td>\n",
       "      <td>Own home outright</td>\n",
       "      <td>No religion</td>\n",
       "      <td>NaN</td>\n",
       "      <td>No</td>\n",
       "      <td>Male</td>\n",
       "      <td>English/Welsh/Scottish/Northern Irish/British</td>\n",
       "      <td>Retired from paid work</td>\n",
       "      <td>Yes</td>\n",
       "    </tr>\n",
       "  </tbody>\n",
       "</table>\n",
       "<p>2194 rows × 30 columns</p>\n",
       "</div>"
      ],
      "text/plain": [
       "      finalserialno              region Constit_Code Constit_Name  \\\n",
       "0             10115       East Midlands     Ashfield    E14000535   \n",
       "1             10119       East Midlands     Ashfield    E14000535   \n",
       "2             10125       East Midlands     Ashfield    E14000535   \n",
       "3             10215       East Midlands     Ashfield    E14000535   \n",
       "4             10216       East Midlands     Ashfield    E14000535   \n",
       "...             ...                 ...          ...          ...   \n",
       "2189          69923  Yorkshire & Humber   York Outer    E14001062   \n",
       "2190          69925  Yorkshire & Humber   York Outer    E14001062   \n",
       "2191          70016  Yorkshire & Humber   York Outer    E14001062   \n",
       "2192          70022  Yorkshire & Humber   York Outer    E14001062   \n",
       "2193          70023  Yorkshire & Humber   York Outer    E14001062   \n",
       "\n",
       "     Interview_Date total_num_dwel total_num_hous num_elig_people  \\\n",
       "0        06/09/2017              1              1               2   \n",
       "1        06/09/2017              1              1               1   \n",
       "2        06/09/2017              1              1               1   \n",
       "3        24/08/2017              1              1               2   \n",
       "4        24/08/2017              1              1               2   \n",
       "...             ...            ...            ...             ...   \n",
       "2189     20/09/2017              1              1               2   \n",
       "2190     31/07/2017              1              1               1   \n",
       "2191     19/09/2017              1              1               1   \n",
       "2192     02/08/2017              1              1               1   \n",
       "2193     22/09/2017              1              1               1   \n",
       "\n",
       "     turnoutValidationReg   Age  ...  k08                      y01  \\\n",
       "0                   Voted  21.0  ...   No   GBP 5,200 - GBP 10,399   \n",
       "1                   Voted  53.0  ...   No    GBP 2,600 - GBP 5,199   \n",
       "2                     NaN  56.0  ...   No   GBP 5,200 - GBP 10,399   \n",
       "3                   Voted  65.0  ...   No  GBP 36,400 - GBP 39,999   \n",
       "4                   Voted  68.0  ...  Yes  GBP 40,000 - GBP 44,999   \n",
       "...                   ...   ...  ...  ...                      ...   \n",
       "2189                  NaN  59.0  ...   No  GBP 60,000 - GBP 74,999   \n",
       "2190                  NaN  46.0  ...  Yes  GBP 75,000 - GBP 99,999   \n",
       "2191                Voted  50.0  ...  Yes   GBP 5,200 - GBP 10,399   \n",
       "2192                  NaN  82.0  ...  Yes  GBP 15,600 - GBP 20,799   \n",
       "2193                Voted  86.0  ...   No  GBP 45,000 - GBP 49,999   \n",
       "\n",
       "                                      y03                          y06  \\\n",
       "0                    Own home on mortgage                  No religion   \n",
       "1             Rented from local authority                 Islam/Muslim   \n",
       "2                       Own home outright                  No religion   \n",
       "3                       Own home outright  Christian - no denomination   \n",
       "4                       Own home outright  Christian - no denomination   \n",
       "...                                   ...                          ...   \n",
       "2189                    Own home outright                  No religion   \n",
       "2190                    Own home outright                  No religion   \n",
       "2191  It belongs to a Housing Association                  No religion   \n",
       "2192                    Own home outright                  No religion   \n",
       "2193                    Own home outright                  No religion   \n",
       "\n",
       "                             y07 y08     y09  \\\n",
       "0                            NaN  No  Female   \n",
       "1     Never or practically never  No    Male   \n",
       "2                            NaN  No    Male   \n",
       "3     Never or practically never  No  Female   \n",
       "4     Never or practically never  No  Female   \n",
       "...                          ...  ..     ...   \n",
       "2189                         NaN  No  Female   \n",
       "2190                         NaN  No  Female   \n",
       "2191                         NaN  No  Female   \n",
       "2192                         NaN  No  Female   \n",
       "2193                         NaN  No    Male   \n",
       "\n",
       "                                                y11  \\\n",
       "0     English/Welsh/Scottish/Northern Irish/British   \n",
       "1                                            Indian   \n",
       "2     English/Welsh/Scottish/Northern Irish/British   \n",
       "3     English/Welsh/Scottish/Northern Irish/British   \n",
       "4     English/Welsh/Scottish/Northern Irish/British   \n",
       "...                                             ...   \n",
       "2189  English/Welsh/Scottish/Northern Irish/British   \n",
       "2190  English/Welsh/Scottish/Northern Irish/British   \n",
       "2191  English/Welsh/Scottish/Northern Irish/British   \n",
       "2192  English/Welsh/Scottish/Northern Irish/British   \n",
       "2193  English/Welsh/Scottish/Northern Irish/British   \n",
       "\n",
       "                                                y17  y18  \n",
       "0         Working full time -  employee (30+ hours)  NaN  \n",
       "1                  Looking after the family or home  Yes  \n",
       "2     Working full time - self-employed (30+ hours)  NaN  \n",
       "3                            Retired from paid work  Yes  \n",
       "4                            Retired from paid work  Yes  \n",
       "...                                             ...  ...  \n",
       "2189                         Retired from paid work  Yes  \n",
       "2190               Looking after the family or home  Yes  \n",
       "2191      Working part time - employee (8-29 hours)  NaN  \n",
       "2192                         Retired from paid work  Yes  \n",
       "2193                         Retired from paid work  Yes  \n",
       "\n",
       "[2194 rows x 30 columns]"
      ]
     },
     "execution_count": 13,
     "metadata": {},
     "output_type": "execute_result"
    }
   ],
   "source": [
    "bes_df"
   ]
  },
  {
   "cell_type": "markdown",
   "metadata": {
    "slideshow": {
     "slide_type": "subslide"
    }
   },
   "source": [
    "To get the names of the indices or columns, you can use the `.index` or `.columns` methods of a `DataFrame`."
   ]
  },
  {
   "cell_type": "code",
   "execution_count": 14,
   "metadata": {
    "slideshow": {
     "slide_type": "fragment"
    }
   },
   "outputs": [
    {
     "data": {
      "text/plain": [
       "Index(['finalserialno', 'region', 'Constit_Code', 'Constit_Name',\n",
       "       'Interview_Date', 'total_num_dwel', 'total_num_hous', 'num_elig_people',\n",
       "       'turnoutValidationReg', 'Age', 'a01', 'a02', 'a03', 'e01', 'k01', 'k02',\n",
       "       'k03', 'k11', 'k13', 'k06', 'k08', 'y01', 'y03', 'y06', 'y07', 'y08',\n",
       "       'y09', 'y11', 'y17', 'y18'],\n",
       "      dtype='object')"
      ]
     },
     "execution_count": 14,
     "metadata": {},
     "output_type": "execute_result"
    }
   ],
   "source": [
    "bes_df.columns"
   ]
  },
  {
   "cell_type": "code",
   "execution_count": 15,
   "metadata": {
    "slideshow": {
     "slide_type": "subslide"
    }
   },
   "outputs": [
    {
     "data": {
      "text/plain": [
       "RangeIndex(start=0, stop=2194, step=1)"
      ]
     },
     "execution_count": 15,
     "metadata": {},
     "output_type": "execute_result"
    }
   ],
   "source": [
    "bes_df.index"
   ]
  },
  {
   "cell_type": "markdown",
   "metadata": {
    "slideshow": {
     "slide_type": "slide"
    }
   },
   "source": [
    "# Indexing Data in `Series` and `DataFrame`\n",
    "\n",
    "Indexing refers to selecting one or more elements within a data structure. This is the most basic and useful functionality of a data container."
   ]
  },
  {
   "cell_type": "markdown",
   "metadata": {
    "slideshow": {
     "slide_type": "subslide"
    }
   },
   "source": [
    "## Indexing `pd.Series`\n",
    "\n",
    "We can _view_ elements of a pandas series in a similar method to either a dict or a list using the `[]`.\n",
    "\n",
    "Note that if we pass an integer, it will index like a list, whereas if we pass a key (i.e. a string), it will index like a dict."
   ]
  },
  {
   "cell_type": "code",
   "execution_count": 16,
   "metadata": {
    "slideshow": {
     "slide_type": "fragment"
    }
   },
   "outputs": [
    {
     "name": "stdout",
     "output_type": "stream",
     "text": [
      "1\n",
      "1\n"
     ]
    }
   ],
   "source": [
    "print(ser[0])\n",
    "print(ser['a'])"
   ]
  },
  {
   "cell_type": "markdown",
   "metadata": {
    "slideshow": {
     "slide_type": "subslide"
    }
   },
   "source": [
    "## Indexing `pd.DataFrame`\n",
    "\n",
    "The DataFrame understands the `[]` accessor as if it were a dictionary.\n",
    "\n",
    "Passing a scalar value to the `[]` accessor returns a _view_ of a `Series`; passing a list returns a _view_ of a `DataFrame`"
   ]
  },
  {
   "cell_type": "code",
   "execution_count": 17,
   "metadata": {
    "slideshow": {
     "slide_type": "subslide"
    }
   },
   "outputs": [
    {
     "data": {
      "text/plain": [
       "0            East Midlands\n",
       "1            East Midlands\n",
       "2            East Midlands\n",
       "3            East Midlands\n",
       "4            East Midlands\n",
       "               ...        \n",
       "2189    Yorkshire & Humber\n",
       "2190    Yorkshire & Humber\n",
       "2191    Yorkshire & Humber\n",
       "2192    Yorkshire & Humber\n",
       "2193    Yorkshire & Humber\n",
       "Name: region, Length: 2194, dtype: object"
      ]
     },
     "execution_count": 17,
     "metadata": {},
     "output_type": "execute_result"
    }
   ],
   "source": [
    "bes_df['region'] # Single input: name of column"
   ]
  },
  {
   "cell_type": "code",
   "execution_count": 18,
   "metadata": {
    "slideshow": {
     "slide_type": "subslide"
    }
   },
   "outputs": [
    {
     "data": {
      "text/html": [
       "<div>\n",
       "<style scoped>\n",
       "    .dataframe tbody tr th:only-of-type {\n",
       "        vertical-align: middle;\n",
       "    }\n",
       "\n",
       "    .dataframe tbody tr th {\n",
       "        vertical-align: top;\n",
       "    }\n",
       "\n",
       "    .dataframe thead th {\n",
       "        text-align: right;\n",
       "    }\n",
       "</style>\n",
       "<table border=\"1\" class=\"dataframe\">\n",
       "  <thead>\n",
       "    <tr style=\"text-align: right;\">\n",
       "      <th></th>\n",
       "      <th>a01</th>\n",
       "      <th>region</th>\n",
       "    </tr>\n",
       "  </thead>\n",
       "  <tbody>\n",
       "    <tr>\n",
       "      <th>0</th>\n",
       "      <td>nhs</td>\n",
       "      <td>East Midlands</td>\n",
       "    </tr>\n",
       "    <tr>\n",
       "      <th>1</th>\n",
       "      <td>brexit</td>\n",
       "      <td>East Midlands</td>\n",
       "    </tr>\n",
       "    <tr>\n",
       "      <th>2</th>\n",
       "      <td>society</td>\n",
       "      <td>East Midlands</td>\n",
       "    </tr>\n",
       "    <tr>\n",
       "      <th>3</th>\n",
       "      <td>immigration</td>\n",
       "      <td>East Midlands</td>\n",
       "    </tr>\n",
       "    <tr>\n",
       "      <th>4</th>\n",
       "      <td>brexit</td>\n",
       "      <td>East Midlands</td>\n",
       "    </tr>\n",
       "    <tr>\n",
       "      <th>...</th>\n",
       "      <td>...</td>\n",
       "      <td>...</td>\n",
       "    </tr>\n",
       "    <tr>\n",
       "      <th>2189</th>\n",
       "      <td>TERRORISM - YOU SEE THE NEWS AND IT'S FRIGHTEN...</td>\n",
       "      <td>Yorkshire &amp; Humber</td>\n",
       "    </tr>\n",
       "    <tr>\n",
       "      <th>2190</th>\n",
       "      <td>brexit</td>\n",
       "      <td>Yorkshire &amp; Humber</td>\n",
       "    </tr>\n",
       "    <tr>\n",
       "      <th>2191</th>\n",
       "      <td>BREXIT - HOW IT WILL REDUCE THE NUMBERS OF PEO...</td>\n",
       "      <td>Yorkshire &amp; Humber</td>\n",
       "    </tr>\n",
       "    <tr>\n",
       "      <th>2192</th>\n",
       "      <td>brexit</td>\n",
       "      <td>Yorkshire &amp; Humber</td>\n",
       "    </tr>\n",
       "    <tr>\n",
       "      <th>2193</th>\n",
       "      <td>BREXIT - THE WRONG TIME TO DO IT WITH PROBLEMS...</td>\n",
       "      <td>Yorkshire &amp; Humber</td>\n",
       "    </tr>\n",
       "  </tbody>\n",
       "</table>\n",
       "<p>2194 rows × 2 columns</p>\n",
       "</div>"
      ],
      "text/plain": [
       "                                                    a01              region\n",
       "0                                                   nhs       East Midlands\n",
       "1                                                brexit       East Midlands\n",
       "2                                               society       East Midlands\n",
       "3                                           immigration       East Midlands\n",
       "4                                                brexit       East Midlands\n",
       "...                                                 ...                 ...\n",
       "2189  TERRORISM - YOU SEE THE NEWS AND IT'S FRIGHTEN...  Yorkshire & Humber\n",
       "2190                                             brexit  Yorkshire & Humber\n",
       "2191  BREXIT - HOW IT WILL REDUCE THE NUMBERS OF PEO...  Yorkshire & Humber\n",
       "2192                                             brexit  Yorkshire & Humber\n",
       "2193  BREXIT - THE WRONG TIME TO DO IT WITH PROBLEMS...  Yorkshire & Humber\n",
       "\n",
       "[2194 rows x 2 columns]"
      ]
     },
     "execution_count": 18,
     "metadata": {},
     "output_type": "execute_result"
    }
   ],
   "source": [
    "bes_df[['a01', 'region']] # Multiple input: list of column names"
   ]
  },
  {
   "cell_type": "markdown",
   "metadata": {
    "slideshow": {
     "slide_type": "subslide"
    }
   },
   "source": [
    "## General Indexing: `loc`, `iloc`\n",
    "\n",
    "You can always use the  `loc` and `iloc` methods for indexing."
   ]
  },
  {
   "cell_type": "markdown",
   "metadata": {
    "slideshow": {
     "slide_type": "subslide"
    }
   },
   "source": [
    "### `pd.DataFrame.loc[]`\n",
    "\n",
    "The `pd.DataFrame.loc[ , ]` function takes two arguments inside the `[ , ]`: _row(s)_ and _column(s)_\n",
    "\n",
    "When using `loc`, you must use the column and index _names_."
   ]
  },
  {
   "cell_type": "code",
   "execution_count": 19,
   "metadata": {
    "slideshow": {
     "slide_type": "subslide"
    }
   },
   "outputs": [
    {
     "data": {
      "text/html": [
       "<div>\n",
       "<style scoped>\n",
       "    .dataframe tbody tr th:only-of-type {\n",
       "        vertical-align: middle;\n",
       "    }\n",
       "\n",
       "    .dataframe tbody tr th {\n",
       "        vertical-align: top;\n",
       "    }\n",
       "\n",
       "    .dataframe thead th {\n",
       "        text-align: right;\n",
       "    }\n",
       "</style>\n",
       "<table border=\"1\" class=\"dataframe\">\n",
       "  <thead>\n",
       "    <tr style=\"text-align: right;\">\n",
       "      <th></th>\n",
       "      <th>col1</th>\n",
       "      <th>col2</th>\n",
       "      <th>col3</th>\n",
       "    </tr>\n",
       "  </thead>\n",
       "  <tbody>\n",
       "    <tr>\n",
       "      <th>a</th>\n",
       "      <td>1</td>\n",
       "      <td>1.000000</td>\n",
       "      <td>tea</td>\n",
       "    </tr>\n",
       "    <tr>\n",
       "      <th>b</th>\n",
       "      <td>4</td>\n",
       "      <td>0.250000</td>\n",
       "      <td>coffee</td>\n",
       "    </tr>\n",
       "    <tr>\n",
       "      <th>c</th>\n",
       "      <td>7</td>\n",
       "      <td>0.142857</td>\n",
       "      <td>toffee</td>\n",
       "    </tr>\n",
       "    <tr>\n",
       "      <th>pterodactyl</th>\n",
       "      <td>10</td>\n",
       "      <td>0.100000</td>\n",
       "      <td>key</td>\n",
       "    </tr>\n",
       "  </tbody>\n",
       "</table>\n",
       "</div>"
      ],
      "text/plain": [
       "             col1      col2    col3\n",
       "a               1  1.000000     tea\n",
       "b               4  0.250000  coffee\n",
       "c               7  0.142857  toffee\n",
       "pterodactyl    10  0.100000     key"
      ]
     },
     "execution_count": 19,
     "metadata": {},
     "output_type": "execute_result"
    }
   ],
   "source": [
    "df"
   ]
  },
  {
   "cell_type": "code",
   "execution_count": 20,
   "metadata": {
    "slideshow": {
     "slide_type": "fragment"
    }
   },
   "outputs": [
    {
     "data": {
      "text/plain": [
       "'tea'"
      ]
     },
     "execution_count": 20,
     "metadata": {},
     "output_type": "execute_result"
    }
   ],
   "source": [
    "df.loc['a', 'col3']"
   ]
  },
  {
   "cell_type": "code",
   "execution_count": 21,
   "metadata": {
    "slideshow": {
     "slide_type": "subslide"
    }
   },
   "outputs": [
    {
     "data": {
      "text/html": [
       "<div>\n",
       "<style scoped>\n",
       "    .dataframe tbody tr th:only-of-type {\n",
       "        vertical-align: middle;\n",
       "    }\n",
       "\n",
       "    .dataframe tbody tr th {\n",
       "        vertical-align: top;\n",
       "    }\n",
       "\n",
       "    .dataframe thead th {\n",
       "        text-align: right;\n",
       "    }\n",
       "</style>\n",
       "<table border=\"1\" class=\"dataframe\">\n",
       "  <thead>\n",
       "    <tr style=\"text-align: right;\">\n",
       "      <th></th>\n",
       "      <th>col1</th>\n",
       "      <th>col2</th>\n",
       "    </tr>\n",
       "  </thead>\n",
       "  <tbody>\n",
       "    <tr>\n",
       "      <th>a</th>\n",
       "      <td>1</td>\n",
       "      <td>1.0</td>\n",
       "    </tr>\n",
       "    <tr>\n",
       "      <th>pterodactyl</th>\n",
       "      <td>10</td>\n",
       "      <td>0.1</td>\n",
       "    </tr>\n",
       "  </tbody>\n",
       "</table>\n",
       "</div>"
      ],
      "text/plain": [
       "             col1  col2\n",
       "a               1   1.0\n",
       "pterodactyl    10   0.1"
      ]
     },
     "execution_count": 21,
     "metadata": {},
     "output_type": "execute_result"
    }
   ],
   "source": [
    "df.loc[['a', 'pterodactyl'], ['col1', 'col2']]"
   ]
  },
  {
   "cell_type": "markdown",
   "metadata": {
    "slideshow": {
     "slide_type": "subslide"
    }
   },
   "source": [
    "### `pd.DataFrame.iloc[]`\n",
    "\n",
    "`pd.DataFrame.iloc[ , ]` is similar to `loc`, but uses _locational_ instead of _named_ indexing.\n",
    "\n",
    "This means you should pass the location of elements by their implicit numeric index."
   ]
  },
  {
   "cell_type": "code",
   "execution_count": 22,
   "metadata": {
    "slideshow": {
     "slide_type": "fragment"
    }
   },
   "outputs": [
    {
     "data": {
      "text/plain": [
       "'tea'"
      ]
     },
     "execution_count": 22,
     "metadata": {},
     "output_type": "execute_result"
    }
   ],
   "source": [
    "df.iloc[0, 2]"
   ]
  },
  {
   "cell_type": "code",
   "execution_count": 23,
   "metadata": {
    "slideshow": {
     "slide_type": "fragment"
    }
   },
   "outputs": [
    {
     "data": {
      "text/html": [
       "<div>\n",
       "<style scoped>\n",
       "    .dataframe tbody tr th:only-of-type {\n",
       "        vertical-align: middle;\n",
       "    }\n",
       "\n",
       "    .dataframe tbody tr th {\n",
       "        vertical-align: top;\n",
       "    }\n",
       "\n",
       "    .dataframe thead th {\n",
       "        text-align: right;\n",
       "    }\n",
       "</style>\n",
       "<table border=\"1\" class=\"dataframe\">\n",
       "  <thead>\n",
       "    <tr style=\"text-align: right;\">\n",
       "      <th></th>\n",
       "      <th>col1</th>\n",
       "      <th>col2</th>\n",
       "    </tr>\n",
       "  </thead>\n",
       "  <tbody>\n",
       "    <tr>\n",
       "      <th>a</th>\n",
       "      <td>1</td>\n",
       "      <td>1.0</td>\n",
       "    </tr>\n",
       "    <tr>\n",
       "      <th>pterodactyl</th>\n",
       "      <td>10</td>\n",
       "      <td>0.1</td>\n",
       "    </tr>\n",
       "  </tbody>\n",
       "</table>\n",
       "</div>"
      ],
      "text/plain": [
       "             col1  col2\n",
       "a               1   1.0\n",
       "pterodactyl    10   0.1"
      ]
     },
     "execution_count": 23,
     "metadata": {},
     "output_type": "execute_result"
    }
   ],
   "source": [
    "df.iloc[[0, -1], [0, 1]] # Remember -1 is the location of the last element of an array"
   ]
  },
  {
   "cell_type": "markdown",
   "metadata": {
    "slideshow": {
     "slide_type": "subslide"
    }
   },
   "source": [
    "# Filtering Data on Rows\n",
    "\n",
    "Filtering is similar to indexing, but uses logical conditions to choose a subset of elements.\n",
    "\n",
    "There are a multitude of methods for doing this; I go over the one I use most frequently."
   ]
  },
  {
   "cell_type": "markdown",
   "metadata": {
    "slideshow": {
     "slide_type": "subslide"
    }
   },
   "source": [
    "Say I want to filter BES data for respondents in Scotland.\n",
    "\n",
    "By using a logical condition, `==` with a Series, I get a Series of Booleans indicating whether the condition is True/False for each element."
   ]
  },
  {
   "cell_type": "code",
   "execution_count": 24,
   "metadata": {
    "slideshow": {
     "slide_type": "fragment"
    }
   },
   "outputs": [
    {
     "data": {
      "text/plain": [
       "0       False\n",
       "1       False\n",
       "2       False\n",
       "3       False\n",
       "4       False\n",
       "        ...  \n",
       "2189    False\n",
       "2190    False\n",
       "2191    False\n",
       "2192    False\n",
       "2193    False\n",
       "Name: region, Length: 2194, dtype: bool"
      ]
     },
     "execution_count": 24,
     "metadata": {},
     "output_type": "execute_result"
    }
   ],
   "source": [
    "bes_df['region']=='Scotland'"
   ]
  },
  {
   "cell_type": "code",
   "execution_count": 25,
   "metadata": {
    "slideshow": {
     "slide_type": "subslide"
    }
   },
   "outputs": [
    {
     "data": {
      "text/plain": [
       "191"
      ]
     },
     "execution_count": 25,
     "metadata": {},
     "output_type": "execute_result"
    }
   ],
   "source": [
    "# Remember, we can use the sum function with Booleans to get the number of Trues.\n",
    "sum(bes_df['region']=='Scotland')"
   ]
  },
  {
   "cell_type": "markdown",
   "metadata": {
    "slideshow": {
     "slide_type": "subslide"
    }
   },
   "source": [
    "We can pass this to the the indexer to get a subset of the `DataFrame` or `Series`!"
   ]
  },
  {
   "cell_type": "code",
   "execution_count": 26,
   "metadata": {
    "slideshow": {
     "slide_type": "fragment"
    }
   },
   "outputs": [
    {
     "data": {
      "text/html": [
       "<div>\n",
       "<style scoped>\n",
       "    .dataframe tbody tr th:only-of-type {\n",
       "        vertical-align: middle;\n",
       "    }\n",
       "\n",
       "    .dataframe tbody tr th {\n",
       "        vertical-align: top;\n",
       "    }\n",
       "\n",
       "    .dataframe thead th {\n",
       "        text-align: right;\n",
       "    }\n",
       "</style>\n",
       "<table border=\"1\" class=\"dataframe\">\n",
       "  <thead>\n",
       "    <tr style=\"text-align: right;\">\n",
       "      <th></th>\n",
       "      <th>finalserialno</th>\n",
       "      <th>region</th>\n",
       "      <th>Constit_Code</th>\n",
       "      <th>Constit_Name</th>\n",
       "      <th>Interview_Date</th>\n",
       "      <th>total_num_dwel</th>\n",
       "      <th>total_num_hous</th>\n",
       "      <th>num_elig_people</th>\n",
       "      <th>turnoutValidationReg</th>\n",
       "      <th>Age</th>\n",
       "      <th>...</th>\n",
       "      <th>k08</th>\n",
       "      <th>y01</th>\n",
       "      <th>y03</th>\n",
       "      <th>y06</th>\n",
       "      <th>y07</th>\n",
       "      <th>y08</th>\n",
       "      <th>y09</th>\n",
       "      <th>y11</th>\n",
       "      <th>y17</th>\n",
       "      <th>y18</th>\n",
       "    </tr>\n",
       "  </thead>\n",
       "  <tbody>\n",
       "    <tr>\n",
       "      <th>1011</th>\n",
       "      <td>37318</td>\n",
       "      <td>Scotland</td>\n",
       "      <td>Angus</td>\n",
       "      <td>S14000004</td>\n",
       "      <td>13/07/2017</td>\n",
       "      <td>1</td>\n",
       "      <td>1</td>\n",
       "      <td>1</td>\n",
       "      <td>NaN</td>\n",
       "      <td>63.0</td>\n",
       "      <td>...</td>\n",
       "      <td>Yes</td>\n",
       "      <td>GBP 10,400 - GBP 15,599</td>\n",
       "      <td>Rented from local authority</td>\n",
       "      <td>Presbyterian/Church of Scotland</td>\n",
       "      <td>Less often</td>\n",
       "      <td>No</td>\n",
       "      <td>Female</td>\n",
       "      <td>English/Welsh/Scottish/Northern Irish/British</td>\n",
       "      <td>Working full time -  employee (30+ hours)</td>\n",
       "      <td>NaN</td>\n",
       "    </tr>\n",
       "    <tr>\n",
       "      <th>1012</th>\n",
       "      <td>37320</td>\n",
       "      <td>Scotland</td>\n",
       "      <td>Angus</td>\n",
       "      <td>S14000004</td>\n",
       "      <td>09/08/2017</td>\n",
       "      <td>1</td>\n",
       "      <td>1</td>\n",
       "      <td>1</td>\n",
       "      <td>NaN</td>\n",
       "      <td>80.0</td>\n",
       "      <td>...</td>\n",
       "      <td>No</td>\n",
       "      <td>GBP 75,000 - GBP 99,999</td>\n",
       "      <td>Own home outright</td>\n",
       "      <td>Presbyterian/Church of Scotland</td>\n",
       "      <td>Less often but at least once a month</td>\n",
       "      <td>No</td>\n",
       "      <td>Female</td>\n",
       "      <td>English/Welsh/Scottish/Northern Irish/British</td>\n",
       "      <td>Retired from paid work</td>\n",
       "      <td>No</td>\n",
       "    </tr>\n",
       "    <tr>\n",
       "      <th>1013</th>\n",
       "      <td>37321</td>\n",
       "      <td>Scotland</td>\n",
       "      <td>Angus</td>\n",
       "      <td>S14000004</td>\n",
       "      <td>18/07/2017</td>\n",
       "      <td>1</td>\n",
       "      <td>1</td>\n",
       "      <td>2</td>\n",
       "      <td>NaN</td>\n",
       "      <td>62.0</td>\n",
       "      <td>...</td>\n",
       "      <td>No</td>\n",
       "      <td>GBP 26,000 - GBP 31,199</td>\n",
       "      <td>It belongs to a Housing Association</td>\n",
       "      <td>Christian - no denomination</td>\n",
       "      <td>Less often</td>\n",
       "      <td>No</td>\n",
       "      <td>Female</td>\n",
       "      <td>English/Welsh/Scottish/Northern Irish/British</td>\n",
       "      <td>Retired from paid work</td>\n",
       "      <td>No</td>\n",
       "    </tr>\n",
       "    <tr>\n",
       "      <th>1014</th>\n",
       "      <td>37322</td>\n",
       "      <td>Scotland</td>\n",
       "      <td>Angus</td>\n",
       "      <td>S14000004</td>\n",
       "      <td>13/07/2017</td>\n",
       "      <td>1</td>\n",
       "      <td>1</td>\n",
       "      <td>1</td>\n",
       "      <td>Not voted-registered</td>\n",
       "      <td>60.0</td>\n",
       "      <td>...</td>\n",
       "      <td>No</td>\n",
       "      <td>GBP 5,200 - GBP 10,399</td>\n",
       "      <td>Own home outright</td>\n",
       "      <td>No religion</td>\n",
       "      <td>NaN</td>\n",
       "      <td>No</td>\n",
       "      <td>Male</td>\n",
       "      <td>English/Welsh/Scottish/Northern Irish/British</td>\n",
       "      <td>Not working because long-term sick or disabled</td>\n",
       "      <td>No</td>\n",
       "    </tr>\n",
       "    <tr>\n",
       "      <th>1015</th>\n",
       "      <td>37324</td>\n",
       "      <td>Scotland</td>\n",
       "      <td>Angus</td>\n",
       "      <td>S14000004</td>\n",
       "      <td>13/07/2017</td>\n",
       "      <td>1</td>\n",
       "      <td>1</td>\n",
       "      <td>1</td>\n",
       "      <td>Voted</td>\n",
       "      <td>52.0</td>\n",
       "      <td>...</td>\n",
       "      <td>Yes</td>\n",
       "      <td>GBP 26,000 - GBP 31,199</td>\n",
       "      <td>Own home outright</td>\n",
       "      <td>Church of England/ Anglican/Episcopal</td>\n",
       "      <td>Less often</td>\n",
       "      <td>No</td>\n",
       "      <td>Female</td>\n",
       "      <td>English/Welsh/Scottish/Northern Irish/British</td>\n",
       "      <td>Working part time - employee (8-29 hours)</td>\n",
       "      <td>NaN</td>\n",
       "    </tr>\n",
       "    <tr>\n",
       "      <th>...</th>\n",
       "      <td>...</td>\n",
       "      <td>...</td>\n",
       "      <td>...</td>\n",
       "      <td>...</td>\n",
       "      <td>...</td>\n",
       "      <td>...</td>\n",
       "      <td>...</td>\n",
       "      <td>...</td>\n",
       "      <td>...</td>\n",
       "      <td>...</td>\n",
       "      <td>...</td>\n",
       "      <td>...</td>\n",
       "      <td>...</td>\n",
       "      <td>...</td>\n",
       "      <td>...</td>\n",
       "      <td>...</td>\n",
       "      <td>...</td>\n",
       "      <td>...</td>\n",
       "      <td>...</td>\n",
       "      <td>...</td>\n",
       "      <td>...</td>\n",
       "    </tr>\n",
       "    <tr>\n",
       "      <th>1197</th>\n",
       "      <td>42417</td>\n",
       "      <td>Scotland</td>\n",
       "      <td>West Dunba</td>\n",
       "      <td>S14000059</td>\n",
       "      <td>14/08/2017</td>\n",
       "      <td>1</td>\n",
       "      <td>1</td>\n",
       "      <td>1</td>\n",
       "      <td>Voted</td>\n",
       "      <td>59.0</td>\n",
       "      <td>...</td>\n",
       "      <td>No</td>\n",
       "      <td>GBP 20,800 - GBP 25,999</td>\n",
       "      <td>Own home outright</td>\n",
       "      <td>Roman Catholic</td>\n",
       "      <td>Less often but at least once a year</td>\n",
       "      <td>Yes: trade union</td>\n",
       "      <td>Male</td>\n",
       "      <td>English/Welsh/Scottish/Northern Irish/British</td>\n",
       "      <td>Working full time -  employee (30+ hours)</td>\n",
       "      <td>NaN</td>\n",
       "    </tr>\n",
       "    <tr>\n",
       "      <th>1198</th>\n",
       "      <td>42418</td>\n",
       "      <td>Scotland</td>\n",
       "      <td>West Dunba</td>\n",
       "      <td>S14000059</td>\n",
       "      <td>23/08/2017</td>\n",
       "      <td>1</td>\n",
       "      <td>1</td>\n",
       "      <td>2</td>\n",
       "      <td>NaN</td>\n",
       "      <td>70.0</td>\n",
       "      <td>...</td>\n",
       "      <td>No</td>\n",
       "      <td>Refused</td>\n",
       "      <td>Own home outright</td>\n",
       "      <td>Christian - no denomination</td>\n",
       "      <td>Less often</td>\n",
       "      <td>No</td>\n",
       "      <td>Female</td>\n",
       "      <td>English/Welsh/Scottish/Northern Irish/British</td>\n",
       "      <td>Retired from paid work</td>\n",
       "      <td>Yes</td>\n",
       "    </tr>\n",
       "    <tr>\n",
       "      <th>1199</th>\n",
       "      <td>42419</td>\n",
       "      <td>Scotland</td>\n",
       "      <td>West Dunba</td>\n",
       "      <td>S14000059</td>\n",
       "      <td>15/08/2017</td>\n",
       "      <td>1</td>\n",
       "      <td>1</td>\n",
       "      <td>2</td>\n",
       "      <td>Voted</td>\n",
       "      <td>89.0</td>\n",
       "      <td>...</td>\n",
       "      <td>No</td>\n",
       "      <td>GBP 15,600 - GBP 20,799</td>\n",
       "      <td>Own home outright</td>\n",
       "      <td>No religion</td>\n",
       "      <td>NaN</td>\n",
       "      <td>No</td>\n",
       "      <td>Male</td>\n",
       "      <td>English/Welsh/Scottish/Northern Irish/British</td>\n",
       "      <td>Working full time - self-employed (30+ hours)</td>\n",
       "      <td>NaN</td>\n",
       "    </tr>\n",
       "    <tr>\n",
       "      <th>1200</th>\n",
       "      <td>42424</td>\n",
       "      <td>Scotland</td>\n",
       "      <td>West Dunba</td>\n",
       "      <td>S14000059</td>\n",
       "      <td>20/08/2017</td>\n",
       "      <td>1</td>\n",
       "      <td>1</td>\n",
       "      <td>1</td>\n",
       "      <td>Not voted-registered</td>\n",
       "      <td>46.0</td>\n",
       "      <td>...</td>\n",
       "      <td>Yes</td>\n",
       "      <td>Refused</td>\n",
       "      <td>Rented from local authority</td>\n",
       "      <td>No religion</td>\n",
       "      <td>NaN</td>\n",
       "      <td>No</td>\n",
       "      <td>Male</td>\n",
       "      <td>English/Welsh/Scottish/Northern Irish/British</td>\n",
       "      <td>Working full time -  employee (30+ hours)</td>\n",
       "      <td>NaN</td>\n",
       "    </tr>\n",
       "    <tr>\n",
       "      <th>1201</th>\n",
       "      <td>42425</td>\n",
       "      <td>Scotland</td>\n",
       "      <td>West Dunba</td>\n",
       "      <td>S14000059</td>\n",
       "      <td>15/08/2017</td>\n",
       "      <td>1</td>\n",
       "      <td>1</td>\n",
       "      <td>2</td>\n",
       "      <td>Not voted-unregistered</td>\n",
       "      <td>44.0</td>\n",
       "      <td>...</td>\n",
       "      <td>Yes</td>\n",
       "      <td>GBP 40,000 - GBP 44,999</td>\n",
       "      <td>Own home on mortgage</td>\n",
       "      <td>No religion</td>\n",
       "      <td>NaN</td>\n",
       "      <td>No</td>\n",
       "      <td>Female</td>\n",
       "      <td>English/Welsh/Scottish/Northern Irish/British</td>\n",
       "      <td>Working full time -  employee (30+ hours)</td>\n",
       "      <td>NaN</td>\n",
       "    </tr>\n",
       "  </tbody>\n",
       "</table>\n",
       "<p>191 rows × 30 columns</p>\n",
       "</div>"
      ],
      "text/plain": [
       "      finalserialno    region Constit_Code Constit_Name Interview_Date  \\\n",
       "1011          37318  Scotland        Angus    S14000004     13/07/2017   \n",
       "1012          37320  Scotland        Angus    S14000004     09/08/2017   \n",
       "1013          37321  Scotland        Angus    S14000004     18/07/2017   \n",
       "1014          37322  Scotland        Angus    S14000004     13/07/2017   \n",
       "1015          37324  Scotland        Angus    S14000004     13/07/2017   \n",
       "...             ...       ...          ...          ...            ...   \n",
       "1197          42417  Scotland   West Dunba    S14000059     14/08/2017   \n",
       "1198          42418  Scotland   West Dunba    S14000059     23/08/2017   \n",
       "1199          42419  Scotland   West Dunba    S14000059     15/08/2017   \n",
       "1200          42424  Scotland   West Dunba    S14000059     20/08/2017   \n",
       "1201          42425  Scotland   West Dunba    S14000059     15/08/2017   \n",
       "\n",
       "     total_num_dwel total_num_hous num_elig_people    turnoutValidationReg  \\\n",
       "1011              1              1               1                     NaN   \n",
       "1012              1              1               1                     NaN   \n",
       "1013              1              1               2                     NaN   \n",
       "1014              1              1               1    Not voted-registered   \n",
       "1015              1              1               1                   Voted   \n",
       "...             ...            ...             ...                     ...   \n",
       "1197              1              1               1                   Voted   \n",
       "1198              1              1               2                     NaN   \n",
       "1199              1              1               2                   Voted   \n",
       "1200              1              1               1    Not voted-registered   \n",
       "1201              1              1               2  Not voted-unregistered   \n",
       "\n",
       "       Age  ...  k08                      y01  \\\n",
       "1011  63.0  ...  Yes  GBP 10,400 - GBP 15,599   \n",
       "1012  80.0  ...   No  GBP 75,000 - GBP 99,999   \n",
       "1013  62.0  ...   No  GBP 26,000 - GBP 31,199   \n",
       "1014  60.0  ...   No   GBP 5,200 - GBP 10,399   \n",
       "1015  52.0  ...  Yes  GBP 26,000 - GBP 31,199   \n",
       "...    ...  ...  ...                      ...   \n",
       "1197  59.0  ...   No  GBP 20,800 - GBP 25,999   \n",
       "1198  70.0  ...   No                  Refused   \n",
       "1199  89.0  ...   No  GBP 15,600 - GBP 20,799   \n",
       "1200  46.0  ...  Yes                  Refused   \n",
       "1201  44.0  ...  Yes  GBP 40,000 - GBP 44,999   \n",
       "\n",
       "                                      y03  \\\n",
       "1011          Rented from local authority   \n",
       "1012                    Own home outright   \n",
       "1013  It belongs to a Housing Association   \n",
       "1014                    Own home outright   \n",
       "1015                    Own home outright   \n",
       "...                                   ...   \n",
       "1197                    Own home outright   \n",
       "1198                    Own home outright   \n",
       "1199                    Own home outright   \n",
       "1200          Rented from local authority   \n",
       "1201                 Own home on mortgage   \n",
       "\n",
       "                                        y06  \\\n",
       "1011        Presbyterian/Church of Scotland   \n",
       "1012        Presbyterian/Church of Scotland   \n",
       "1013            Christian - no denomination   \n",
       "1014                            No religion   \n",
       "1015  Church of England/ Anglican/Episcopal   \n",
       "...                                     ...   \n",
       "1197                         Roman Catholic   \n",
       "1198            Christian - no denomination   \n",
       "1199                            No religion   \n",
       "1200                            No religion   \n",
       "1201                            No religion   \n",
       "\n",
       "                                       y07               y08     y09  \\\n",
       "1011                            Less often                No  Female   \n",
       "1012  Less often but at least once a month                No  Female   \n",
       "1013                            Less often                No  Female   \n",
       "1014                                   NaN                No    Male   \n",
       "1015                            Less often                No  Female   \n",
       "...                                    ...               ...     ...   \n",
       "1197   Less often but at least once a year  Yes: trade union    Male   \n",
       "1198                            Less often                No  Female   \n",
       "1199                                   NaN                No    Male   \n",
       "1200                                   NaN                No    Male   \n",
       "1201                                   NaN                No  Female   \n",
       "\n",
       "                                                y11  \\\n",
       "1011  English/Welsh/Scottish/Northern Irish/British   \n",
       "1012  English/Welsh/Scottish/Northern Irish/British   \n",
       "1013  English/Welsh/Scottish/Northern Irish/British   \n",
       "1014  English/Welsh/Scottish/Northern Irish/British   \n",
       "1015  English/Welsh/Scottish/Northern Irish/British   \n",
       "...                                             ...   \n",
       "1197  English/Welsh/Scottish/Northern Irish/British   \n",
       "1198  English/Welsh/Scottish/Northern Irish/British   \n",
       "1199  English/Welsh/Scottish/Northern Irish/British   \n",
       "1200  English/Welsh/Scottish/Northern Irish/British   \n",
       "1201  English/Welsh/Scottish/Northern Irish/British   \n",
       "\n",
       "                                                 y17  y18  \n",
       "1011       Working full time -  employee (30+ hours)  NaN  \n",
       "1012                          Retired from paid work   No  \n",
       "1013                          Retired from paid work   No  \n",
       "1014  Not working because long-term sick or disabled   No  \n",
       "1015       Working part time - employee (8-29 hours)  NaN  \n",
       "...                                              ...  ...  \n",
       "1197       Working full time -  employee (30+ hours)  NaN  \n",
       "1198                          Retired from paid work  Yes  \n",
       "1199   Working full time - self-employed (30+ hours)  NaN  \n",
       "1200       Working full time -  employee (30+ hours)  NaN  \n",
       "1201       Working full time -  employee (30+ hours)  NaN  \n",
       "\n",
       "[191 rows x 30 columns]"
      ]
     },
     "execution_count": 26,
     "metadata": {},
     "output_type": "execute_result"
    }
   ],
   "source": [
    "bes_df.loc[bes_df['region']=='Scotland', :] # \":\" indicates \"all values\""
   ]
  },
  {
   "cell_type": "markdown",
   "metadata": {
    "slideshow": {
     "slide_type": "subslide"
    }
   },
   "source": [
    "Filtering on multiple values is similar. Use multiple conditions joined by a binary logical operator (and: `&`, or: `|`)\n",
    "\n",
    "Remember to use parentheses to ensure that the items are evaluated in the correct order."
   ]
  },
  {
   "cell_type": "code",
   "execution_count": 27,
   "metadata": {
    "slideshow": {
     "slide_type": "subslide"
    }
   },
   "outputs": [],
   "source": [
    "cond = (bes_df['region']=='Scotland') & (bes_df['Constit_Code']=='Angus')"
   ]
  },
  {
   "cell_type": "code",
   "execution_count": 28,
   "metadata": {
    "slideshow": {
     "slide_type": "fragment"
    }
   },
   "outputs": [
    {
     "data": {
      "text/html": [
       "<div>\n",
       "<style scoped>\n",
       "    .dataframe tbody tr th:only-of-type {\n",
       "        vertical-align: middle;\n",
       "    }\n",
       "\n",
       "    .dataframe tbody tr th {\n",
       "        vertical-align: top;\n",
       "    }\n",
       "\n",
       "    .dataframe thead th {\n",
       "        text-align: right;\n",
       "    }\n",
       "</style>\n",
       "<table border=\"1\" class=\"dataframe\">\n",
       "  <thead>\n",
       "    <tr style=\"text-align: right;\">\n",
       "      <th></th>\n",
       "      <th>finalserialno</th>\n",
       "      <th>region</th>\n",
       "      <th>Constit_Code</th>\n",
       "      <th>Constit_Name</th>\n",
       "      <th>Interview_Date</th>\n",
       "      <th>total_num_dwel</th>\n",
       "      <th>total_num_hous</th>\n",
       "      <th>num_elig_people</th>\n",
       "      <th>turnoutValidationReg</th>\n",
       "      <th>Age</th>\n",
       "      <th>...</th>\n",
       "      <th>k08</th>\n",
       "      <th>y01</th>\n",
       "      <th>y03</th>\n",
       "      <th>y06</th>\n",
       "      <th>y07</th>\n",
       "      <th>y08</th>\n",
       "      <th>y09</th>\n",
       "      <th>y11</th>\n",
       "      <th>y17</th>\n",
       "      <th>y18</th>\n",
       "    </tr>\n",
       "  </thead>\n",
       "  <tbody>\n",
       "    <tr>\n",
       "      <th>1011</th>\n",
       "      <td>37318</td>\n",
       "      <td>Scotland</td>\n",
       "      <td>Angus</td>\n",
       "      <td>S14000004</td>\n",
       "      <td>13/07/2017</td>\n",
       "      <td>1</td>\n",
       "      <td>1</td>\n",
       "      <td>1</td>\n",
       "      <td>NaN</td>\n",
       "      <td>63.0</td>\n",
       "      <td>...</td>\n",
       "      <td>Yes</td>\n",
       "      <td>GBP 10,400 - GBP 15,599</td>\n",
       "      <td>Rented from local authority</td>\n",
       "      <td>Presbyterian/Church of Scotland</td>\n",
       "      <td>Less often</td>\n",
       "      <td>No</td>\n",
       "      <td>Female</td>\n",
       "      <td>English/Welsh/Scottish/Northern Irish/British</td>\n",
       "      <td>Working full time -  employee (30+ hours)</td>\n",
       "      <td>NaN</td>\n",
       "    </tr>\n",
       "    <tr>\n",
       "      <th>1012</th>\n",
       "      <td>37320</td>\n",
       "      <td>Scotland</td>\n",
       "      <td>Angus</td>\n",
       "      <td>S14000004</td>\n",
       "      <td>09/08/2017</td>\n",
       "      <td>1</td>\n",
       "      <td>1</td>\n",
       "      <td>1</td>\n",
       "      <td>NaN</td>\n",
       "      <td>80.0</td>\n",
       "      <td>...</td>\n",
       "      <td>No</td>\n",
       "      <td>GBP 75,000 - GBP 99,999</td>\n",
       "      <td>Own home outright</td>\n",
       "      <td>Presbyterian/Church of Scotland</td>\n",
       "      <td>Less often but at least once a month</td>\n",
       "      <td>No</td>\n",
       "      <td>Female</td>\n",
       "      <td>English/Welsh/Scottish/Northern Irish/British</td>\n",
       "      <td>Retired from paid work</td>\n",
       "      <td>No</td>\n",
       "    </tr>\n",
       "    <tr>\n",
       "      <th>1013</th>\n",
       "      <td>37321</td>\n",
       "      <td>Scotland</td>\n",
       "      <td>Angus</td>\n",
       "      <td>S14000004</td>\n",
       "      <td>18/07/2017</td>\n",
       "      <td>1</td>\n",
       "      <td>1</td>\n",
       "      <td>2</td>\n",
       "      <td>NaN</td>\n",
       "      <td>62.0</td>\n",
       "      <td>...</td>\n",
       "      <td>No</td>\n",
       "      <td>GBP 26,000 - GBP 31,199</td>\n",
       "      <td>It belongs to a Housing Association</td>\n",
       "      <td>Christian - no denomination</td>\n",
       "      <td>Less often</td>\n",
       "      <td>No</td>\n",
       "      <td>Female</td>\n",
       "      <td>English/Welsh/Scottish/Northern Irish/British</td>\n",
       "      <td>Retired from paid work</td>\n",
       "      <td>No</td>\n",
       "    </tr>\n",
       "    <tr>\n",
       "      <th>1014</th>\n",
       "      <td>37322</td>\n",
       "      <td>Scotland</td>\n",
       "      <td>Angus</td>\n",
       "      <td>S14000004</td>\n",
       "      <td>13/07/2017</td>\n",
       "      <td>1</td>\n",
       "      <td>1</td>\n",
       "      <td>1</td>\n",
       "      <td>Not voted-registered</td>\n",
       "      <td>60.0</td>\n",
       "      <td>...</td>\n",
       "      <td>No</td>\n",
       "      <td>GBP 5,200 - GBP 10,399</td>\n",
       "      <td>Own home outright</td>\n",
       "      <td>No religion</td>\n",
       "      <td>NaN</td>\n",
       "      <td>No</td>\n",
       "      <td>Male</td>\n",
       "      <td>English/Welsh/Scottish/Northern Irish/British</td>\n",
       "      <td>Not working because long-term sick or disabled</td>\n",
       "      <td>No</td>\n",
       "    </tr>\n",
       "    <tr>\n",
       "      <th>1015</th>\n",
       "      <td>37324</td>\n",
       "      <td>Scotland</td>\n",
       "      <td>Angus</td>\n",
       "      <td>S14000004</td>\n",
       "      <td>13/07/2017</td>\n",
       "      <td>1</td>\n",
       "      <td>1</td>\n",
       "      <td>1</td>\n",
       "      <td>Voted</td>\n",
       "      <td>52.0</td>\n",
       "      <td>...</td>\n",
       "      <td>Yes</td>\n",
       "      <td>GBP 26,000 - GBP 31,199</td>\n",
       "      <td>Own home outright</td>\n",
       "      <td>Church of England/ Anglican/Episcopal</td>\n",
       "      <td>Less often</td>\n",
       "      <td>No</td>\n",
       "      <td>Female</td>\n",
       "      <td>English/Welsh/Scottish/Northern Irish/British</td>\n",
       "      <td>Working part time - employee (8-29 hours)</td>\n",
       "      <td>NaN</td>\n",
       "    </tr>\n",
       "    <tr>\n",
       "      <th>1016</th>\n",
       "      <td>37415</td>\n",
       "      <td>Scotland</td>\n",
       "      <td>Angus</td>\n",
       "      <td>S14000004</td>\n",
       "      <td>14/07/2017</td>\n",
       "      <td>1</td>\n",
       "      <td>1</td>\n",
       "      <td>2</td>\n",
       "      <td>Voted</td>\n",
       "      <td>65.0</td>\n",
       "      <td>...</td>\n",
       "      <td>Yes</td>\n",
       "      <td>GBP 100,000 or more</td>\n",
       "      <td>Own home outright</td>\n",
       "      <td>Presbyterian/Church of Scotland</td>\n",
       "      <td>Once a week or more</td>\n",
       "      <td>Yes: trade union</td>\n",
       "      <td>Male</td>\n",
       "      <td>English/Welsh/Scottish/Northern Irish/British</td>\n",
       "      <td>Working part time - employee (8-29 hours)</td>\n",
       "      <td>NaN</td>\n",
       "    </tr>\n",
       "    <tr>\n",
       "      <th>1017</th>\n",
       "      <td>37417</td>\n",
       "      <td>Scotland</td>\n",
       "      <td>Angus</td>\n",
       "      <td>S14000004</td>\n",
       "      <td>25/07/2017</td>\n",
       "      <td>1</td>\n",
       "      <td>1</td>\n",
       "      <td>2</td>\n",
       "      <td>NaN</td>\n",
       "      <td>37.0</td>\n",
       "      <td>...</td>\n",
       "      <td>No</td>\n",
       "      <td>GBP 40,000 - GBP 44,999</td>\n",
       "      <td>Own home on mortgage</td>\n",
       "      <td>No religion</td>\n",
       "      <td>NaN</td>\n",
       "      <td>No</td>\n",
       "      <td>Female</td>\n",
       "      <td>English/Welsh/Scottish/Northern Irish/British</td>\n",
       "      <td>Working full time -  employee (30+ hours)</td>\n",
       "      <td>NaN</td>\n",
       "    </tr>\n",
       "    <tr>\n",
       "      <th>1018</th>\n",
       "      <td>37418</td>\n",
       "      <td>Scotland</td>\n",
       "      <td>Angus</td>\n",
       "      <td>S14000004</td>\n",
       "      <td>14/07/2017</td>\n",
       "      <td>1</td>\n",
       "      <td>1</td>\n",
       "      <td>1</td>\n",
       "      <td>NaN</td>\n",
       "      <td>59.0</td>\n",
       "      <td>...</td>\n",
       "      <td>No</td>\n",
       "      <td>Don`t know</td>\n",
       "      <td>Own home outright</td>\n",
       "      <td>Church of England/ Anglican/Episcopal</td>\n",
       "      <td>Less often but at least twice a year</td>\n",
       "      <td>No</td>\n",
       "      <td>Female</td>\n",
       "      <td>English/Welsh/Scottish/Northern Irish/British</td>\n",
       "      <td>Retired from paid work</td>\n",
       "      <td>No</td>\n",
       "    </tr>\n",
       "    <tr>\n",
       "      <th>1019</th>\n",
       "      <td>37421</td>\n",
       "      <td>Scotland</td>\n",
       "      <td>Angus</td>\n",
       "      <td>S14000004</td>\n",
       "      <td>14/07/2017</td>\n",
       "      <td>1</td>\n",
       "      <td>1</td>\n",
       "      <td>1</td>\n",
       "      <td>NaN</td>\n",
       "      <td>63.0</td>\n",
       "      <td>...</td>\n",
       "      <td>No</td>\n",
       "      <td>GBP 26,000 - GBP 31,199</td>\n",
       "      <td>Rented from local authority</td>\n",
       "      <td>Presbyterian/Church of Scotland</td>\n",
       "      <td>Less often but at least once a month</td>\n",
       "      <td>No</td>\n",
       "      <td>Female</td>\n",
       "      <td>English/Welsh/Scottish/Northern Irish/British</td>\n",
       "      <td>Not working because long-term sick or disabled</td>\n",
       "      <td>No</td>\n",
       "    </tr>\n",
       "    <tr>\n",
       "      <th>1020</th>\n",
       "      <td>37423</td>\n",
       "      <td>Scotland</td>\n",
       "      <td>Angus</td>\n",
       "      <td>S14000004</td>\n",
       "      <td>14/07/2017</td>\n",
       "      <td>1</td>\n",
       "      <td>1</td>\n",
       "      <td>1</td>\n",
       "      <td>NaN</td>\n",
       "      <td>66.0</td>\n",
       "      <td>...</td>\n",
       "      <td>No</td>\n",
       "      <td>GBP 50,000 - GBP 59,999</td>\n",
       "      <td>Rented from local authority</td>\n",
       "      <td>Presbyterian/Church of Scotland</td>\n",
       "      <td>Less often but at least twice a year</td>\n",
       "      <td>No</td>\n",
       "      <td>Female</td>\n",
       "      <td>English/Welsh/Scottish/Northern Irish/British</td>\n",
       "      <td>Retired from paid work</td>\n",
       "      <td>No</td>\n",
       "    </tr>\n",
       "    <tr>\n",
       "      <th>1021</th>\n",
       "      <td>37424</td>\n",
       "      <td>Scotland</td>\n",
       "      <td>Angus</td>\n",
       "      <td>S14000004</td>\n",
       "      <td>14/07/2017</td>\n",
       "      <td>1</td>\n",
       "      <td>1</td>\n",
       "      <td>2</td>\n",
       "      <td>NaN</td>\n",
       "      <td>37.0</td>\n",
       "      <td>...</td>\n",
       "      <td>No</td>\n",
       "      <td>Under GBP 2,600</td>\n",
       "      <td>Own home on mortgage</td>\n",
       "      <td>Christian - no denomination</td>\n",
       "      <td>Less often but at least once a year</td>\n",
       "      <td>No</td>\n",
       "      <td>Male</td>\n",
       "      <td>Polish</td>\n",
       "      <td>Working full time -  employee (30+ hours)</td>\n",
       "      <td>NaN</td>\n",
       "    </tr>\n",
       "    <tr>\n",
       "      <th>1022</th>\n",
       "      <td>37426</td>\n",
       "      <td>Scotland</td>\n",
       "      <td>Angus</td>\n",
       "      <td>S14000004</td>\n",
       "      <td>15/07/2017</td>\n",
       "      <td>1</td>\n",
       "      <td>1</td>\n",
       "      <td>1</td>\n",
       "      <td>Voted</td>\n",
       "      <td>59.0</td>\n",
       "      <td>...</td>\n",
       "      <td>No</td>\n",
       "      <td>GBP 2,600 - GBP 5,199</td>\n",
       "      <td>Rented from local authority</td>\n",
       "      <td>Christian - no denomination</td>\n",
       "      <td>Less often</td>\n",
       "      <td>No</td>\n",
       "      <td>Male</td>\n",
       "      <td>English/Welsh/Scottish/Northern Irish/British</td>\n",
       "      <td>Unemployed and actively seeking work</td>\n",
       "      <td>No</td>\n",
       "    </tr>\n",
       "  </tbody>\n",
       "</table>\n",
       "<p>12 rows × 30 columns</p>\n",
       "</div>"
      ],
      "text/plain": [
       "      finalserialno    region Constit_Code Constit_Name Interview_Date  \\\n",
       "1011          37318  Scotland        Angus    S14000004     13/07/2017   \n",
       "1012          37320  Scotland        Angus    S14000004     09/08/2017   \n",
       "1013          37321  Scotland        Angus    S14000004     18/07/2017   \n",
       "1014          37322  Scotland        Angus    S14000004     13/07/2017   \n",
       "1015          37324  Scotland        Angus    S14000004     13/07/2017   \n",
       "1016          37415  Scotland        Angus    S14000004     14/07/2017   \n",
       "1017          37417  Scotland        Angus    S14000004     25/07/2017   \n",
       "1018          37418  Scotland        Angus    S14000004     14/07/2017   \n",
       "1019          37421  Scotland        Angus    S14000004     14/07/2017   \n",
       "1020          37423  Scotland        Angus    S14000004     14/07/2017   \n",
       "1021          37424  Scotland        Angus    S14000004     14/07/2017   \n",
       "1022          37426  Scotland        Angus    S14000004     15/07/2017   \n",
       "\n",
       "     total_num_dwel total_num_hous num_elig_people  turnoutValidationReg  \\\n",
       "1011              1              1               1                   NaN   \n",
       "1012              1              1               1                   NaN   \n",
       "1013              1              1               2                   NaN   \n",
       "1014              1              1               1  Not voted-registered   \n",
       "1015              1              1               1                 Voted   \n",
       "1016              1              1               2                 Voted   \n",
       "1017              1              1               2                   NaN   \n",
       "1018              1              1               1                   NaN   \n",
       "1019              1              1               1                   NaN   \n",
       "1020              1              1               1                   NaN   \n",
       "1021              1              1               2                   NaN   \n",
       "1022              1              1               1                 Voted   \n",
       "\n",
       "       Age  ...  k08                      y01  \\\n",
       "1011  63.0  ...  Yes  GBP 10,400 - GBP 15,599   \n",
       "1012  80.0  ...   No  GBP 75,000 - GBP 99,999   \n",
       "1013  62.0  ...   No  GBP 26,000 - GBP 31,199   \n",
       "1014  60.0  ...   No   GBP 5,200 - GBP 10,399   \n",
       "1015  52.0  ...  Yes  GBP 26,000 - GBP 31,199   \n",
       "1016  65.0  ...  Yes      GBP 100,000 or more   \n",
       "1017  37.0  ...   No  GBP 40,000 - GBP 44,999   \n",
       "1018  59.0  ...   No               Don`t know   \n",
       "1019  63.0  ...   No  GBP 26,000 - GBP 31,199   \n",
       "1020  66.0  ...   No  GBP 50,000 - GBP 59,999   \n",
       "1021  37.0  ...   No          Under GBP 2,600   \n",
       "1022  59.0  ...   No    GBP 2,600 - GBP 5,199   \n",
       "\n",
       "                                      y03  \\\n",
       "1011          Rented from local authority   \n",
       "1012                    Own home outright   \n",
       "1013  It belongs to a Housing Association   \n",
       "1014                    Own home outright   \n",
       "1015                    Own home outright   \n",
       "1016                    Own home outright   \n",
       "1017                 Own home on mortgage   \n",
       "1018                    Own home outright   \n",
       "1019          Rented from local authority   \n",
       "1020          Rented from local authority   \n",
       "1021                 Own home on mortgage   \n",
       "1022          Rented from local authority   \n",
       "\n",
       "                                        y06  \\\n",
       "1011        Presbyterian/Church of Scotland   \n",
       "1012        Presbyterian/Church of Scotland   \n",
       "1013            Christian - no denomination   \n",
       "1014                            No religion   \n",
       "1015  Church of England/ Anglican/Episcopal   \n",
       "1016        Presbyterian/Church of Scotland   \n",
       "1017                            No religion   \n",
       "1018  Church of England/ Anglican/Episcopal   \n",
       "1019        Presbyterian/Church of Scotland   \n",
       "1020        Presbyterian/Church of Scotland   \n",
       "1021            Christian - no denomination   \n",
       "1022            Christian - no denomination   \n",
       "\n",
       "                                       y07               y08     y09  \\\n",
       "1011                            Less often                No  Female   \n",
       "1012  Less often but at least once a month                No  Female   \n",
       "1013                            Less often                No  Female   \n",
       "1014                                   NaN                No    Male   \n",
       "1015                            Less often                No  Female   \n",
       "1016                   Once a week or more  Yes: trade union    Male   \n",
       "1017                                   NaN                No  Female   \n",
       "1018  Less often but at least twice a year                No  Female   \n",
       "1019  Less often but at least once a month                No  Female   \n",
       "1020  Less often but at least twice a year                No  Female   \n",
       "1021   Less often but at least once a year                No    Male   \n",
       "1022                            Less often                No    Male   \n",
       "\n",
       "                                                y11  \\\n",
       "1011  English/Welsh/Scottish/Northern Irish/British   \n",
       "1012  English/Welsh/Scottish/Northern Irish/British   \n",
       "1013  English/Welsh/Scottish/Northern Irish/British   \n",
       "1014  English/Welsh/Scottish/Northern Irish/British   \n",
       "1015  English/Welsh/Scottish/Northern Irish/British   \n",
       "1016  English/Welsh/Scottish/Northern Irish/British   \n",
       "1017  English/Welsh/Scottish/Northern Irish/British   \n",
       "1018  English/Welsh/Scottish/Northern Irish/British   \n",
       "1019  English/Welsh/Scottish/Northern Irish/British   \n",
       "1020  English/Welsh/Scottish/Northern Irish/British   \n",
       "1021                                         Polish   \n",
       "1022  English/Welsh/Scottish/Northern Irish/British   \n",
       "\n",
       "                                                 y17  y18  \n",
       "1011       Working full time -  employee (30+ hours)  NaN  \n",
       "1012                          Retired from paid work   No  \n",
       "1013                          Retired from paid work   No  \n",
       "1014  Not working because long-term sick or disabled   No  \n",
       "1015       Working part time - employee (8-29 hours)  NaN  \n",
       "1016       Working part time - employee (8-29 hours)  NaN  \n",
       "1017       Working full time -  employee (30+ hours)  NaN  \n",
       "1018                          Retired from paid work   No  \n",
       "1019  Not working because long-term sick or disabled   No  \n",
       "1020                          Retired from paid work   No  \n",
       "1021       Working full time -  employee (30+ hours)  NaN  \n",
       "1022            Unemployed and actively seeking work   No  \n",
       "\n",
       "[12 rows x 30 columns]"
      ]
     },
     "execution_count": 28,
     "metadata": {},
     "output_type": "execute_result"
    }
   ],
   "source": [
    "bes_df[cond] # We can use this here; see further on in the lecture for when this is acceptable."
   ]
  },
  {
   "cell_type": "markdown",
   "metadata": {
    "slideshow": {
     "slide_type": "slide"
    }
   },
   "source": [
    "# Renaming and replacing\n",
    "\n",
    "- Renaming: renaming columns or indices\n",
    "- Replacing: replacing values"
   ]
  },
  {
   "cell_type": "markdown",
   "metadata": {
    "slideshow": {
     "slide_type": "subslide"
    }
   },
   "source": [
    "## Renaming columns or indices\n",
    "\n",
    "We can rename columns and indices using the `pd.DataFrame.rename()` function and a dictionary.\n",
    "\n",
    "Note that you should specify the _axis_. `axis=0` is rows, `axis=1` is columns."
   ]
  },
  {
   "cell_type": "code",
   "execution_count": 29,
   "metadata": {
    "slideshow": {
     "slide_type": "subslide"
    }
   },
   "outputs": [
    {
     "data": {
      "text/html": [
       "<div>\n",
       "<style scoped>\n",
       "    .dataframe tbody tr th:only-of-type {\n",
       "        vertical-align: middle;\n",
       "    }\n",
       "\n",
       "    .dataframe tbody tr th {\n",
       "        vertical-align: top;\n",
       "    }\n",
       "\n",
       "    .dataframe thead th {\n",
       "        text-align: right;\n",
       "    }\n",
       "</style>\n",
       "<table border=\"1\" class=\"dataframe\">\n",
       "  <thead>\n",
       "    <tr style=\"text-align: right;\">\n",
       "      <th></th>\n",
       "      <th>col1</th>\n",
       "      <th>col2</th>\n",
       "      <th>col3</th>\n",
       "    </tr>\n",
       "  </thead>\n",
       "  <tbody>\n",
       "    <tr>\n",
       "      <th>a</th>\n",
       "      <td>1</td>\n",
       "      <td>1.000000</td>\n",
       "      <td>tea</td>\n",
       "    </tr>\n",
       "    <tr>\n",
       "      <th>b</th>\n",
       "      <td>4</td>\n",
       "      <td>0.250000</td>\n",
       "      <td>coffee</td>\n",
       "    </tr>\n",
       "    <tr>\n",
       "      <th>c</th>\n",
       "      <td>7</td>\n",
       "      <td>0.142857</td>\n",
       "      <td>toffee</td>\n",
       "    </tr>\n",
       "    <tr>\n",
       "      <th>d</th>\n",
       "      <td>10</td>\n",
       "      <td>0.100000</td>\n",
       "      <td>key</td>\n",
       "    </tr>\n",
       "  </tbody>\n",
       "</table>\n",
       "</div>"
      ],
      "text/plain": [
       "   col1      col2    col3\n",
       "a     1  1.000000     tea\n",
       "b     4  0.250000  coffee\n",
       "c     7  0.142857  toffee\n",
       "d    10  0.100000     key"
      ]
     },
     "execution_count": 29,
     "metadata": {},
     "output_type": "execute_result"
    }
   ],
   "source": [
    "df.rename({'pterodactyl':'d'}, axis=0)"
   ]
  },
  {
   "cell_type": "markdown",
   "metadata": {
    "slideshow": {
     "slide_type": "subslide"
    }
   },
   "source": [
    "Note that `df` will not be altered unless you assign the output of the function to a variable. To overwrite in place, assign the output of the function to itself."
   ]
  },
  {
   "cell_type": "code",
   "execution_count": 30,
   "metadata": {
    "slideshow": {
     "slide_type": "fragment"
    }
   },
   "outputs": [
    {
     "data": {
      "text/html": [
       "<div>\n",
       "<style scoped>\n",
       "    .dataframe tbody tr th:only-of-type {\n",
       "        vertical-align: middle;\n",
       "    }\n",
       "\n",
       "    .dataframe tbody tr th {\n",
       "        vertical-align: top;\n",
       "    }\n",
       "\n",
       "    .dataframe thead th {\n",
       "        text-align: right;\n",
       "    }\n",
       "</style>\n",
       "<table border=\"1\" class=\"dataframe\">\n",
       "  <thead>\n",
       "    <tr style=\"text-align: right;\">\n",
       "      <th></th>\n",
       "      <th>col1</th>\n",
       "      <th>col2</th>\n",
       "      <th>col3</th>\n",
       "    </tr>\n",
       "  </thead>\n",
       "  <tbody>\n",
       "    <tr>\n",
       "      <th>a</th>\n",
       "      <td>1</td>\n",
       "      <td>1.000000</td>\n",
       "      <td>tea</td>\n",
       "    </tr>\n",
       "    <tr>\n",
       "      <th>b</th>\n",
       "      <td>4</td>\n",
       "      <td>0.250000</td>\n",
       "      <td>coffee</td>\n",
       "    </tr>\n",
       "    <tr>\n",
       "      <th>c</th>\n",
       "      <td>7</td>\n",
       "      <td>0.142857</td>\n",
       "      <td>toffee</td>\n",
       "    </tr>\n",
       "    <tr>\n",
       "      <th>d</th>\n",
       "      <td>10</td>\n",
       "      <td>0.100000</td>\n",
       "      <td>key</td>\n",
       "    </tr>\n",
       "  </tbody>\n",
       "</table>\n",
       "</div>"
      ],
      "text/plain": [
       "   col1      col2    col3\n",
       "a     1  1.000000     tea\n",
       "b     4  0.250000  coffee\n",
       "c     7  0.142857  toffee\n",
       "d    10  0.100000     key"
      ]
     },
     "execution_count": 30,
     "metadata": {},
     "output_type": "execute_result"
    }
   ],
   "source": [
    "df = df.rename({'pterodactyl':'d'}, axis=0)\n",
    "df"
   ]
  },
  {
   "cell_type": "markdown",
   "metadata": {
    "slideshow": {
     "slide_type": "subslide"
    }
   },
   "source": [
    "Renaming columns is similar."
   ]
  },
  {
   "cell_type": "code",
   "execution_count": 31,
   "metadata": {
    "slideshow": {
     "slide_type": "fragment"
    }
   },
   "outputs": [
    {
     "data": {
      "text/html": [
       "<div>\n",
       "<style scoped>\n",
       "    .dataframe tbody tr th:only-of-type {\n",
       "        vertical-align: middle;\n",
       "    }\n",
       "\n",
       "    .dataframe tbody tr th {\n",
       "        vertical-align: top;\n",
       "    }\n",
       "\n",
       "    .dataframe thead th {\n",
       "        text-align: right;\n",
       "    }\n",
       "</style>\n",
       "<table border=\"1\" class=\"dataframe\">\n",
       "  <thead>\n",
       "    <tr style=\"text-align: right;\">\n",
       "      <th></th>\n",
       "      <th>num1</th>\n",
       "      <th>num2</th>\n",
       "      <th>str1</th>\n",
       "    </tr>\n",
       "  </thead>\n",
       "  <tbody>\n",
       "    <tr>\n",
       "      <th>a</th>\n",
       "      <td>1</td>\n",
       "      <td>1.000000</td>\n",
       "      <td>tea</td>\n",
       "    </tr>\n",
       "    <tr>\n",
       "      <th>b</th>\n",
       "      <td>4</td>\n",
       "      <td>0.250000</td>\n",
       "      <td>coffee</td>\n",
       "    </tr>\n",
       "    <tr>\n",
       "      <th>c</th>\n",
       "      <td>7</td>\n",
       "      <td>0.142857</td>\n",
       "      <td>toffee</td>\n",
       "    </tr>\n",
       "    <tr>\n",
       "      <th>d</th>\n",
       "      <td>10</td>\n",
       "      <td>0.100000</td>\n",
       "      <td>key</td>\n",
       "    </tr>\n",
       "  </tbody>\n",
       "</table>\n",
       "</div>"
      ],
      "text/plain": [
       "   num1      num2    str1\n",
       "a     1  1.000000     tea\n",
       "b     4  0.250000  coffee\n",
       "c     7  0.142857  toffee\n",
       "d    10  0.100000     key"
      ]
     },
     "execution_count": 31,
     "metadata": {},
     "output_type": "execute_result"
    }
   ],
   "source": [
    "df = df.rename({'col1': 'num1', 'col2': 'num2', 'col3': 'str1'}, axis=1)\n",
    "df"
   ]
  },
  {
   "cell_type": "markdown",
   "metadata": {
    "slideshow": {
     "slide_type": "subslide"
    }
   },
   "source": [
    "### Note on use of capital letters and underscores\n",
    "\n",
    "Keep in mind that you will be writing the column names a lot. Do your best to keep column names short, meaningful, and stick to a consistent pattern of uppercase and underscores.\n",
    "\n",
    "I use `snake_case` for column names, which means all lowercase with underscores between words. An alternative is `CamelCase`, which uses no underscores but capitalises the first letter of each word.\n",
    "\n",
    "Standard python practice is to use `snake_case` for variables, functions, and modules, but `CamelCase` for classes. Hence, `pandas.DataFrame`, but `pandas.Dataframe.value_counts()`."
   ]
  },
  {
   "cell_type": "markdown",
   "metadata": {
    "slideshow": {
     "slide_type": "subslide"
    }
   },
   "source": [
    "## Reindexing\n",
    "\n",
    "Re-indexing can be done with the `.set_index()` or `.reset_index()` methods.\n",
    "\n",
    "When resetting, if you do not pass `drop=True`, then the existing index will be added to the dataframe as a column."
   ]
  },
  {
   "cell_type": "code",
   "execution_count": 32,
   "metadata": {
    "slideshow": {
     "slide_type": "subslide"
    }
   },
   "outputs": [
    {
     "data": {
      "text/html": [
       "<div>\n",
       "<style scoped>\n",
       "    .dataframe tbody tr th:only-of-type {\n",
       "        vertical-align: middle;\n",
       "    }\n",
       "\n",
       "    .dataframe tbody tr th {\n",
       "        vertical-align: top;\n",
       "    }\n",
       "\n",
       "    .dataframe thead th {\n",
       "        text-align: right;\n",
       "    }\n",
       "</style>\n",
       "<table border=\"1\" class=\"dataframe\">\n",
       "  <thead>\n",
       "    <tr style=\"text-align: right;\">\n",
       "      <th></th>\n",
       "      <th>num1</th>\n",
       "      <th>num2</th>\n",
       "    </tr>\n",
       "    <tr>\n",
       "      <th>str1</th>\n",
       "      <th></th>\n",
       "      <th></th>\n",
       "    </tr>\n",
       "  </thead>\n",
       "  <tbody>\n",
       "    <tr>\n",
       "      <th>tea</th>\n",
       "      <td>1</td>\n",
       "      <td>1.000000</td>\n",
       "    </tr>\n",
       "    <tr>\n",
       "      <th>coffee</th>\n",
       "      <td>4</td>\n",
       "      <td>0.250000</td>\n",
       "    </tr>\n",
       "    <tr>\n",
       "      <th>toffee</th>\n",
       "      <td>7</td>\n",
       "      <td>0.142857</td>\n",
       "    </tr>\n",
       "    <tr>\n",
       "      <th>key</th>\n",
       "      <td>10</td>\n",
       "      <td>0.100000</td>\n",
       "    </tr>\n",
       "  </tbody>\n",
       "</table>\n",
       "</div>"
      ],
      "text/plain": [
       "        num1      num2\n",
       "str1                  \n",
       "tea        1  1.000000\n",
       "coffee     4  0.250000\n",
       "toffee     7  0.142857\n",
       "key       10  0.100000"
      ]
     },
     "execution_count": 32,
     "metadata": {},
     "output_type": "execute_result"
    }
   ],
   "source": [
    "df.set_index('str1')"
   ]
  },
  {
   "cell_type": "code",
   "execution_count": 33,
   "metadata": {
    "slideshow": {
     "slide_type": "subslide"
    }
   },
   "outputs": [
    {
     "data": {
      "text/html": [
       "<div>\n",
       "<style scoped>\n",
       "    .dataframe tbody tr th:only-of-type {\n",
       "        vertical-align: middle;\n",
       "    }\n",
       "\n",
       "    .dataframe tbody tr th {\n",
       "        vertical-align: top;\n",
       "    }\n",
       "\n",
       "    .dataframe thead th {\n",
       "        text-align: right;\n",
       "    }\n",
       "</style>\n",
       "<table border=\"1\" class=\"dataframe\">\n",
       "  <thead>\n",
       "    <tr style=\"text-align: right;\">\n",
       "      <th></th>\n",
       "      <th>index</th>\n",
       "      <th>num1</th>\n",
       "      <th>num2</th>\n",
       "      <th>str1</th>\n",
       "    </tr>\n",
       "  </thead>\n",
       "  <tbody>\n",
       "    <tr>\n",
       "      <th>0</th>\n",
       "      <td>a</td>\n",
       "      <td>1</td>\n",
       "      <td>1.000000</td>\n",
       "      <td>tea</td>\n",
       "    </tr>\n",
       "    <tr>\n",
       "      <th>1</th>\n",
       "      <td>b</td>\n",
       "      <td>4</td>\n",
       "      <td>0.250000</td>\n",
       "      <td>coffee</td>\n",
       "    </tr>\n",
       "    <tr>\n",
       "      <th>2</th>\n",
       "      <td>c</td>\n",
       "      <td>7</td>\n",
       "      <td>0.142857</td>\n",
       "      <td>toffee</td>\n",
       "    </tr>\n",
       "    <tr>\n",
       "      <th>3</th>\n",
       "      <td>d</td>\n",
       "      <td>10</td>\n",
       "      <td>0.100000</td>\n",
       "      <td>key</td>\n",
       "    </tr>\n",
       "  </tbody>\n",
       "</table>\n",
       "</div>"
      ],
      "text/plain": [
       "  index  num1      num2    str1\n",
       "0     a     1  1.000000     tea\n",
       "1     b     4  0.250000  coffee\n",
       "2     c     7  0.142857  toffee\n",
       "3     d    10  0.100000     key"
      ]
     },
     "execution_count": 33,
     "metadata": {},
     "output_type": "execute_result"
    }
   ],
   "source": [
    "df.reset_index()"
   ]
  },
  {
   "cell_type": "code",
   "execution_count": 34,
   "metadata": {
    "slideshow": {
     "slide_type": "subslide"
    }
   },
   "outputs": [
    {
     "data": {
      "text/html": [
       "<div>\n",
       "<style scoped>\n",
       "    .dataframe tbody tr th:only-of-type {\n",
       "        vertical-align: middle;\n",
       "    }\n",
       "\n",
       "    .dataframe tbody tr th {\n",
       "        vertical-align: top;\n",
       "    }\n",
       "\n",
       "    .dataframe thead th {\n",
       "        text-align: right;\n",
       "    }\n",
       "</style>\n",
       "<table border=\"1\" class=\"dataframe\">\n",
       "  <thead>\n",
       "    <tr style=\"text-align: right;\">\n",
       "      <th></th>\n",
       "      <th>num1</th>\n",
       "      <th>num2</th>\n",
       "      <th>str1</th>\n",
       "    </tr>\n",
       "  </thead>\n",
       "  <tbody>\n",
       "    <tr>\n",
       "      <th>0</th>\n",
       "      <td>1</td>\n",
       "      <td>1.000000</td>\n",
       "      <td>tea</td>\n",
       "    </tr>\n",
       "    <tr>\n",
       "      <th>1</th>\n",
       "      <td>4</td>\n",
       "      <td>0.250000</td>\n",
       "      <td>coffee</td>\n",
       "    </tr>\n",
       "    <tr>\n",
       "      <th>2</th>\n",
       "      <td>7</td>\n",
       "      <td>0.142857</td>\n",
       "      <td>toffee</td>\n",
       "    </tr>\n",
       "    <tr>\n",
       "      <th>3</th>\n",
       "      <td>10</td>\n",
       "      <td>0.100000</td>\n",
       "      <td>key</td>\n",
       "    </tr>\n",
       "  </tbody>\n",
       "</table>\n",
       "</div>"
      ],
      "text/plain": [
       "   num1      num2    str1\n",
       "0     1  1.000000     tea\n",
       "1     4  0.250000  coffee\n",
       "2     7  0.142857  toffee\n",
       "3    10  0.100000     key"
      ]
     },
     "execution_count": 34,
     "metadata": {},
     "output_type": "execute_result"
    }
   ],
   "source": [
    "df.reset_index(drop=True)"
   ]
  },
  {
   "cell_type": "markdown",
   "metadata": {
    "slideshow": {
     "slide_type": "subslide"
    }
   },
   "source": [
    "## Replacing values\n",
    "\n",
    "We can use the `pd.Series.replace` or `pd.DataFrame.replace` function to replace values within the series or dataframe. This is also straightforward with a dictionary."
   ]
  },
  {
   "cell_type": "code",
   "execution_count": 36,
   "metadata": {
    "slideshow": {
     "slide_type": "fragment"
    }
   },
   "outputs": [
    {
     "data": {
      "text/plain": [
       "0              Labour\n",
       "1       None/No party\n",
       "2                 idk\n",
       "3                 idk\n",
       "4              Labour\n",
       "            ...      \n",
       "2189              idk\n",
       "2190    None/No party\n",
       "2191              idk\n",
       "2192    None/No party\n",
       "2193    Conservatives\n",
       "Name: a02, Length: 2194, dtype: object"
      ]
     },
     "execution_count": 36,
     "metadata": {},
     "output_type": "execute_result"
    }
   ],
   "source": [
    "bes_df['a02'].replace({'Don`t know': 'idk'})"
   ]
  },
  {
   "cell_type": "markdown",
   "metadata": {
    "slideshow": {
     "slide_type": "subslide"
    }
   },
   "source": [
    "## Warning: `loc` vs `[]`\n",
    "\n",
    "Here's a tedious and tricky thing:\n",
    "\n",
    "- `df[col_name]` returns a _view_ of the dataframe.\n",
    "- `df.loc[:, col_name]` returns the _contents_ of the dataframe.\n",
    "\n",
    "Assigning values to a view (with `=`) is ambiguous. Python does not know whether to alter the object, or the view of that object that was created in that moment.\n",
    "\n",
    "Therefore whenever writing values into some subset of a pandas object, use the `loc` or `iloc` accessors, so that python understands that you want to modify the underlying object."
   ]
  },
  {
   "cell_type": "code",
   "execution_count": null,
   "metadata": {
    "slideshow": {
     "slide_type": "subslide"
    }
   },
   "outputs": [],
   "source": [
    "# Do not do this\n",
    "df['num1'] = [0, 0, 0, 0]"
   ]
  },
  {
   "cell_type": "code",
   "execution_count": 37,
   "metadata": {
    "slideshow": {
     "slide_type": "fragment"
    }
   },
   "outputs": [
    {
     "data": {
      "text/html": [
       "<div>\n",
       "<style scoped>\n",
       "    .dataframe tbody tr th:only-of-type {\n",
       "        vertical-align: middle;\n",
       "    }\n",
       "\n",
       "    .dataframe tbody tr th {\n",
       "        vertical-align: top;\n",
       "    }\n",
       "\n",
       "    .dataframe thead th {\n",
       "        text-align: right;\n",
       "    }\n",
       "</style>\n",
       "<table border=\"1\" class=\"dataframe\">\n",
       "  <thead>\n",
       "    <tr style=\"text-align: right;\">\n",
       "      <th></th>\n",
       "      <th>num1</th>\n",
       "      <th>num2</th>\n",
       "      <th>str1</th>\n",
       "    </tr>\n",
       "  </thead>\n",
       "  <tbody>\n",
       "    <tr>\n",
       "      <th>a</th>\n",
       "      <td>0</td>\n",
       "      <td>1.000000</td>\n",
       "      <td>tea</td>\n",
       "    </tr>\n",
       "    <tr>\n",
       "      <th>b</th>\n",
       "      <td>0</td>\n",
       "      <td>0.250000</td>\n",
       "      <td>coffee</td>\n",
       "    </tr>\n",
       "    <tr>\n",
       "      <th>c</th>\n",
       "      <td>7</td>\n",
       "      <td>0.142857</td>\n",
       "      <td>toffee</td>\n",
       "    </tr>\n",
       "    <tr>\n",
       "      <th>d</th>\n",
       "      <td>10</td>\n",
       "      <td>0.100000</td>\n",
       "      <td>key</td>\n",
       "    </tr>\n",
       "  </tbody>\n",
       "</table>\n",
       "</div>"
      ],
      "text/plain": [
       "   num1      num2    str1\n",
       "a     0  1.000000     tea\n",
       "b     0  0.250000  coffee\n",
       "c     7  0.142857  toffee\n",
       "d    10  0.100000     key"
      ]
     },
     "execution_count": 37,
     "metadata": {},
     "output_type": "execute_result"
    }
   ],
   "source": [
    "# Do this\n",
    "df.loc[:, 'num1'] = [0, 0, 7, 10]\n",
    "df"
   ]
  },
  {
   "cell_type": "markdown",
   "metadata": {
    "slideshow": {
     "slide_type": "subslide"
    }
   },
   "source": [
    "# First-Look Functions\n",
    "\n",
    "When working with data, your first step should always be _getting to know the data_. Ask questions like:\n",
    "\n",
    "- What does the top/bottom of the dataset look like? `df.head()`, `df.tail()`\n",
    "- What are the dimensions of the dataset? `df.shape`\n",
    "- What are my columns and rows? `df.columns`, `df.index`\n",
    "- What data types are each of the columns? Is this expected? `df.info()`, `df.dtypes`\n",
    "- How sparse is my data? (Looking for NAs) `df.info()`, `df.isna().sum()`\n",
    "- What unique values does each column contain? `series.unique()`, `series.value_counts()`\n"
   ]
  },
  {
   "cell_type": "markdown",
   "metadata": {
    "slideshow": {
     "slide_type": "subslide"
    }
   },
   "source": [
    "## Head/Tail\n",
    "\n",
    "The `df.head()` and `df.tail()` functions return the first/last 5 rows of the dataframe by default. The number of rows can be passed to the function."
   ]
  },
  {
   "cell_type": "code",
   "execution_count": 38,
   "metadata": {
    "slideshow": {
     "slide_type": "subslide"
    }
   },
   "outputs": [
    {
     "data": {
      "text/html": [
       "<div>\n",
       "<style scoped>\n",
       "    .dataframe tbody tr th:only-of-type {\n",
       "        vertical-align: middle;\n",
       "    }\n",
       "\n",
       "    .dataframe tbody tr th {\n",
       "        vertical-align: top;\n",
       "    }\n",
       "\n",
       "    .dataframe thead th {\n",
       "        text-align: right;\n",
       "    }\n",
       "</style>\n",
       "<table border=\"1\" class=\"dataframe\">\n",
       "  <thead>\n",
       "    <tr style=\"text-align: right;\">\n",
       "      <th></th>\n",
       "      <th>finalserialno</th>\n",
       "      <th>region</th>\n",
       "      <th>Constit_Code</th>\n",
       "      <th>Constit_Name</th>\n",
       "      <th>Interview_Date</th>\n",
       "      <th>total_num_dwel</th>\n",
       "      <th>total_num_hous</th>\n",
       "      <th>num_elig_people</th>\n",
       "      <th>turnoutValidationReg</th>\n",
       "      <th>Age</th>\n",
       "      <th>...</th>\n",
       "      <th>k08</th>\n",
       "      <th>y01</th>\n",
       "      <th>y03</th>\n",
       "      <th>y06</th>\n",
       "      <th>y07</th>\n",
       "      <th>y08</th>\n",
       "      <th>y09</th>\n",
       "      <th>y11</th>\n",
       "      <th>y17</th>\n",
       "      <th>y18</th>\n",
       "    </tr>\n",
       "  </thead>\n",
       "  <tbody>\n",
       "    <tr>\n",
       "      <th>0</th>\n",
       "      <td>10115</td>\n",
       "      <td>East Midlands</td>\n",
       "      <td>Ashfield</td>\n",
       "      <td>E14000535</td>\n",
       "      <td>06/09/2017</td>\n",
       "      <td>1</td>\n",
       "      <td>1</td>\n",
       "      <td>2</td>\n",
       "      <td>Voted</td>\n",
       "      <td>21.0</td>\n",
       "      <td>...</td>\n",
       "      <td>No</td>\n",
       "      <td>GBP 5,200 - GBP 10,399</td>\n",
       "      <td>Own home on mortgage</td>\n",
       "      <td>No religion</td>\n",
       "      <td>NaN</td>\n",
       "      <td>No</td>\n",
       "      <td>Female</td>\n",
       "      <td>English/Welsh/Scottish/Northern Irish/British</td>\n",
       "      <td>Working full time -  employee (30+ hours)</td>\n",
       "      <td>NaN</td>\n",
       "    </tr>\n",
       "    <tr>\n",
       "      <th>1</th>\n",
       "      <td>10119</td>\n",
       "      <td>East Midlands</td>\n",
       "      <td>Ashfield</td>\n",
       "      <td>E14000535</td>\n",
       "      <td>06/09/2017</td>\n",
       "      <td>1</td>\n",
       "      <td>1</td>\n",
       "      <td>1</td>\n",
       "      <td>Voted</td>\n",
       "      <td>53.0</td>\n",
       "      <td>...</td>\n",
       "      <td>No</td>\n",
       "      <td>GBP 2,600 - GBP 5,199</td>\n",
       "      <td>Rented from local authority</td>\n",
       "      <td>Islam/Muslim</td>\n",
       "      <td>Never or practically never</td>\n",
       "      <td>No</td>\n",
       "      <td>Male</td>\n",
       "      <td>Indian</td>\n",
       "      <td>Looking after the family or home</td>\n",
       "      <td>Yes</td>\n",
       "    </tr>\n",
       "    <tr>\n",
       "      <th>2</th>\n",
       "      <td>10125</td>\n",
       "      <td>East Midlands</td>\n",
       "      <td>Ashfield</td>\n",
       "      <td>E14000535</td>\n",
       "      <td>06/09/2017</td>\n",
       "      <td>1</td>\n",
       "      <td>1</td>\n",
       "      <td>1</td>\n",
       "      <td>NaN</td>\n",
       "      <td>56.0</td>\n",
       "      <td>...</td>\n",
       "      <td>No</td>\n",
       "      <td>GBP 5,200 - GBP 10,399</td>\n",
       "      <td>Own home outright</td>\n",
       "      <td>No religion</td>\n",
       "      <td>NaN</td>\n",
       "      <td>No</td>\n",
       "      <td>Male</td>\n",
       "      <td>English/Welsh/Scottish/Northern Irish/British</td>\n",
       "      <td>Working full time - self-employed (30+ hours)</td>\n",
       "      <td>NaN</td>\n",
       "    </tr>\n",
       "    <tr>\n",
       "      <th>3</th>\n",
       "      <td>10215</td>\n",
       "      <td>East Midlands</td>\n",
       "      <td>Ashfield</td>\n",
       "      <td>E14000535</td>\n",
       "      <td>24/08/2017</td>\n",
       "      <td>1</td>\n",
       "      <td>1</td>\n",
       "      <td>2</td>\n",
       "      <td>Voted</td>\n",
       "      <td>65.0</td>\n",
       "      <td>...</td>\n",
       "      <td>No</td>\n",
       "      <td>GBP 36,400 - GBP 39,999</td>\n",
       "      <td>Own home outright</td>\n",
       "      <td>Christian - no denomination</td>\n",
       "      <td>Never or practically never</td>\n",
       "      <td>No</td>\n",
       "      <td>Female</td>\n",
       "      <td>English/Welsh/Scottish/Northern Irish/British</td>\n",
       "      <td>Retired from paid work</td>\n",
       "      <td>Yes</td>\n",
       "    </tr>\n",
       "    <tr>\n",
       "      <th>4</th>\n",
       "      <td>10216</td>\n",
       "      <td>East Midlands</td>\n",
       "      <td>Ashfield</td>\n",
       "      <td>E14000535</td>\n",
       "      <td>24/08/2017</td>\n",
       "      <td>1</td>\n",
       "      <td>1</td>\n",
       "      <td>2</td>\n",
       "      <td>Voted</td>\n",
       "      <td>68.0</td>\n",
       "      <td>...</td>\n",
       "      <td>Yes</td>\n",
       "      <td>GBP 40,000 - GBP 44,999</td>\n",
       "      <td>Own home outright</td>\n",
       "      <td>Christian - no denomination</td>\n",
       "      <td>Never or practically never</td>\n",
       "      <td>No</td>\n",
       "      <td>Female</td>\n",
       "      <td>English/Welsh/Scottish/Northern Irish/British</td>\n",
       "      <td>Retired from paid work</td>\n",
       "      <td>Yes</td>\n",
       "    </tr>\n",
       "  </tbody>\n",
       "</table>\n",
       "<p>5 rows × 30 columns</p>\n",
       "</div>"
      ],
      "text/plain": [
       "   finalserialno         region Constit_Code Constit_Name Interview_Date  \\\n",
       "0          10115  East Midlands     Ashfield    E14000535     06/09/2017   \n",
       "1          10119  East Midlands     Ashfield    E14000535     06/09/2017   \n",
       "2          10125  East Midlands     Ashfield    E14000535     06/09/2017   \n",
       "3          10215  East Midlands     Ashfield    E14000535     24/08/2017   \n",
       "4          10216  East Midlands     Ashfield    E14000535     24/08/2017   \n",
       "\n",
       "  total_num_dwel total_num_hous num_elig_people turnoutValidationReg   Age  \\\n",
       "0              1              1               2                Voted  21.0   \n",
       "1              1              1               1                Voted  53.0   \n",
       "2              1              1               1                  NaN  56.0   \n",
       "3              1              1               2                Voted  65.0   \n",
       "4              1              1               2                Voted  68.0   \n",
       "\n",
       "   ...  k08                      y01                          y03  \\\n",
       "0  ...   No   GBP 5,200 - GBP 10,399         Own home on mortgage   \n",
       "1  ...   No    GBP 2,600 - GBP 5,199  Rented from local authority   \n",
       "2  ...   No   GBP 5,200 - GBP 10,399            Own home outright   \n",
       "3  ...   No  GBP 36,400 - GBP 39,999            Own home outright   \n",
       "4  ...  Yes  GBP 40,000 - GBP 44,999            Own home outright   \n",
       "\n",
       "                           y06                         y07 y08     y09  \\\n",
       "0                  No religion                         NaN  No  Female   \n",
       "1                 Islam/Muslim  Never or practically never  No    Male   \n",
       "2                  No religion                         NaN  No    Male   \n",
       "3  Christian - no denomination  Never or practically never  No  Female   \n",
       "4  Christian - no denomination  Never or practically never  No  Female   \n",
       "\n",
       "                                             y11  \\\n",
       "0  English/Welsh/Scottish/Northern Irish/British   \n",
       "1                                         Indian   \n",
       "2  English/Welsh/Scottish/Northern Irish/British   \n",
       "3  English/Welsh/Scottish/Northern Irish/British   \n",
       "4  English/Welsh/Scottish/Northern Irish/British   \n",
       "\n",
       "                                             y17  y18  \n",
       "0      Working full time -  employee (30+ hours)  NaN  \n",
       "1               Looking after the family or home  Yes  \n",
       "2  Working full time - self-employed (30+ hours)  NaN  \n",
       "3                         Retired from paid work  Yes  \n",
       "4                         Retired from paid work  Yes  \n",
       "\n",
       "[5 rows x 30 columns]"
      ]
     },
     "execution_count": 38,
     "metadata": {},
     "output_type": "execute_result"
    }
   ],
   "source": [
    "bes_df.head() # Using iloc to make output easier to read in lecture slide; not necessary"
   ]
  },
  {
   "cell_type": "code",
   "execution_count": 39,
   "metadata": {
    "slideshow": {
     "slide_type": "subslide"
    }
   },
   "outputs": [
    {
     "data": {
      "text/html": [
       "<div>\n",
       "<style scoped>\n",
       "    .dataframe tbody tr th:only-of-type {\n",
       "        vertical-align: middle;\n",
       "    }\n",
       "\n",
       "    .dataframe tbody tr th {\n",
       "        vertical-align: top;\n",
       "    }\n",
       "\n",
       "    .dataframe thead th {\n",
       "        text-align: right;\n",
       "    }\n",
       "</style>\n",
       "<table border=\"1\" class=\"dataframe\">\n",
       "  <thead>\n",
       "    <tr style=\"text-align: right;\">\n",
       "      <th></th>\n",
       "      <th>finalserialno</th>\n",
       "      <th>region</th>\n",
       "      <th>Constit_Code</th>\n",
       "      <th>Constit_Name</th>\n",
       "      <th>Interview_Date</th>\n",
       "      <th>total_num_dwel</th>\n",
       "      <th>total_num_hous</th>\n",
       "      <th>num_elig_people</th>\n",
       "      <th>turnoutValidationReg</th>\n",
       "      <th>Age</th>\n",
       "      <th>...</th>\n",
       "      <th>k08</th>\n",
       "      <th>y01</th>\n",
       "      <th>y03</th>\n",
       "      <th>y06</th>\n",
       "      <th>y07</th>\n",
       "      <th>y08</th>\n",
       "      <th>y09</th>\n",
       "      <th>y11</th>\n",
       "      <th>y17</th>\n",
       "      <th>y18</th>\n",
       "    </tr>\n",
       "  </thead>\n",
       "  <tbody>\n",
       "    <tr>\n",
       "      <th>2184</th>\n",
       "      <td>69904</td>\n",
       "      <td>Yorkshire &amp; Humber</td>\n",
       "      <td>York Outer</td>\n",
       "      <td>E14001062</td>\n",
       "      <td>25/07/2017</td>\n",
       "      <td>1</td>\n",
       "      <td>1</td>\n",
       "      <td>2</td>\n",
       "      <td>Voted</td>\n",
       "      <td>55.0</td>\n",
       "      <td>...</td>\n",
       "      <td>Yes</td>\n",
       "      <td>GBP 36,400 - GBP 39,999</td>\n",
       "      <td>Own home on mortgage</td>\n",
       "      <td>Church of England/ Anglican/Episcopal</td>\n",
       "      <td>Less often</td>\n",
       "      <td>No</td>\n",
       "      <td>Male</td>\n",
       "      <td>English/Welsh/Scottish/Northern Irish/British</td>\n",
       "      <td>Working part time - employee (8-29 hours)</td>\n",
       "      <td>NaN</td>\n",
       "    </tr>\n",
       "    <tr>\n",
       "      <th>2185</th>\n",
       "      <td>69916</td>\n",
       "      <td>Yorkshire &amp; Humber</td>\n",
       "      <td>York Outer</td>\n",
       "      <td>E14001062</td>\n",
       "      <td>08/08/2017</td>\n",
       "      <td>1</td>\n",
       "      <td>1</td>\n",
       "      <td>1</td>\n",
       "      <td>NaN</td>\n",
       "      <td>49.0</td>\n",
       "      <td>...</td>\n",
       "      <td>Yes</td>\n",
       "      <td>GBP 20,800 - GBP 25,999</td>\n",
       "      <td>Own home on mortgage</td>\n",
       "      <td>No religion</td>\n",
       "      <td>NaN</td>\n",
       "      <td>No</td>\n",
       "      <td>Female</td>\n",
       "      <td>English/Welsh/Scottish/Northern Irish/British</td>\n",
       "      <td>Working full time - self-employed (30+ hours)</td>\n",
       "      <td>NaN</td>\n",
       "    </tr>\n",
       "    <tr>\n",
       "      <th>2186</th>\n",
       "      <td>69918</td>\n",
       "      <td>Yorkshire &amp; Humber</td>\n",
       "      <td>York Outer</td>\n",
       "      <td>E14001062</td>\n",
       "      <td>16/09/2017</td>\n",
       "      <td>1</td>\n",
       "      <td>1</td>\n",
       "      <td>1</td>\n",
       "      <td>Voted</td>\n",
       "      <td>75.0</td>\n",
       "      <td>...</td>\n",
       "      <td>No</td>\n",
       "      <td>GBP 15,600 - GBP 20,799</td>\n",
       "      <td>Own home outright</td>\n",
       "      <td>Church of England/ Anglican/Episcopal</td>\n",
       "      <td>Once a week or more</td>\n",
       "      <td>No</td>\n",
       "      <td>Female</td>\n",
       "      <td>English/Welsh/Scottish/Northern Irish/British</td>\n",
       "      <td>Retired from paid work</td>\n",
       "      <td>Yes</td>\n",
       "    </tr>\n",
       "    <tr>\n",
       "      <th>2187</th>\n",
       "      <td>69920</td>\n",
       "      <td>Yorkshire &amp; Humber</td>\n",
       "      <td>York Outer</td>\n",
       "      <td>E14001062</td>\n",
       "      <td>31/07/2017</td>\n",
       "      <td>1</td>\n",
       "      <td>1</td>\n",
       "      <td>2</td>\n",
       "      <td>Voted</td>\n",
       "      <td>53.0</td>\n",
       "      <td>...</td>\n",
       "      <td>Yes</td>\n",
       "      <td>GBP 100,000 or more</td>\n",
       "      <td>Own home outright</td>\n",
       "      <td>No religion</td>\n",
       "      <td>NaN</td>\n",
       "      <td>Yes: staff association</td>\n",
       "      <td>Female</td>\n",
       "      <td>English/Welsh/Scottish/Northern Irish/British</td>\n",
       "      <td>Not working because temporarily sick or injured</td>\n",
       "      <td>Yes</td>\n",
       "    </tr>\n",
       "    <tr>\n",
       "      <th>2188</th>\n",
       "      <td>69921</td>\n",
       "      <td>Yorkshire &amp; Humber</td>\n",
       "      <td>York Outer</td>\n",
       "      <td>E14001062</td>\n",
       "      <td>19/09/2017</td>\n",
       "      <td>1</td>\n",
       "      <td>1</td>\n",
       "      <td>1</td>\n",
       "      <td>Voted</td>\n",
       "      <td>53.0</td>\n",
       "      <td>...</td>\n",
       "      <td>No</td>\n",
       "      <td>GBP 45,000 - GBP 49,999</td>\n",
       "      <td>Own home outright</td>\n",
       "      <td>No religion</td>\n",
       "      <td>NaN</td>\n",
       "      <td>No</td>\n",
       "      <td>Male</td>\n",
       "      <td>English/Welsh/Scottish/Northern Irish/British</td>\n",
       "      <td>Working full time - self-employed (30+ hours)</td>\n",
       "      <td>NaN</td>\n",
       "    </tr>\n",
       "    <tr>\n",
       "      <th>2189</th>\n",
       "      <td>69923</td>\n",
       "      <td>Yorkshire &amp; Humber</td>\n",
       "      <td>York Outer</td>\n",
       "      <td>E14001062</td>\n",
       "      <td>20/09/2017</td>\n",
       "      <td>1</td>\n",
       "      <td>1</td>\n",
       "      <td>2</td>\n",
       "      <td>NaN</td>\n",
       "      <td>59.0</td>\n",
       "      <td>...</td>\n",
       "      <td>No</td>\n",
       "      <td>GBP 60,000 - GBP 74,999</td>\n",
       "      <td>Own home outright</td>\n",
       "      <td>No religion</td>\n",
       "      <td>NaN</td>\n",
       "      <td>No</td>\n",
       "      <td>Female</td>\n",
       "      <td>English/Welsh/Scottish/Northern Irish/British</td>\n",
       "      <td>Retired from paid work</td>\n",
       "      <td>Yes</td>\n",
       "    </tr>\n",
       "    <tr>\n",
       "      <th>2190</th>\n",
       "      <td>69925</td>\n",
       "      <td>Yorkshire &amp; Humber</td>\n",
       "      <td>York Outer</td>\n",
       "      <td>E14001062</td>\n",
       "      <td>31/07/2017</td>\n",
       "      <td>1</td>\n",
       "      <td>1</td>\n",
       "      <td>1</td>\n",
       "      <td>NaN</td>\n",
       "      <td>46.0</td>\n",
       "      <td>...</td>\n",
       "      <td>Yes</td>\n",
       "      <td>GBP 75,000 - GBP 99,999</td>\n",
       "      <td>Own home outright</td>\n",
       "      <td>No religion</td>\n",
       "      <td>NaN</td>\n",
       "      <td>No</td>\n",
       "      <td>Female</td>\n",
       "      <td>English/Welsh/Scottish/Northern Irish/British</td>\n",
       "      <td>Looking after the family or home</td>\n",
       "      <td>Yes</td>\n",
       "    </tr>\n",
       "    <tr>\n",
       "      <th>2191</th>\n",
       "      <td>70016</td>\n",
       "      <td>Yorkshire &amp; Humber</td>\n",
       "      <td>York Outer</td>\n",
       "      <td>E14001062</td>\n",
       "      <td>19/09/2017</td>\n",
       "      <td>1</td>\n",
       "      <td>1</td>\n",
       "      <td>1</td>\n",
       "      <td>Voted</td>\n",
       "      <td>50.0</td>\n",
       "      <td>...</td>\n",
       "      <td>Yes</td>\n",
       "      <td>GBP 5,200 - GBP 10,399</td>\n",
       "      <td>It belongs to a Housing Association</td>\n",
       "      <td>No religion</td>\n",
       "      <td>NaN</td>\n",
       "      <td>No</td>\n",
       "      <td>Female</td>\n",
       "      <td>English/Welsh/Scottish/Northern Irish/British</td>\n",
       "      <td>Working part time - employee (8-29 hours)</td>\n",
       "      <td>NaN</td>\n",
       "    </tr>\n",
       "    <tr>\n",
       "      <th>2192</th>\n",
       "      <td>70022</td>\n",
       "      <td>Yorkshire &amp; Humber</td>\n",
       "      <td>York Outer</td>\n",
       "      <td>E14001062</td>\n",
       "      <td>02/08/2017</td>\n",
       "      <td>1</td>\n",
       "      <td>1</td>\n",
       "      <td>1</td>\n",
       "      <td>NaN</td>\n",
       "      <td>82.0</td>\n",
       "      <td>...</td>\n",
       "      <td>Yes</td>\n",
       "      <td>GBP 15,600 - GBP 20,799</td>\n",
       "      <td>Own home outright</td>\n",
       "      <td>No religion</td>\n",
       "      <td>NaN</td>\n",
       "      <td>No</td>\n",
       "      <td>Female</td>\n",
       "      <td>English/Welsh/Scottish/Northern Irish/British</td>\n",
       "      <td>Retired from paid work</td>\n",
       "      <td>Yes</td>\n",
       "    </tr>\n",
       "    <tr>\n",
       "      <th>2193</th>\n",
       "      <td>70023</td>\n",
       "      <td>Yorkshire &amp; Humber</td>\n",
       "      <td>York Outer</td>\n",
       "      <td>E14001062</td>\n",
       "      <td>22/09/2017</td>\n",
       "      <td>1</td>\n",
       "      <td>1</td>\n",
       "      <td>1</td>\n",
       "      <td>Voted</td>\n",
       "      <td>86.0</td>\n",
       "      <td>...</td>\n",
       "      <td>No</td>\n",
       "      <td>GBP 45,000 - GBP 49,999</td>\n",
       "      <td>Own home outright</td>\n",
       "      <td>No religion</td>\n",
       "      <td>NaN</td>\n",
       "      <td>No</td>\n",
       "      <td>Male</td>\n",
       "      <td>English/Welsh/Scottish/Northern Irish/British</td>\n",
       "      <td>Retired from paid work</td>\n",
       "      <td>Yes</td>\n",
       "    </tr>\n",
       "  </tbody>\n",
       "</table>\n",
       "<p>10 rows × 30 columns</p>\n",
       "</div>"
      ],
      "text/plain": [
       "      finalserialno              region Constit_Code Constit_Name  \\\n",
       "2184          69904  Yorkshire & Humber   York Outer    E14001062   \n",
       "2185          69916  Yorkshire & Humber   York Outer    E14001062   \n",
       "2186          69918  Yorkshire & Humber   York Outer    E14001062   \n",
       "2187          69920  Yorkshire & Humber   York Outer    E14001062   \n",
       "2188          69921  Yorkshire & Humber   York Outer    E14001062   \n",
       "2189          69923  Yorkshire & Humber   York Outer    E14001062   \n",
       "2190          69925  Yorkshire & Humber   York Outer    E14001062   \n",
       "2191          70016  Yorkshire & Humber   York Outer    E14001062   \n",
       "2192          70022  Yorkshire & Humber   York Outer    E14001062   \n",
       "2193          70023  Yorkshire & Humber   York Outer    E14001062   \n",
       "\n",
       "     Interview_Date total_num_dwel total_num_hous num_elig_people  \\\n",
       "2184     25/07/2017              1              1               2   \n",
       "2185     08/08/2017              1              1               1   \n",
       "2186     16/09/2017              1              1               1   \n",
       "2187     31/07/2017              1              1               2   \n",
       "2188     19/09/2017              1              1               1   \n",
       "2189     20/09/2017              1              1               2   \n",
       "2190     31/07/2017              1              1               1   \n",
       "2191     19/09/2017              1              1               1   \n",
       "2192     02/08/2017              1              1               1   \n",
       "2193     22/09/2017              1              1               1   \n",
       "\n",
       "     turnoutValidationReg   Age  ...  k08                      y01  \\\n",
       "2184                Voted  55.0  ...  Yes  GBP 36,400 - GBP 39,999   \n",
       "2185                  NaN  49.0  ...  Yes  GBP 20,800 - GBP 25,999   \n",
       "2186                Voted  75.0  ...   No  GBP 15,600 - GBP 20,799   \n",
       "2187                Voted  53.0  ...  Yes      GBP 100,000 or more   \n",
       "2188                Voted  53.0  ...   No  GBP 45,000 - GBP 49,999   \n",
       "2189                  NaN  59.0  ...   No  GBP 60,000 - GBP 74,999   \n",
       "2190                  NaN  46.0  ...  Yes  GBP 75,000 - GBP 99,999   \n",
       "2191                Voted  50.0  ...  Yes   GBP 5,200 - GBP 10,399   \n",
       "2192                  NaN  82.0  ...  Yes  GBP 15,600 - GBP 20,799   \n",
       "2193                Voted  86.0  ...   No  GBP 45,000 - GBP 49,999   \n",
       "\n",
       "                                      y03  \\\n",
       "2184                 Own home on mortgage   \n",
       "2185                 Own home on mortgage   \n",
       "2186                    Own home outright   \n",
       "2187                    Own home outright   \n",
       "2188                    Own home outright   \n",
       "2189                    Own home outright   \n",
       "2190                    Own home outright   \n",
       "2191  It belongs to a Housing Association   \n",
       "2192                    Own home outright   \n",
       "2193                    Own home outright   \n",
       "\n",
       "                                        y06                  y07  \\\n",
       "2184  Church of England/ Anglican/Episcopal           Less often   \n",
       "2185                            No religion                  NaN   \n",
       "2186  Church of England/ Anglican/Episcopal  Once a week or more   \n",
       "2187                            No religion                  NaN   \n",
       "2188                            No religion                  NaN   \n",
       "2189                            No religion                  NaN   \n",
       "2190                            No religion                  NaN   \n",
       "2191                            No religion                  NaN   \n",
       "2192                            No religion                  NaN   \n",
       "2193                            No religion                  NaN   \n",
       "\n",
       "                         y08     y09  \\\n",
       "2184                      No    Male   \n",
       "2185                      No  Female   \n",
       "2186                      No  Female   \n",
       "2187  Yes: staff association  Female   \n",
       "2188                      No    Male   \n",
       "2189                      No  Female   \n",
       "2190                      No  Female   \n",
       "2191                      No  Female   \n",
       "2192                      No  Female   \n",
       "2193                      No    Male   \n",
       "\n",
       "                                                y11  \\\n",
       "2184  English/Welsh/Scottish/Northern Irish/British   \n",
       "2185  English/Welsh/Scottish/Northern Irish/British   \n",
       "2186  English/Welsh/Scottish/Northern Irish/British   \n",
       "2187  English/Welsh/Scottish/Northern Irish/British   \n",
       "2188  English/Welsh/Scottish/Northern Irish/British   \n",
       "2189  English/Welsh/Scottish/Northern Irish/British   \n",
       "2190  English/Welsh/Scottish/Northern Irish/British   \n",
       "2191  English/Welsh/Scottish/Northern Irish/British   \n",
       "2192  English/Welsh/Scottish/Northern Irish/British   \n",
       "2193  English/Welsh/Scottish/Northern Irish/British   \n",
       "\n",
       "                                                  y17  y18  \n",
       "2184        Working part time - employee (8-29 hours)  NaN  \n",
       "2185    Working full time - self-employed (30+ hours)  NaN  \n",
       "2186                           Retired from paid work  Yes  \n",
       "2187  Not working because temporarily sick or injured  Yes  \n",
       "2188    Working full time - self-employed (30+ hours)  NaN  \n",
       "2189                           Retired from paid work  Yes  \n",
       "2190                 Looking after the family or home  Yes  \n",
       "2191        Working part time - employee (8-29 hours)  NaN  \n",
       "2192                           Retired from paid work  Yes  \n",
       "2193                           Retired from paid work  Yes  \n",
       "\n",
       "[10 rows x 30 columns]"
      ]
     },
     "execution_count": 39,
     "metadata": {},
     "output_type": "execute_result"
    }
   ],
   "source": [
    "bes_df.tail(10)"
   ]
  },
  {
   "cell_type": "markdown",
   "metadata": {
    "slideshow": {
     "slide_type": "subslide"
    }
   },
   "source": [
    "## Dimensions\n",
    "\n",
    "It's good to know how many entries are in your dataset.\n",
    "\n",
    "`df.shape` (not a function!) returns a tuple; the first value is the number of rows (observations), the second is the number of columns (variables)."
   ]
  },
  {
   "cell_type": "code",
   "execution_count": 40,
   "metadata": {
    "slideshow": {
     "slide_type": "fragment"
    }
   },
   "outputs": [
    {
     "data": {
      "text/plain": [
       "(2194, 30)"
      ]
     },
     "execution_count": 40,
     "metadata": {},
     "output_type": "execute_result"
    }
   ],
   "source": [
    "bes_df.shape"
   ]
  },
  {
   "cell_type": "markdown",
   "metadata": {
    "slideshow": {
     "slide_type": "subslide"
    }
   },
   "source": [
    "## Columns and Rows\n",
    "\n",
    "The `df.columns` and `df.index` methods return the columns and rows respectively.\n",
    "\n",
    "Both of these are `pd.Index` objects; to change them into base python lists you can use the `.tolist()` method."
   ]
  },
  {
   "cell_type": "code",
   "execution_count": 42,
   "metadata": {
    "slideshow": {
     "slide_type": "subslide"
    }
   },
   "outputs": [
    {
     "name": "stdout",
     "output_type": "stream",
     "text": [
      "['finalserialno', 'region', 'Constit_Code', 'Constit_Name', 'Interview_Date', 'total_num_dwel', 'total_num_hous', 'num_elig_people', 'turnoutValidationReg', 'Age', 'a01', 'a02', 'a03', 'e01', 'k01', 'k02', 'k03', 'k11', 'k13', 'k06', 'k08', 'y01', 'y03', 'y06', 'y07', 'y08', 'y09', 'y11', 'y17', 'y18']\n",
      "RangeIndex(start=0, stop=2194, step=1)\n"
     ]
    }
   ],
   "source": [
    "print(bes_df.columns.tolist())\n",
    "print(bes_df.index)"
   ]
  },
  {
   "cell_type": "markdown",
   "metadata": {
    "slideshow": {
     "slide_type": "subslide"
    }
   },
   "source": [
    "## Data types and NAs\n",
    "\n",
    "Pandas series can only contain one data type; therefore each column in your data will have a single type.\n",
    "\n",
    "Pandas does not use base python data types. For an overview of the pandas data types, see [this blog post](https://pbpython.com/pandas_dtypes.html).\n",
    "\n",
    "We can view these with either `df.dtypes` or `df.info()`.\n",
    "\n",
    "The latter also contains information about the number of non-null (i.e. not NA) values in each column."
   ]
  },
  {
   "cell_type": "code",
   "execution_count": 43,
   "metadata": {
    "slideshow": {
     "slide_type": "subslide"
    }
   },
   "outputs": [
    {
     "name": "stdout",
     "output_type": "stream",
     "text": [
      "<class 'pandas.core.frame.DataFrame'>\n",
      "RangeIndex: 2194 entries, 0 to 2193\n",
      "Data columns (total 30 columns):\n",
      "finalserialno           2194 non-null int32\n",
      "region                  2194 non-null object\n",
      "Constit_Code            2194 non-null object\n",
      "Constit_Name            2194 non-null object\n",
      "Interview_Date          2194 non-null object\n",
      "total_num_dwel          2194 non-null object\n",
      "total_num_hous          2194 non-null object\n",
      "num_elig_people         2194 non-null object\n",
      "turnoutValidationReg    1507 non-null category\n",
      "Age                     2175 non-null float64\n",
      "a01                     2194 non-null object\n",
      "a02                     2132 non-null category\n",
      "a03                     2194 non-null category\n",
      "e01                     2194 non-null category\n",
      "k01                     2194 non-null category\n",
      "k02                     2194 non-null category\n",
      "k03                     1103 non-null category\n",
      "k11                     2194 non-null category\n",
      "k13                     2194 non-null category\n",
      "k06                     2194 non-null category\n",
      "k08                     2194 non-null category\n",
      "y01                     2194 non-null category\n",
      "y03                     2194 non-null category\n",
      "y06                     2194 non-null category\n",
      "y07                     1165 non-null category\n",
      "y08                     2194 non-null category\n",
      "y09                     2194 non-null category\n",
      "y11                     2194 non-null category\n",
      "y17                     2194 non-null category\n",
      "y18                     1039 non-null category\n",
      "dtypes: category(20), float64(1), int32(1), object(8)\n",
      "memory usage: 212.6+ KB\n"
     ]
    }
   ],
   "source": [
    "bes_df.info()"
   ]
  },
  {
   "cell_type": "markdown",
   "metadata": {
    "slideshow": {
     "slide_type": "subslide"
    }
   },
   "source": [
    "## Unique Values\n",
    "\n",
    "It's also important to know the possible values that a column can contain.\n",
    "\n",
    "We can see the unique values with the `df[col_name].unique()` function.\n",
    "\n",
    "We can tabulate these values with the `df[col_name].value_counts()` function."
   ]
  },
  {
   "cell_type": "code",
   "execution_count": 44,
   "metadata": {
    "slideshow": {
     "slide_type": "subslide"
    }
   },
   "outputs": [
    {
     "data": {
      "text/plain": [
       "[Labour, None/No party, Don`t know, Conservatives, Liberal Democrats, ..., NaN, Green Party, All of them/ more than one, Refused, Plaid Cymru]\n",
       "Length: 13\n",
       "Categories (12, object): [Refused < Don`t know < None/No party < Labour ... Green Party < United Kingdom Independence Party (UKIP) < Other < All of them/ more than one]"
      ]
     },
     "execution_count": 44,
     "metadata": {},
     "output_type": "execute_result"
    }
   ],
   "source": [
    "bes_df['a02'].unique()"
   ]
  },
  {
   "cell_type": "code",
   "execution_count": 45,
   "metadata": {
    "slideshow": {
     "slide_type": "subslide"
    }
   },
   "outputs": [
    {
     "data": {
      "text/plain": [
       "North West            304\n",
       "South East            282\n",
       "West Midlands         227\n",
       "Eastern               226\n",
       "London                212\n",
       "Scotland              191\n",
       "Yorkshire & Humber    187\n",
       "South West            167\n",
       "East Midlands         156\n",
       "Wales                 129\n",
       "North East            113\n",
       "Name: region, dtype: int64"
      ]
     },
     "execution_count": 45,
     "metadata": {},
     "output_type": "execute_result"
    }
   ],
   "source": [
    "bes_df['region'].value_counts()"
   ]
  },
  {
   "cell_type": "markdown",
   "metadata": {
    "slideshow": {
     "slide_type": "slide"
    }
   },
   "source": [
    "# Summary Functions\n",
    "\n",
    "One of the greatest advantages of pandas objects are the range of built-in statistical summaries.\n",
    "\n",
    "These include:\n",
    "\n",
    "- `.sum()`\n",
    "- `.mean()`\n",
    "- `.var()`\n",
    "- `.std()`\n",
    "- `.mode()`\n",
    "\n",
    "For a full reference, see: https://pandas.pydata.org/pandas-docs/version/0.25/getting_started/basics.html?highlight=variance#descriptive-statistics\n",
    "\n",
    "\n",
    "Dataframe summaries usually require an axis to be specified (rows: default, `axis=0`, columns: `axis=1`)."
   ]
  },
  {
   "cell_type": "code",
   "execution_count": 46,
   "metadata": {
    "slideshow": {
     "slide_type": "subslide"
    }
   },
   "outputs": [
    {
     "data": {
      "text/plain": [
       "num1                    17\n",
       "num2               1.49286\n",
       "str1    teacoffeetoffeekey\n",
       "dtype: object"
      ]
     },
     "execution_count": 46,
     "metadata": {},
     "output_type": "execute_result"
    }
   ],
   "source": [
    "df.sum()"
   ]
  },
  {
   "cell_type": "code",
   "execution_count": 47,
   "metadata": {
    "slideshow": {
     "slide_type": "subslide"
    }
   },
   "outputs": [
    {
     "data": {
      "text/plain": [
       "a    0.500000\n",
       "b    0.125000\n",
       "c    3.571429\n",
       "d    5.050000\n",
       "dtype: float64"
      ]
     },
     "execution_count": 47,
     "metadata": {},
     "output_type": "execute_result"
    }
   ],
   "source": [
    "df[['num1', 'num2']].mean(axis=1)"
   ]
  },
  {
   "cell_type": "code",
   "execution_count": 48,
   "metadata": {
    "slideshow": {
     "slide_type": "subslide"
    }
   },
   "outputs": [
    {
     "data": {
      "text/html": [
       "<div>\n",
       "<style scoped>\n",
       "    .dataframe tbody tr th:only-of-type {\n",
       "        vertical-align: middle;\n",
       "    }\n",
       "\n",
       "    .dataframe tbody tr th {\n",
       "        vertical-align: top;\n",
       "    }\n",
       "\n",
       "    .dataframe thead th {\n",
       "        text-align: right;\n",
       "    }\n",
       "</style>\n",
       "<table border=\"1\" class=\"dataframe\">\n",
       "  <thead>\n",
       "    <tr style=\"text-align: right;\">\n",
       "      <th></th>\n",
       "      <th>region</th>\n",
       "      <th>Constit_Code</th>\n",
       "      <th>Constit_Name</th>\n",
       "      <th>Interview_Date</th>\n",
       "      <th>total_num_dwel</th>\n",
       "      <th>total_num_hous</th>\n",
       "      <th>num_elig_people</th>\n",
       "      <th>turnoutValidationReg</th>\n",
       "      <th>Age</th>\n",
       "      <th>a01</th>\n",
       "      <th>...</th>\n",
       "      <th>k08</th>\n",
       "      <th>y01</th>\n",
       "      <th>y03</th>\n",
       "      <th>y06</th>\n",
       "      <th>y07</th>\n",
       "      <th>y08</th>\n",
       "      <th>y09</th>\n",
       "      <th>y11</th>\n",
       "      <th>y17</th>\n",
       "      <th>y18</th>\n",
       "    </tr>\n",
       "  </thead>\n",
       "  <tbody>\n",
       "    <tr>\n",
       "      <th>0</th>\n",
       "      <td>North West</td>\n",
       "      <td>Birmingham</td>\n",
       "      <td>S14000028</td>\n",
       "      <td>14/07/2017</td>\n",
       "      <td>1</td>\n",
       "      <td>1</td>\n",
       "      <td>2</td>\n",
       "      <td>Voted</td>\n",
       "      <td>42.0</td>\n",
       "      <td>brexit</td>\n",
       "      <td>...</td>\n",
       "      <td>Yes</td>\n",
       "      <td>Refused</td>\n",
       "      <td>Own home outright</td>\n",
       "      <td>No religion</td>\n",
       "      <td>Never or practically never</td>\n",
       "      <td>No</td>\n",
       "      <td>Female</td>\n",
       "      <td>English/Welsh/Scottish/Northern Irish/British</td>\n",
       "      <td>Working full time -  employee (30+ hours)</td>\n",
       "      <td>Yes</td>\n",
       "    </tr>\n",
       "    <tr>\n",
       "      <th>1</th>\n",
       "      <td>NaN</td>\n",
       "      <td>NaN</td>\n",
       "      <td>NaN</td>\n",
       "      <td>NaN</td>\n",
       "      <td>NaN</td>\n",
       "      <td>NaN</td>\n",
       "      <td>NaN</td>\n",
       "      <td>NaN</td>\n",
       "      <td>62.0</td>\n",
       "      <td>NaN</td>\n",
       "      <td>...</td>\n",
       "      <td>NaN</td>\n",
       "      <td>NaN</td>\n",
       "      <td>NaN</td>\n",
       "      <td>NaN</td>\n",
       "      <td>NaN</td>\n",
       "      <td>NaN</td>\n",
       "      <td>NaN</td>\n",
       "      <td>NaN</td>\n",
       "      <td>NaN</td>\n",
       "      <td>NaN</td>\n",
       "    </tr>\n",
       "  </tbody>\n",
       "</table>\n",
       "<p>2 rows × 29 columns</p>\n",
       "</div>"
      ],
      "text/plain": [
       "       region Constit_Code Constit_Name Interview_Date total_num_dwel  \\\n",
       "0  North West   Birmingham    S14000028     14/07/2017              1   \n",
       "1         NaN          NaN          NaN            NaN            NaN   \n",
       "\n",
       "  total_num_hous num_elig_people turnoutValidationReg   Age     a01  ...  k08  \\\n",
       "0              1               2                Voted  42.0  brexit  ...  Yes   \n",
       "1            NaN             NaN                  NaN  62.0     NaN  ...  NaN   \n",
       "\n",
       "       y01                y03          y06                         y07  y08  \\\n",
       "0  Refused  Own home outright  No religion  Never or practically never   No   \n",
       "1      NaN                NaN          NaN                         NaN  NaN   \n",
       "\n",
       "      y09                                            y11  \\\n",
       "0  Female  English/Welsh/Scottish/Northern Irish/British   \n",
       "1     NaN                                            NaN   \n",
       "\n",
       "                                         y17  y18  \n",
       "0  Working full time -  employee (30+ hours)  Yes  \n",
       "1                                        NaN  NaN  \n",
       "\n",
       "[2 rows x 29 columns]"
      ]
     },
     "execution_count": 48,
     "metadata": {},
     "output_type": "execute_result"
    }
   ],
   "source": [
    "bes_df.iloc[:, 1:].mode(axis=0) # Excludes first column"
   ]
  }
 ],
 "metadata": {
  "celltoolbar": "Slideshow",
  "kernelspec": {
   "display_name": "teaching",
   "language": "python",
   "name": "teaching"
  },
  "language_info": {
   "codemirror_mode": {
    "name": "ipython",
    "version": 3
   },
   "file_extension": ".py",
   "mimetype": "text/x-python",
   "name": "python",
   "nbconvert_exporter": "python",
   "pygments_lexer": "ipython3",
   "version": "3.7.6"
  }
 },
 "nbformat": 4,
 "nbformat_minor": 2
}
