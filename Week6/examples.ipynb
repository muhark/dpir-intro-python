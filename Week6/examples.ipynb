{
 "cells": [
  {
   "cell_type": "markdown",
   "metadata": {
    "slideshow": {
     "slide_type": "subslide"
    }
   },
   "source": [
    "# Coding Tutorial 6: Supervised Learning, Cross Validation and Hyperparameter Tuning\n",
    "\n",
    "In this coding tutorial we cover the following topics:\n",
    "\n",
    "- Decision Trees\n",
    "- Random Forests\n",
    "- Hyperparameter Tuning with k-fold Cross Validation"
   ]
  },
  {
   "cell_type": "markdown",
   "metadata": {
    "slideshow": {
     "slide_type": "subslide"
    }
   },
   "source": [
    "## Decision Trees"
   ]
  },
  {
   "cell_type": "code",
   "execution_count": 1,
   "metadata": {
    "slideshow": {
     "slide_type": "subslide"
    }
   },
   "outputs": [],
   "source": [
    "import pandas as pd\n",
    "import numpy as np\n",
    "import seaborn as sns\n",
    "import matplotlib.pyplot as plt\n",
    "\n",
    "# Set random seed\n",
    "np.random.seed(634)"
   ]
  },
  {
   "cell_type": "code",
   "execution_count": 31,
   "metadata": {
    "slideshow": {
     "slide_type": "subslide"
    }
   },
   "outputs": [],
   "source": [
    "link = 'http://github.com/muhark/dpir-intro-python/raw/master/Week2/data/bes_data_subset_week2.feather'\n",
    "df = pd.read_feather(link)\n",
    "\n",
    "# Let's predict 'Age' as a function of the rest\n",
    "features = ['region', 'Age', 'a03', 'e01', 'k01',\n",
    "            'k02', 'k11', 'k06', 'k08', 'y01',\n",
    "            'y03', 'y06', 'y08', 'y09', 'y11', 'y17']\n",
    "# Refactoring e01: partisan self-id\n",
    "df.loc[:, 'e01'] = df['e01'].apply(\n",
    "    lambda x: int(x.split(' ')[0]) if x[0] in ''.join(list(map(str, list(range(10))))) else None)\n",
    "labels = 'a02'\n",
    "df = df[features+[labels]].dropna()\n",
    "temp = pd.get_dummies(df[features])\n",
    "feature_names = temp.columns.tolist()\n",
    "X = temp.values"
   ]
  },
  {
   "cell_type": "code",
   "execution_count": 32,
   "metadata": {
    "slideshow": {
     "slide_type": "subslide"
    }
   },
   "outputs": [],
   "source": [
    "col_dict = {\n",
    "    'region': 'Region',\n",
    "    'Age': 'Age',\n",
    "    'a02': 'Which party is best able to handle this issue?',\n",
    "    'a03': 'How interested are you in politics?',\n",
    "    'e01': 'Left-Right Self-Placement',\n",
    "    'k01': 'Attention to Politics',\n",
    "    'k02': 'Reads politics news',\n",
    "    'k11': 'Contacted by canvasser',\n",
    "    'k06': 'Uses Twitter',\n",
    "    'k08': 'Uses Facebook',\n",
    "    'y01': 'Income bracket',\n",
    "    'y03': 'Housing type',\n",
    "    'y06': 'Religion',\n",
    "    'y08': 'Trade Union Membership',\n",
    "    'y09': 'Gender',\n",
    "    'y11': 'Ethnicity',\n",
    "    'y17': 'Employment type'\n",
    "}"
   ]
  },
  {
   "cell_type": "code",
   "execution_count": 40,
   "metadata": {
    "slideshow": {
     "slide_type": "subslide"
    }
   },
   "outputs": [
    {
     "data": {
      "text/plain": [
       "{'Refused': 0,\n",
       " 'Don`t know': 1,\n",
       " 'None/No party': 2,\n",
       " 'Labour': 3,\n",
       " 'Conservatives': 4,\n",
       " 'Liberal Democrats': 5,\n",
       " 'Scottish National Party (SNP)': 6,\n",
       " 'Plaid Cymru': 7,\n",
       " 'Green Party': 8,\n",
       " 'United Kingdom Independence Party (UKIP)': 9,\n",
       " 'Other': 10,\n",
       " 'All of them/ more than one': 11}"
      ]
     },
     "execution_count": 40,
     "metadata": {},
     "output_type": "execute_result"
    }
   ],
   "source": [
    "label_names = df.a02.cat.categories.tolist()\n",
    "cat_int_map = dict(zip(label_names, range(12)))\n",
    "cat_int_map"
   ]
  },
  {
   "cell_type": "code",
   "execution_count": 33,
   "metadata": {
    "slideshow": {
     "slide_type": "subslide"
    }
   },
   "outputs": [],
   "source": [
    "y = df[labels].map(cat_int_map).astype(int).values"
   ]
  },
  {
   "cell_type": "code",
   "execution_count": 35,
   "metadata": {
    "slideshow": {
     "slide_type": "subslide"
    }
   },
   "outputs": [],
   "source": [
    "from sklearn.tree import DecisionTreeClassifier\n",
    "from sklearn.tree import export_text"
   ]
  },
  {
   "cell_type": "code",
   "execution_count": 38,
   "metadata": {
    "slideshow": {
     "slide_type": "subslide"
    }
   },
   "outputs": [],
   "source": [
    "dt = DecisionTreeClassifier(criterion='entropy', max_depth=10)\n",
    "dt = dt.fit(X, y)"
   ]
  },
  {
   "cell_type": "code",
   "execution_count": 51,
   "metadata": {
    "slideshow": {
     "slide_type": "subslide"
    }
   },
   "outputs": [],
   "source": [
    "feature_names_long = [f.replace(f.split('_')[0], col_dict[f.split('_')[0]]) for f in feature_names]"
   ]
  },
  {
   "cell_type": "code",
   "execution_count": 52,
   "metadata": {
    "collapsed": true,
    "jupyter": {
     "outputs_hidden": true
    },
    "slideshow": {
     "slide_type": "subslide"
    }
   },
   "outputs": [
    {
     "name": "stdout",
     "output_type": "stream",
     "text": [
      "|--- Left-Right Self-Placement <= 4.50\n",
      "|   |--- Region_Scotland <= 0.50\n",
      "|   |   |--- How interested are you in politics?_Very interested <= 0.50\n",
      "|   |   |   |--- Age <= 31.50\n",
      "|   |   |   |   |--- Income bracket_GBP 50,000 - GBP 59,999 <= 0.50\n",
      "|   |   |   |   |   |--- Region_North West <= 0.50\n",
      "|   |   |   |   |   |   |--- How interested are you in politics?_Fairly interested <= 0.50\n",
      "|   |   |   |   |   |   |   |--- Age <= 20.50\n",
      "|   |   |   |   |   |   |   |   |--- class: 3\n",
      "|   |   |   |   |   |   |   |--- Age >  20.50\n",
      "|   |   |   |   |   |   |   |   |--- Contacted by canvasser_No <= 0.50\n",
      "|   |   |   |   |   |   |   |   |   |--- class: 1\n",
      "|   |   |   |   |   |   |   |   |--- Contacted by canvasser_No >  0.50\n",
      "|   |   |   |   |   |   |   |   |   |--- Employment type_Working part time - employee (8-29 hours) <= 0.50\n",
      "|   |   |   |   |   |   |   |   |   |   |--- class: 3\n",
      "|   |   |   |   |   |   |   |   |   |--- Employment type_Working part time - employee (8-29 hours) >  0.50\n",
      "|   |   |   |   |   |   |   |   |   |   |--- class: 1\n",
      "|   |   |   |   |   |   |--- How interested are you in politics?_Fairly interested >  0.50\n",
      "|   |   |   |   |   |   |   |--- Contacted by canvasser_No <= 0.50\n",
      "|   |   |   |   |   |   |   |   |--- Ethnicity_Refused <= 0.50\n",
      "|   |   |   |   |   |   |   |   |   |--- Income bracket_GBP 75,000 - GBP 99,999 <= 0.50\n",
      "|   |   |   |   |   |   |   |   |   |   |--- class: 3\n",
      "|   |   |   |   |   |   |   |   |   |--- Income bracket_GBP 75,000 - GBP 99,999 >  0.50\n",
      "|   |   |   |   |   |   |   |   |   |   |--- class: 3\n",
      "|   |   |   |   |   |   |   |   |--- Ethnicity_Refused >  0.50\n",
      "|   |   |   |   |   |   |   |   |   |--- class: 4\n",
      "|   |   |   |   |   |   |   |--- Contacted by canvasser_No >  0.50\n",
      "|   |   |   |   |   |   |   |   |--- Attention to Politics_9 <= 0.50\n",
      "|   |   |   |   |   |   |   |   |   |--- Employment type_Unemployed and actively seeking work <= 0.50\n",
      "|   |   |   |   |   |   |   |   |   |   |--- class: 3\n",
      "|   |   |   |   |   |   |   |   |   |--- Employment type_Unemployed and actively seeking work >  0.50\n",
      "|   |   |   |   |   |   |   |   |   |   |--- class: 3\n",
      "|   |   |   |   |   |   |   |   |--- Attention to Politics_9 >  0.50\n",
      "|   |   |   |   |   |   |   |   |   |--- class: 5\n",
      "|   |   |   |   |   |--- Region_North West >  0.50\n",
      "|   |   |   |   |   |   |--- Uses Facebook_No <= 0.50\n",
      "|   |   |   |   |   |   |   |--- Income bracket_GBP 5,200 - GBP 10,399 <= 0.50\n",
      "|   |   |   |   |   |   |   |   |--- Income bracket_GBP 36,400 - GBP 39,999 <= 0.50\n",
      "|   |   |   |   |   |   |   |   |   |--- class: 3\n",
      "|   |   |   |   |   |   |   |   |--- Income bracket_GBP 36,400 - GBP 39,999 >  0.50\n",
      "|   |   |   |   |   |   |   |   |   |--- Housing type_Rented from private landlord <= 0.50\n",
      "|   |   |   |   |   |   |   |   |   |   |--- class: 10\n",
      "|   |   |   |   |   |   |   |   |   |--- Housing type_Rented from private landlord >  0.50\n",
      "|   |   |   |   |   |   |   |   |   |   |--- class: 3\n",
      "|   |   |   |   |   |   |   |--- Income bracket_GBP 5,200 - GBP 10,399 >  0.50\n",
      "|   |   |   |   |   |   |   |   |--- class: 1\n",
      "|   |   |   |   |   |   |--- Uses Facebook_No >  0.50\n",
      "|   |   |   |   |   |   |   |--- Income bracket_GBP 10,400 - GBP 15,599 <= 0.50\n",
      "|   |   |   |   |   |   |   |   |--- Reads politics news_No <= 0.50\n",
      "|   |   |   |   |   |   |   |   |   |--- class: 2\n",
      "|   |   |   |   |   |   |   |   |--- Reads politics news_No >  0.50\n",
      "|   |   |   |   |   |   |   |   |   |--- class: 0\n",
      "|   |   |   |   |   |   |   |--- Income bracket_GBP 10,400 - GBP 15,599 >  0.50\n",
      "|   |   |   |   |   |   |   |   |--- class: 3\n",
      "|   |   |   |   |--- Income bracket_GBP 50,000 - GBP 59,999 >  0.50\n",
      "|   |   |   |   |   |--- Age <= 26.50\n",
      "|   |   |   |   |   |   |--- Left-Right Self-Placement <= 3.50\n",
      "|   |   |   |   |   |   |   |--- class: 3\n",
      "|   |   |   |   |   |   |--- Left-Right Self-Placement >  3.50\n",
      "|   |   |   |   |   |   |   |--- Region_West Midlands <= 0.50\n",
      "|   |   |   |   |   |   |   |   |--- class: 2\n",
      "|   |   |   |   |   |   |   |--- Region_West Midlands >  0.50\n",
      "|   |   |   |   |   |   |   |   |--- class: 3\n",
      "|   |   |   |   |   |--- Age >  26.50\n",
      "|   |   |   |   |   |   |--- Gender_Female <= 0.50\n",
      "|   |   |   |   |   |   |   |--- class: 5\n",
      "|   |   |   |   |   |   |--- Gender_Female >  0.50\n",
      "|   |   |   |   |   |   |   |--- class: 10\n",
      "|   |   |   |--- Age >  31.50\n",
      "|   |   |   |   |--- Attention to Politics_7 <= 0.50\n",
      "|   |   |   |   |   |--- Trade Union Membership_No <= 0.50\n",
      "|   |   |   |   |   |   |--- Contacted by canvasser_No <= 0.50\n",
      "|   |   |   |   |   |   |   |--- Income bracket_GBP 15,600 - GBP 20,799 <= 0.50\n",
      "|   |   |   |   |   |   |   |   |--- Employment type_Working full time - self-employed (30+ hours) <= 0.50\n",
      "|   |   |   |   |   |   |   |   |   |--- class: 3\n",
      "|   |   |   |   |   |   |   |   |--- Employment type_Working full time - self-employed (30+ hours) >  0.50\n",
      "|   |   |   |   |   |   |   |   |   |--- class: 2\n",
      "|   |   |   |   |   |   |   |--- Income bracket_GBP 15,600 - GBP 20,799 >  0.50\n",
      "|   |   |   |   |   |   |   |   |--- class: 11\n",
      "|   |   |   |   |   |   |--- Contacted by canvasser_No >  0.50\n",
      "|   |   |   |   |   |   |   |--- Attention to Politics_0 Pay no attention <= 0.50\n",
      "|   |   |   |   |   |   |   |   |--- Income bracket_GBP 20,800 - GBP 25,999 <= 0.50\n",
      "|   |   |   |   |   |   |   |   |   |--- Gender_Male <= 0.50\n",
      "|   |   |   |   |   |   |   |   |   |   |--- class: 3\n",
      "|   |   |   |   |   |   |   |   |   |--- Gender_Male >  0.50\n",
      "|   |   |   |   |   |   |   |   |   |   |--- class: 3\n",
      "|   |   |   |   |   |   |   |   |--- Income bracket_GBP 20,800 - GBP 25,999 >  0.50\n",
      "|   |   |   |   |   |   |   |   |   |--- class: 1\n",
      "|   |   |   |   |   |   |   |--- Attention to Politics_0 Pay no attention >  0.50\n",
      "|   |   |   |   |   |   |   |   |--- class: 10\n",
      "|   |   |   |   |   |--- Trade Union Membership_No >  0.50\n",
      "|   |   |   |   |   |   |--- Region_North West <= 0.50\n",
      "|   |   |   |   |   |   |   |--- Left-Right Self-Placement <= 1.50\n",
      "|   |   |   |   |   |   |   |   |--- Attention to Politics_3 <= 0.50\n",
      "|   |   |   |   |   |   |   |   |   |--- Region_West Midlands <= 0.50\n",
      "|   |   |   |   |   |   |   |   |   |   |--- class: 3\n",
      "|   |   |   |   |   |   |   |   |   |--- Region_West Midlands >  0.50\n",
      "|   |   |   |   |   |   |   |   |   |   |--- class: 3\n",
      "|   |   |   |   |   |   |   |   |--- Attention to Politics_3 >  0.50\n",
      "|   |   |   |   |   |   |   |   |   |--- class: 1\n",
      "|   |   |   |   |   |   |   |--- Left-Right Self-Placement >  1.50\n",
      "|   |   |   |   |   |   |   |   |--- Attention to Politics_8 <= 0.50\n",
      "|   |   |   |   |   |   |   |   |   |--- Age <= 74.50\n",
      "|   |   |   |   |   |   |   |   |   |   |--- class: 3\n",
      "|   |   |   |   |   |   |   |   |   |--- Age >  74.50\n",
      "|   |   |   |   |   |   |   |   |   |   |--- class: 3\n",
      "|   |   |   |   |   |   |   |   |--- Attention to Politics_8 >  0.50\n",
      "|   |   |   |   |   |   |   |   |   |--- Age <= 37.50\n",
      "|   |   |   |   |   |   |   |   |   |   |--- class: 4\n",
      "|   |   |   |   |   |   |   |   |   |--- Age >  37.50\n",
      "|   |   |   |   |   |   |   |   |   |   |--- class: 3\n",
      "|   |   |   |   |   |   |--- Region_North West >  0.50\n",
      "|   |   |   |   |   |   |   |--- Age <= 66.50\n",
      "|   |   |   |   |   |   |   |   |--- Age <= 53.50\n",
      "|   |   |   |   |   |   |   |   |   |--- Contacted by canvasser_No <= 0.50\n",
      "|   |   |   |   |   |   |   |   |   |   |--- class: 3\n",
      "|   |   |   |   |   |   |   |   |   |--- Contacted by canvasser_No >  0.50\n",
      "|   |   |   |   |   |   |   |   |   |   |--- class: 3\n",
      "|   |   |   |   |   |   |   |   |--- Age >  53.50\n",
      "|   |   |   |   |   |   |   |   |   |--- Ethnicity_English/Welsh/Scottish/Northern Irish/British <= 0.50\n",
      "|   |   |   |   |   |   |   |   |   |   |--- class: 3\n",
      "|   |   |   |   |   |   |   |   |   |--- Ethnicity_English/Welsh/Scottish/Northern Irish/British >  0.50\n",
      "|   |   |   |   |   |   |   |   |   |   |--- class: 3\n",
      "|   |   |   |   |   |   |   |--- Age >  66.50\n",
      "|   |   |   |   |   |   |   |   |--- How interested are you in politics?_Not at all interested <= 0.50\n",
      "|   |   |   |   |   |   |   |   |   |--- Religion_No religion <= 0.50\n",
      "|   |   |   |   |   |   |   |   |   |   |--- class: 1\n",
      "|   |   |   |   |   |   |   |   |   |--- Religion_No religion >  0.50\n",
      "|   |   |   |   |   |   |   |   |   |   |--- class: 4\n",
      "|   |   |   |   |   |   |   |   |--- How interested are you in politics?_Not at all interested >  0.50\n",
      "|   |   |   |   |   |   |   |   |   |--- class: 2\n",
      "|   |   |   |   |--- Attention to Politics_7 >  0.50\n",
      "|   |   |   |   |   |--- Region_Wales <= 0.50\n",
      "|   |   |   |   |   |   |--- Left-Right Self-Placement <= 3.50\n",
      "|   |   |   |   |   |   |   |--- Employment type_Working part time - self-employed (8-29 hours) <= 0.50\n",
      "|   |   |   |   |   |   |   |   |--- Housing type_Own home outright <= 0.50\n",
      "|   |   |   |   |   |   |   |   |   |--- Religion_Christian - no denomination <= 0.50\n",
      "|   |   |   |   |   |   |   |   |   |   |--- class: 3\n",
      "|   |   |   |   |   |   |   |   |   |--- Religion_Christian - no denomination >  0.50\n",
      "|   |   |   |   |   |   |   |   |   |   |--- class: 3\n",
      "|   |   |   |   |   |   |   |   |--- Housing type_Own home outright >  0.50\n",
      "|   |   |   |   |   |   |   |   |   |--- Income bracket_Under GBP 2,600 <= 0.50\n",
      "|   |   |   |   |   |   |   |   |   |   |--- class: 3\n",
      "|   |   |   |   |   |   |   |   |   |--- Income bracket_Under GBP 2,600 >  0.50\n",
      "|   |   |   |   |   |   |   |   |   |   |--- class: 4\n",
      "|   |   |   |   |   |   |   |--- Employment type_Working part time - self-employed (8-29 hours) >  0.50\n",
      "|   |   |   |   |   |   |   |   |--- Region_London <= 0.50\n",
      "|   |   |   |   |   |   |   |   |   |--- class: 11\n",
      "|   |   |   |   |   |   |   |   |--- Region_London >  0.50\n",
      "|   |   |   |   |   |   |   |   |   |--- class: 2\n",
      "|   |   |   |   |   |   |--- Left-Right Self-Placement >  3.50\n",
      "|   |   |   |   |   |   |   |--- Ethnicity_English/Welsh/Scottish/Northern Irish/British <= 0.50\n",
      "|   |   |   |   |   |   |   |   |--- Region_London <= 0.50\n",
      "|   |   |   |   |   |   |   |   |   |--- class: 11\n",
      "|   |   |   |   |   |   |   |   |--- Region_London >  0.50\n",
      "|   |   |   |   |   |   |   |   |   |--- class: 3\n",
      "|   |   |   |   |   |   |   |--- Ethnicity_English/Welsh/Scottish/Northern Irish/British >  0.50\n",
      "|   |   |   |   |   |   |   |   |--- Employment type_Retired from paid work <= 0.50\n",
      "|   |   |   |   |   |   |   |   |   |--- Region_North West <= 0.50\n",
      "|   |   |   |   |   |   |   |   |   |   |--- class: 2\n",
      "|   |   |   |   |   |   |   |   |   |--- Region_North West >  0.50\n",
      "|   |   |   |   |   |   |   |   |   |   |--- class: 6\n",
      "|   |   |   |   |   |   |   |   |--- Employment type_Retired from paid work >  0.50\n",
      "|   |   |   |   |   |   |   |   |   |--- Reads politics news_Yes <= 0.50\n",
      "|   |   |   |   |   |   |   |   |   |   |--- class: 2\n",
      "|   |   |   |   |   |   |   |   |   |--- Reads politics news_Yes >  0.50\n",
      "|   |   |   |   |   |   |   |   |   |   |--- class: 3\n",
      "|   |   |   |   |   |--- Region_Wales >  0.50\n",
      "|   |   |   |   |   |   |--- Religion_No religion <= 0.50\n",
      "|   |   |   |   |   |   |   |--- class: 7\n",
      "|   |   |   |   |   |   |--- Religion_No religion >  0.50\n",
      "|   |   |   |   |   |   |   |--- class: 3\n",
      "|   |   |--- How interested are you in politics?_Very interested >  0.50\n",
      "|   |   |   |--- Attention to Politics_8 <= 0.50\n",
      "|   |   |   |   |--- Left-Right Self-Placement <= 1.50\n",
      "|   |   |   |   |   |--- Employment type_Not working because temporarily sick or injured <= 0.50\n",
      "|   |   |   |   |   |   |--- Income bracket_GBP 26,000 - GBP 31,199 <= 0.50\n",
      "|   |   |   |   |   |   |   |--- Income bracket_GBP 60,000 - GBP 74,999 <= 0.50\n",
      "|   |   |   |   |   |   |   |   |--- class: 3\n",
      "|   |   |   |   |   |   |   |--- Income bracket_GBP 60,000 - GBP 74,999 >  0.50\n",
      "|   |   |   |   |   |   |   |   |--- Attention to Politics_10 Pay a great deal of attention <= 0.50\n",
      "|   |   |   |   |   |   |   |   |   |--- class: 3\n",
      "|   |   |   |   |   |   |   |   |--- Attention to Politics_10 Pay a great deal of attention >  0.50\n",
      "|   |   |   |   |   |   |   |   |   |--- class: 11\n",
      "|   |   |   |   |   |   |--- Income bracket_GBP 26,000 - GBP 31,199 >  0.50\n",
      "|   |   |   |   |   |   |   |--- Employment type_A full time student or pupil <= 0.50\n",
      "|   |   |   |   |   |   |   |   |--- class: 2\n",
      "|   |   |   |   |   |   |   |--- Employment type_A full time student or pupil >  0.50\n",
      "|   |   |   |   |   |   |   |   |--- class: 3\n",
      "|   |   |   |   |   |--- Employment type_Not working because temporarily sick or injured >  0.50\n",
      "|   |   |   |   |   |   |--- Age <= 55.50\n",
      "|   |   |   |   |   |   |   |--- class: 5\n",
      "|   |   |   |   |   |   |--- Age >  55.50\n",
      "|   |   |   |   |   |   |   |--- Housing type_Rented from local authority <= 0.50\n",
      "|   |   |   |   |   |   |   |   |--- class: 3\n",
      "|   |   |   |   |   |   |   |--- Housing type_Rented from local authority >  0.50\n",
      "|   |   |   |   |   |   |   |   |--- class: 9\n",
      "|   |   |   |   |--- Left-Right Self-Placement >  1.50\n",
      "|   |   |   |   |   |--- Religion_No religion <= 0.50\n",
      "|   |   |   |   |   |   |--- Region_Wales <= 0.50\n",
      "|   |   |   |   |   |   |   |--- Income bracket_Refused <= 0.50\n",
      "|   |   |   |   |   |   |   |   |--- Income bracket_GBP 26,000 - GBP 31,199 <= 0.50\n",
      "|   |   |   |   |   |   |   |   |   |--- Religion_Church of England/ Anglican/Episcopal <= 0.50\n",
      "|   |   |   |   |   |   |   |   |   |   |--- class: 3\n",
      "|   |   |   |   |   |   |   |   |   |--- Religion_Church of England/ Anglican/Episcopal >  0.50\n",
      "|   |   |   |   |   |   |   |   |   |   |--- class: 3\n",
      "|   |   |   |   |   |   |   |   |--- Income bracket_GBP 26,000 - GBP 31,199 >  0.50\n",
      "|   |   |   |   |   |   |   |   |   |--- class: 5\n",
      "|   |   |   |   |   |   |   |--- Income bracket_Refused >  0.50\n",
      "|   |   |   |   |   |   |   |   |--- Contacted by canvasser_No <= 0.50\n",
      "|   |   |   |   |   |   |   |   |   |--- class: 3\n",
      "|   |   |   |   |   |   |   |   |--- Contacted by canvasser_No >  0.50\n",
      "|   |   |   |   |   |   |   |   |   |--- Religion_Christian - no denomination <= 0.50\n",
      "|   |   |   |   |   |   |   |   |   |   |--- class: 2\n",
      "|   |   |   |   |   |   |   |   |   |--- Religion_Christian - no denomination >  0.50\n",
      "|   |   |   |   |   |   |   |   |   |   |--- class: 2\n",
      "|   |   |   |   |   |   |--- Region_Wales >  0.50\n",
      "|   |   |   |   |   |   |   |--- class: 4\n",
      "|   |   |   |   |   |--- Religion_No religion >  0.50\n",
      "|   |   |   |   |   |   |--- Uses Twitter_Yes <= 0.50\n",
      "|   |   |   |   |   |   |   |--- Age <= 70.50\n",
      "|   |   |   |   |   |   |   |   |--- Left-Right Self-Placement <= 2.50\n",
      "|   |   |   |   |   |   |   |   |   |--- Gender_Male <= 0.50\n",
      "|   |   |   |   |   |   |   |   |   |   |--- class: 5\n",
      "|   |   |   |   |   |   |   |   |   |--- Gender_Male >  0.50\n",
      "|   |   |   |   |   |   |   |   |   |   |--- class: 2\n",
      "|   |   |   |   |   |   |   |   |--- Left-Right Self-Placement >  2.50\n",
      "|   |   |   |   |   |   |   |   |   |--- Attention to Politics_10 Pay a great deal of attention <= 0.50\n",
      "|   |   |   |   |   |   |   |   |   |   |--- class: 1\n",
      "|   |   |   |   |   |   |   |   |   |--- Attention to Politics_10 Pay a great deal of attention >  0.50\n",
      "|   |   |   |   |   |   |   |   |   |   |--- class: 5\n",
      "|   |   |   |   |   |   |   |--- Age >  70.50\n",
      "|   |   |   |   |   |   |   |   |--- Attention to Politics_10 Pay a great deal of attention <= 0.50\n",
      "|   |   |   |   |   |   |   |   |   |--- Contacted by canvasser_No <= 0.50\n",
      "|   |   |   |   |   |   |   |   |   |   |--- class: 2\n",
      "|   |   |   |   |   |   |   |   |   |--- Contacted by canvasser_No >  0.50\n",
      "|   |   |   |   |   |   |   |   |   |   |--- class: 4\n",
      "|   |   |   |   |   |   |   |   |--- Attention to Politics_10 Pay a great deal of attention >  0.50\n",
      "|   |   |   |   |   |   |   |   |   |--- Housing type_Rented from local authority <= 0.50\n",
      "|   |   |   |   |   |   |   |   |   |   |--- class: 1\n",
      "|   |   |   |   |   |   |   |   |   |--- Housing type_Rented from local authority >  0.50\n",
      "|   |   |   |   |   |   |   |   |   |   |--- class: 10\n",
      "|   |   |   |   |   |   |--- Uses Twitter_Yes >  0.50\n",
      "|   |   |   |   |   |   |   |--- Uses Facebook_No <= 0.50\n",
      "|   |   |   |   |   |   |   |   |--- Attention to Politics_4 <= 0.50\n",
      "|   |   |   |   |   |   |   |   |   |--- Left-Right Self-Placement <= 2.50\n",
      "|   |   |   |   |   |   |   |   |   |   |--- class: 3\n",
      "|   |   |   |   |   |   |   |   |   |--- Left-Right Self-Placement >  2.50\n",
      "|   |   |   |   |   |   |   |   |   |   |--- class: 3\n",
      "|   |   |   |   |   |   |   |   |--- Attention to Politics_4 >  0.50\n",
      "|   |   |   |   |   |   |   |   |   |--- class: 4\n",
      "|   |   |   |   |   |   |   |--- Uses Facebook_No >  0.50\n",
      "|   |   |   |   |   |   |   |   |--- class: 11\n",
      "|   |   |   |--- Attention to Politics_8 >  0.50\n",
      "|   |   |   |   |--- Ethnicity_Indian <= 0.50\n",
      "|   |   |   |   |   |--- Gender_Female <= 0.50\n",
      "|   |   |   |   |   |   |--- Left-Right Self-Placement <= 2.50\n",
      "|   |   |   |   |   |   |   |--- Region_Eastern <= 0.50\n",
      "|   |   |   |   |   |   |   |   |--- Religion_Christian - no denomination <= 0.50\n",
      "|   |   |   |   |   |   |   |   |   |--- Income bracket_GBP 60,000 - GBP 74,999 <= 0.50\n",
      "|   |   |   |   |   |   |   |   |   |   |--- class: 3\n",
      "|   |   |   |   |   |   |   |   |   |--- Income bracket_GBP 60,000 - GBP 74,999 >  0.50\n",
      "|   |   |   |   |   |   |   |   |   |   |--- class: 3\n",
      "|   |   |   |   |   |   |   |   |--- Religion_Christian - no denomination >  0.50\n",
      "|   |   |   |   |   |   |   |   |   |--- class: 5\n",
      "|   |   |   |   |   |   |   |--- Region_Eastern >  0.50\n",
      "|   |   |   |   |   |   |   |   |--- class: 8\n",
      "|   |   |   |   |   |   |--- Left-Right Self-Placement >  2.50\n",
      "|   |   |   |   |   |   |   |--- Region_South East <= 0.50\n",
      "|   |   |   |   |   |   |   |   |--- Region_West Midlands <= 0.50\n",
      "|   |   |   |   |   |   |   |   |   |--- Age <= 33.50\n",
      "|   |   |   |   |   |   |   |   |   |   |--- class: 3\n",
      "|   |   |   |   |   |   |   |   |   |--- Age >  33.50\n",
      "|   |   |   |   |   |   |   |   |   |   |--- class: 2\n",
      "|   |   |   |   |   |   |   |   |--- Region_West Midlands >  0.50\n",
      "|   |   |   |   |   |   |   |   |   |--- class: 3\n",
      "|   |   |   |   |   |   |   |--- Region_South East >  0.50\n",
      "|   |   |   |   |   |   |   |   |--- Age <= 39.00\n",
      "|   |   |   |   |   |   |   |   |   |--- class: 5\n",
      "|   |   |   |   |   |   |   |   |--- Age >  39.00\n",
      "|   |   |   |   |   |   |   |   |   |--- Uses Facebook_No <= 0.50\n",
      "|   |   |   |   |   |   |   |   |   |   |--- class: 8\n",
      "|   |   |   |   |   |   |   |   |   |--- Uses Facebook_No >  0.50\n",
      "|   |   |   |   |   |   |   |   |   |   |--- class: 2\n",
      "|   |   |   |   |   |--- Gender_Female >  0.50\n",
      "|   |   |   |   |   |   |--- Contacted by canvasser_Yes <= 0.50\n",
      "|   |   |   |   |   |   |   |--- Region_Eastern <= 0.50\n",
      "|   |   |   |   |   |   |   |   |--- Age <= 31.00\n",
      "|   |   |   |   |   |   |   |   |   |--- class: 2\n",
      "|   |   |   |   |   |   |   |   |--- Age >  31.00\n",
      "|   |   |   |   |   |   |   |   |   |--- Age <= 40.00\n",
      "|   |   |   |   |   |   |   |   |   |   |--- class: 3\n",
      "|   |   |   |   |   |   |   |   |   |--- Age >  40.00\n",
      "|   |   |   |   |   |   |   |   |   |   |--- class: 2\n",
      "|   |   |   |   |   |   |   |--- Region_Eastern >  0.50\n",
      "|   |   |   |   |   |   |   |   |--- class: 3\n",
      "|   |   |   |   |   |   |--- Contacted by canvasser_Yes >  0.50\n",
      "|   |   |   |   |   |   |   |--- Religion_No religion <= 0.50\n",
      "|   |   |   |   |   |   |   |   |--- Religion_Other non-Christian <= 0.50\n",
      "|   |   |   |   |   |   |   |   |   |--- class: 3\n",
      "|   |   |   |   |   |   |   |   |--- Religion_Other non-Christian >  0.50\n",
      "|   |   |   |   |   |   |   |   |   |--- class: 8\n",
      "|   |   |   |   |   |   |   |--- Religion_No religion >  0.50\n",
      "|   |   |   |   |   |   |   |   |--- Housing type_Own home on mortgage <= 0.50\n",
      "|   |   |   |   |   |   |   |   |   |--- class: 8\n",
      "|   |   |   |   |   |   |   |   |--- Housing type_Own home on mortgage >  0.50\n",
      "|   |   |   |   |   |   |   |   |   |--- Income bracket_GBP 50,000 - GBP 59,999 <= 0.50\n",
      "|   |   |   |   |   |   |   |   |   |   |--- class: 2\n",
      "|   |   |   |   |   |   |   |   |   |--- Income bracket_GBP 50,000 - GBP 59,999 >  0.50\n",
      "|   |   |   |   |   |   |   |   |   |   |--- class: 8\n",
      "|   |   |   |   |--- Ethnicity_Indian >  0.50\n",
      "|   |   |   |   |   |--- class: 1\n",
      "|   |--- Region_Scotland >  0.50\n",
      "|   |   |--- How interested are you in politics?_Not very interested <= 0.50\n",
      "|   |   |   |--- Reads politics news_No <= 0.50\n",
      "|   |   |   |   |--- Left-Right Self-Placement <= 0.50\n",
      "|   |   |   |   |   |--- Ethnicity_African <= 0.50\n",
      "|   |   |   |   |   |   |--- class: 6\n",
      "|   |   |   |   |   |--- Ethnicity_African >  0.50\n",
      "|   |   |   |   |   |   |--- class: 4\n",
      "|   |   |   |   |--- Left-Right Self-Placement >  0.50\n",
      "|   |   |   |   |   |--- Age <= 48.50\n",
      "|   |   |   |   |   |   |--- Income bracket_Refused <= 0.50\n",
      "|   |   |   |   |   |   |   |--- class: 3\n",
      "|   |   |   |   |   |   |--- Income bracket_Refused >  0.50\n",
      "|   |   |   |   |   |   |   |--- class: 2\n",
      "|   |   |   |   |   |--- Age >  48.50\n",
      "|   |   |   |   |   |   |--- Age <= 55.50\n",
      "|   |   |   |   |   |   |   |--- Attention to Politics_6 <= 0.50\n",
      "|   |   |   |   |   |   |   |   |--- Religion_Church of England/ Anglican/Episcopal <= 0.50\n",
      "|   |   |   |   |   |   |   |   |   |--- class: 6\n",
      "|   |   |   |   |   |   |   |   |--- Religion_Church of England/ Anglican/Episcopal >  0.50\n",
      "|   |   |   |   |   |   |   |   |   |--- class: 2\n",
      "|   |   |   |   |   |   |   |--- Attention to Politics_6 >  0.50\n",
      "|   |   |   |   |   |   |   |   |--- class: 2\n",
      "|   |   |   |   |   |   |--- Age >  55.50\n",
      "|   |   |   |   |   |   |   |--- Attention to Politics_6 <= 0.50\n",
      "|   |   |   |   |   |   |   |   |--- Income bracket_GBP 26,000 - GBP 31,199 <= 0.50\n",
      "|   |   |   |   |   |   |   |   |   |--- How interested are you in politics?_Fairly interested <= 0.50\n",
      "|   |   |   |   |   |   |   |   |   |   |--- class: 2\n",
      "|   |   |   |   |   |   |   |   |   |--- How interested are you in politics?_Fairly interested >  0.50\n",
      "|   |   |   |   |   |   |   |   |   |   |--- class: 2\n",
      "|   |   |   |   |   |   |   |   |--- Income bracket_GBP 26,000 - GBP 31,199 >  0.50\n",
      "|   |   |   |   |   |   |   |   |   |--- class: 3\n",
      "|   |   |   |   |   |   |   |--- Attention to Politics_6 >  0.50\n",
      "|   |   |   |   |   |   |   |   |--- class: 6\n",
      "|   |   |   |--- Reads politics news_No >  0.50\n",
      "|   |   |   |   |--- Attention to Politics_4 <= 0.50\n",
      "|   |   |   |   |   |--- Attention to Politics_5 <= 0.50\n",
      "|   |   |   |   |   |   |--- Employment type_Retired from paid work <= 0.50\n",
      "|   |   |   |   |   |   |   |--- Age <= 21.00\n",
      "|   |   |   |   |   |   |   |   |--- class: 6\n",
      "|   |   |   |   |   |   |   |--- Age >  21.00\n",
      "|   |   |   |   |   |   |   |   |--- Housing type_Own home on mortgage <= 0.50\n",
      "|   |   |   |   |   |   |   |   |   |--- Employment type_Not working because long-term sick or disabled <= 0.50\n",
      "|   |   |   |   |   |   |   |   |   |   |--- class: 2\n",
      "|   |   |   |   |   |   |   |   |   |--- Employment type_Not working because long-term sick or disabled >  0.50\n",
      "|   |   |   |   |   |   |   |   |   |   |--- class: 2\n",
      "|   |   |   |   |   |   |   |   |--- Housing type_Own home on mortgage >  0.50\n",
      "|   |   |   |   |   |   |   |   |   |--- Employment type_Working part time - employee (8-29 hours) <= 0.50\n",
      "|   |   |   |   |   |   |   |   |   |   |--- class: 1\n",
      "|   |   |   |   |   |   |   |   |   |--- Employment type_Working part time - employee (8-29 hours) >  0.50\n",
      "|   |   |   |   |   |   |   |   |   |   |--- class: 2\n",
      "|   |   |   |   |   |   |--- Employment type_Retired from paid work >  0.50\n",
      "|   |   |   |   |   |   |   |--- class: 6\n",
      "|   |   |   |   |   |--- Attention to Politics_5 >  0.50\n",
      "|   |   |   |   |   |   |--- Housing type_Rented from private landlord <= 0.50\n",
      "|   |   |   |   |   |   |   |--- class: 1\n",
      "|   |   |   |   |   |   |--- Housing type_Rented from private landlord >  0.50\n",
      "|   |   |   |   |   |   |   |--- class: 3\n",
      "|   |   |   |   |--- Attention to Politics_4 >  0.50\n",
      "|   |   |   |   |   |--- Age <= 69.50\n",
      "|   |   |   |   |   |   |--- class: 3\n",
      "|   |   |   |   |   |--- Age >  69.50\n",
      "|   |   |   |   |   |   |--- class: 4\n",
      "|   |   |--- How interested are you in politics?_Not very interested >  0.50\n",
      "|   |   |   |--- Employment type_Working part time - employee (8-29 hours) <= 0.50\n",
      "|   |   |   |   |--- Housing type_Rented from local authority <= 0.50\n",
      "|   |   |   |   |   |--- Income bracket_Refused <= 0.50\n",
      "|   |   |   |   |   |   |--- class: 3\n",
      "|   |   |   |   |   |--- Income bracket_Refused >  0.50\n",
      "|   |   |   |   |   |   |--- class: 2\n",
      "|   |   |   |   |--- Housing type_Rented from local authority >  0.50\n",
      "|   |   |   |   |   |--- Left-Right Self-Placement <= 2.50\n",
      "|   |   |   |   |   |   |--- class: 1\n",
      "|   |   |   |   |   |--- Left-Right Self-Placement >  2.50\n",
      "|   |   |   |   |   |   |--- Reads politics news_Yes <= 0.50\n",
      "|   |   |   |   |   |   |   |--- class: 3\n",
      "|   |   |   |   |   |   |--- Reads politics news_Yes >  0.50\n",
      "|   |   |   |   |   |   |   |--- class: 1\n",
      "|   |   |   |--- Employment type_Working part time - employee (8-29 hours) >  0.50\n",
      "|   |   |   |   |--- class: 1\n",
      "|--- Left-Right Self-Placement >  4.50\n",
      "|   |--- Left-Right Self-Placement <= 5.50\n",
      "|   |   |--- Housing type_Own home outright <= 0.50\n",
      "|   |   |   |--- How interested are you in politics?_Fairly interested <= 0.50\n",
      "|   |   |   |   |--- Housing type_Own home on mortgage <= 0.50\n",
      "|   |   |   |   |   |--- How interested are you in politics?_Very interested <= 0.50\n",
      "|   |   |   |   |   |   |--- Age <= 53.50\n",
      "|   |   |   |   |   |   |   |--- Income bracket_GBP 10,400 - GBP 15,599 <= 0.50\n",
      "|   |   |   |   |   |   |   |   |--- Age <= 33.50\n",
      "|   |   |   |   |   |   |   |   |   |--- Attention to Politics_4 <= 0.50\n",
      "|   |   |   |   |   |   |   |   |   |   |--- class: 1\n",
      "|   |   |   |   |   |   |   |   |   |--- Attention to Politics_4 >  0.50\n",
      "|   |   |   |   |   |   |   |   |   |   |--- class: 3\n",
      "|   |   |   |   |   |   |   |   |--- Age >  33.50\n",
      "|   |   |   |   |   |   |   |   |   |--- Housing type_Rented from private landlord <= 0.50\n",
      "|   |   |   |   |   |   |   |   |   |   |--- class: 1\n",
      "|   |   |   |   |   |   |   |   |   |--- Housing type_Rented from private landlord >  0.50\n",
      "|   |   |   |   |   |   |   |   |   |   |--- class: 2\n",
      "|   |   |   |   |   |   |   |--- Income bracket_GBP 10,400 - GBP 15,599 >  0.50\n",
      "|   |   |   |   |   |   |   |   |--- Employment type_Working full time -  employee (30+ hours) <= 0.50\n",
      "|   |   |   |   |   |   |   |   |   |--- Gender_Male <= 0.50\n",
      "|   |   |   |   |   |   |   |   |   |   |--- class: 3\n",
      "|   |   |   |   |   |   |   |   |   |--- Gender_Male >  0.50\n",
      "|   |   |   |   |   |   |   |   |   |   |--- class: 2\n",
      "|   |   |   |   |   |   |   |   |--- Employment type_Working full time -  employee (30+ hours) >  0.50\n",
      "|   |   |   |   |   |   |   |   |   |--- class: 1\n",
      "|   |   |   |   |   |   |--- Age >  53.50\n",
      "|   |   |   |   |   |   |   |--- Age <= 76.00\n",
      "|   |   |   |   |   |   |   |   |--- Attention to Politics_5 <= 0.50\n",
      "|   |   |   |   |   |   |   |   |   |--- Region_Eastern <= 0.50\n",
      "|   |   |   |   |   |   |   |   |   |   |--- class: 2\n",
      "|   |   |   |   |   |   |   |   |   |--- Region_Eastern >  0.50\n",
      "|   |   |   |   |   |   |   |   |   |   |--- class: 9\n",
      "|   |   |   |   |   |   |   |   |--- Attention to Politics_5 >  0.50\n",
      "|   |   |   |   |   |   |   |   |   |--- Income bracket_GBP 5,200 - GBP 10,399 <= 0.50\n",
      "|   |   |   |   |   |   |   |   |   |   |--- class: 4\n",
      "|   |   |   |   |   |   |   |   |   |--- Income bracket_GBP 5,200 - GBP 10,399 >  0.50\n",
      "|   |   |   |   |   |   |   |   |   |   |--- class: 2\n",
      "|   |   |   |   |   |   |   |--- Age >  76.00\n",
      "|   |   |   |   |   |   |   |   |--- Contacted by canvasser_No <= 0.50\n",
      "|   |   |   |   |   |   |   |   |   |--- class: 1\n",
      "|   |   |   |   |   |   |   |   |--- Contacted by canvasser_No >  0.50\n",
      "|   |   |   |   |   |   |   |   |   |--- Region_Eastern <= 0.50\n",
      "|   |   |   |   |   |   |   |   |   |   |--- class: 3\n",
      "|   |   |   |   |   |   |   |   |   |--- Region_Eastern >  0.50\n",
      "|   |   |   |   |   |   |   |   |   |   |--- class: 1\n",
      "|   |   |   |   |   |--- How interested are you in politics?_Very interested >  0.50\n",
      "|   |   |   |   |   |   |--- Housing type_Rented from private landlord <= 0.50\n",
      "|   |   |   |   |   |   |   |--- Age <= 51.50\n",
      "|   |   |   |   |   |   |   |   |--- class: 4\n",
      "|   |   |   |   |   |   |   |--- Age >  51.50\n",
      "|   |   |   |   |   |   |   |   |--- Gender_Female <= 0.50\n",
      "|   |   |   |   |   |   |   |   |   |--- class: 10\n",
      "|   |   |   |   |   |   |   |   |--- Gender_Female >  0.50\n",
      "|   |   |   |   |   |   |   |   |   |--- class: 1\n",
      "|   |   |   |   |   |   |--- Housing type_Rented from private landlord >  0.50\n",
      "|   |   |   |   |   |   |   |--- Gender_Male <= 0.50\n",
      "|   |   |   |   |   |   |   |   |--- Age <= 37.50\n",
      "|   |   |   |   |   |   |   |   |   |--- Income bracket_GBP 15,600 - GBP 20,799 <= 0.50\n",
      "|   |   |   |   |   |   |   |   |   |   |--- class: 3\n",
      "|   |   |   |   |   |   |   |   |   |--- Income bracket_GBP 15,600 - GBP 20,799 >  0.50\n",
      "|   |   |   |   |   |   |   |   |   |   |--- class: 2\n",
      "|   |   |   |   |   |   |   |   |--- Age >  37.50\n",
      "|   |   |   |   |   |   |   |   |   |--- Attention to Politics_9 <= 0.50\n",
      "|   |   |   |   |   |   |   |   |   |   |--- class: 10\n",
      "|   |   |   |   |   |   |   |   |   |--- Attention to Politics_9 >  0.50\n",
      "|   |   |   |   |   |   |   |   |   |   |--- class: 4\n",
      "|   |   |   |   |   |   |   |--- Gender_Male >  0.50\n",
      "|   |   |   |   |   |   |   |   |--- Employment type_Working full time -  employee (30+ hours) <= 0.50\n",
      "|   |   |   |   |   |   |   |   |   |--- Contacted by canvasser_Yes <= 0.50\n",
      "|   |   |   |   |   |   |   |   |   |   |--- class: 2\n",
      "|   |   |   |   |   |   |   |   |   |--- Contacted by canvasser_Yes >  0.50\n",
      "|   |   |   |   |   |   |   |   |   |   |--- class: 3\n",
      "|   |   |   |   |   |   |   |   |--- Employment type_Working full time -  employee (30+ hours) >  0.50\n",
      "|   |   |   |   |   |   |   |   |   |--- class: 2\n",
      "|   |   |   |   |--- Housing type_Own home on mortgage >  0.50\n",
      "|   |   |   |   |   |--- Employment type_Working part time - self-employed (8-29 hours) <= 0.50\n",
      "|   |   |   |   |   |   |--- Uses Facebook_Yes <= 0.50\n",
      "|   |   |   |   |   |   |   |--- Reads politics news_Yes <= 0.50\n",
      "|   |   |   |   |   |   |   |   |--- Age <= 52.50\n",
      "|   |   |   |   |   |   |   |   |   |--- Religion_No religion <= 0.50\n",
      "|   |   |   |   |   |   |   |   |   |   |--- class: 2\n",
      "|   |   |   |   |   |   |   |   |   |--- Religion_No religion >  0.50\n",
      "|   |   |   |   |   |   |   |   |   |   |--- class: 1\n",
      "|   |   |   |   |   |   |   |   |--- Age >  52.50\n",
      "|   |   |   |   |   |   |   |   |   |--- Age <= 57.00\n",
      "|   |   |   |   |   |   |   |   |   |   |--- class: 2\n",
      "|   |   |   |   |   |   |   |   |   |--- Age >  57.00\n",
      "|   |   |   |   |   |   |   |   |   |   |--- class: 3\n",
      "|   |   |   |   |   |   |   |--- Reads politics news_Yes >  0.50\n",
      "|   |   |   |   |   |   |   |   |--- Attention to Politics_9 <= 0.50\n",
      "|   |   |   |   |   |   |   |   |   |--- Contacted by canvasser_No <= 0.50\n",
      "|   |   |   |   |   |   |   |   |   |   |--- class: 2\n",
      "|   |   |   |   |   |   |   |   |   |--- Contacted by canvasser_No >  0.50\n",
      "|   |   |   |   |   |   |   |   |   |   |--- class: 4\n",
      "|   |   |   |   |   |   |   |   |--- Attention to Politics_9 >  0.50\n",
      "|   |   |   |   |   |   |   |   |   |--- class: 5\n",
      "|   |   |   |   |   |   |--- Uses Facebook_Yes >  0.50\n",
      "|   |   |   |   |   |   |   |--- Income bracket_GBP 10,400 - GBP 15,599 <= 0.50\n",
      "|   |   |   |   |   |   |   |   |--- Religion_Christian - no denomination <= 0.50\n",
      "|   |   |   |   |   |   |   |   |   |--- Region_North West <= 0.50\n",
      "|   |   |   |   |   |   |   |   |   |   |--- class: 2\n",
      "|   |   |   |   |   |   |   |   |   |--- Region_North West >  0.50\n",
      "|   |   |   |   |   |   |   |   |   |   |--- class: 4\n",
      "|   |   |   |   |   |   |   |   |--- Religion_Christian - no denomination >  0.50\n",
      "|   |   |   |   |   |   |   |   |   |--- Age <= 54.50\n",
      "|   |   |   |   |   |   |   |   |   |   |--- class: 3\n",
      "|   |   |   |   |   |   |   |   |   |--- Age >  54.50\n",
      "|   |   |   |   |   |   |   |   |   |   |--- class: 2\n",
      "|   |   |   |   |   |   |   |--- Income bracket_GBP 10,400 - GBP 15,599 >  0.50\n",
      "|   |   |   |   |   |   |   |   |--- Age <= 54.00\n",
      "|   |   |   |   |   |   |   |   |   |--- class: 3\n",
      "|   |   |   |   |   |   |   |   |--- Age >  54.00\n",
      "|   |   |   |   |   |   |   |   |   |--- class: 1\n",
      "|   |   |   |   |   |--- Employment type_Working part time - self-employed (8-29 hours) >  0.50\n",
      "|   |   |   |   |   |   |--- Age <= 28.00\n",
      "|   |   |   |   |   |   |   |--- class: 3\n",
      "|   |   |   |   |   |   |--- Age >  28.00\n",
      "|   |   |   |   |   |   |   |--- Region_North West <= 0.50\n",
      "|   |   |   |   |   |   |   |   |--- Attention to Politics_7 <= 0.50\n",
      "|   |   |   |   |   |   |   |   |   |--- class: 5\n",
      "|   |   |   |   |   |   |   |   |--- Attention to Politics_7 >  0.50\n",
      "|   |   |   |   |   |   |   |   |   |--- class: 4\n",
      "|   |   |   |   |   |   |   |--- Region_North West >  0.50\n",
      "|   |   |   |   |   |   |   |   |--- class: 4\n",
      "|   |   |   |--- How interested are you in politics?_Fairly interested >  0.50\n",
      "|   |   |   |   |--- Region_Scotland <= 0.50\n",
      "|   |   |   |   |   |--- Employment type_Looking after the family or home <= 0.50\n",
      "|   |   |   |   |   |   |--- Religion_Islam/Muslim <= 0.50\n",
      "|   |   |   |   |   |   |   |--- Region_West Midlands <= 0.50\n",
      "|   |   |   |   |   |   |   |   |--- Reads politics news_No <= 0.50\n",
      "|   |   |   |   |   |   |   |   |   |--- Age <= 46.50\n",
      "|   |   |   |   |   |   |   |   |   |   |--- class: 2\n",
      "|   |   |   |   |   |   |   |   |   |--- Age >  46.50\n",
      "|   |   |   |   |   |   |   |   |   |   |--- class: 2\n",
      "|   |   |   |   |   |   |   |   |--- Reads politics news_No >  0.50\n",
      "|   |   |   |   |   |   |   |   |   |--- Region_North West <= 0.50\n",
      "|   |   |   |   |   |   |   |   |   |   |--- class: 1\n",
      "|   |   |   |   |   |   |   |   |   |--- Region_North West >  0.50\n",
      "|   |   |   |   |   |   |   |   |   |   |--- class: 2\n",
      "|   |   |   |   |   |   |   |--- Region_West Midlands >  0.50\n",
      "|   |   |   |   |   |   |   |   |--- Uses Twitter_No <= 0.50\n",
      "|   |   |   |   |   |   |   |   |   |--- Income bracket_GBP 15,600 - GBP 20,799 <= 0.50\n",
      "|   |   |   |   |   |   |   |   |   |   |--- class: 2\n",
      "|   |   |   |   |   |   |   |   |   |--- Income bracket_GBP 15,600 - GBP 20,799 >  0.50\n",
      "|   |   |   |   |   |   |   |   |   |   |--- class: 4\n",
      "|   |   |   |   |   |   |   |   |--- Uses Twitter_No >  0.50\n",
      "|   |   |   |   |   |   |   |   |   |--- Income bracket_GBP 5,200 - GBP 10,399 <= 0.50\n",
      "|   |   |   |   |   |   |   |   |   |   |--- class: 3\n",
      "|   |   |   |   |   |   |   |   |   |--- Income bracket_GBP 5,200 - GBP 10,399 >  0.50\n",
      "|   |   |   |   |   |   |   |   |   |   |--- class: 3\n",
      "|   |   |   |   |   |   |--- Religion_Islam/Muslim >  0.50\n",
      "|   |   |   |   |   |   |   |--- Uses Twitter_No <= 0.50\n",
      "|   |   |   |   |   |   |   |   |--- class: 6\n",
      "|   |   |   |   |   |   |   |--- Uses Twitter_No >  0.50\n",
      "|   |   |   |   |   |   |   |   |--- class: 3\n",
      "|   |   |   |   |   |--- Employment type_Looking after the family or home >  0.50\n",
      "|   |   |   |   |   |   |--- Income bracket_GBP 10,400 - GBP 15,599 <= 0.50\n",
      "|   |   |   |   |   |   |   |--- Region_East Midlands <= 0.50\n",
      "|   |   |   |   |   |   |   |   |--- class: 3\n",
      "|   |   |   |   |   |   |   |--- Region_East Midlands >  0.50\n",
      "|   |   |   |   |   |   |   |   |--- Reads politics news_Yes <= 0.50\n",
      "|   |   |   |   |   |   |   |   |   |--- class: 3\n",
      "|   |   |   |   |   |   |   |   |--- Reads politics news_Yes >  0.50\n",
      "|   |   |   |   |   |   |   |   |   |--- class: 2\n",
      "|   |   |   |   |   |   |--- Income bracket_GBP 10,400 - GBP 15,599 >  0.50\n",
      "|   |   |   |   |   |   |   |--- class: 2\n",
      "|   |   |   |   |--- Region_Scotland >  0.50\n",
      "|   |   |   |   |   |--- Contacted by canvasser_No <= 0.50\n",
      "|   |   |   |   |   |   |--- Reads politics news_Yes <= 0.50\n",
      "|   |   |   |   |   |   |   |--- Income bracket_GBP 10,400 - GBP 15,599 <= 0.50\n",
      "|   |   |   |   |   |   |   |   |--- class: 6\n",
      "|   |   |   |   |   |   |   |--- Income bracket_GBP 10,400 - GBP 15,599 >  0.50\n",
      "|   |   |   |   |   |   |   |   |--- class: 3\n",
      "|   |   |   |   |   |   |--- Reads politics news_Yes >  0.50\n",
      "|   |   |   |   |   |   |   |--- Age <= 37.50\n",
      "|   |   |   |   |   |   |   |   |--- Uses Twitter_Yes <= 0.50\n",
      "|   |   |   |   |   |   |   |   |   |--- class: 1\n",
      "|   |   |   |   |   |   |   |   |--- Uses Twitter_Yes >  0.50\n",
      "|   |   |   |   |   |   |   |   |   |--- class: 6\n",
      "|   |   |   |   |   |   |   |--- Age >  37.50\n",
      "|   |   |   |   |   |   |   |   |--- Attention to Politics_10 Pay a great deal of attention <= 0.50\n",
      "|   |   |   |   |   |   |   |   |   |--- class: 2\n",
      "|   |   |   |   |   |   |   |   |--- Attention to Politics_10 Pay a great deal of attention >  0.50\n",
      "|   |   |   |   |   |   |   |   |   |--- class: 1\n",
      "|   |   |   |   |   |--- Contacted by canvasser_No >  0.50\n",
      "|   |   |   |   |   |   |--- Age <= 61.00\n",
      "|   |   |   |   |   |   |   |--- Income bracket_Don`t know <= 0.50\n",
      "|   |   |   |   |   |   |   |   |--- Age <= 36.50\n",
      "|   |   |   |   |   |   |   |   |   |--- class: 3\n",
      "|   |   |   |   |   |   |   |   |--- Age >  36.50\n",
      "|   |   |   |   |   |   |   |   |   |--- Attention to Politics_8 <= 0.50\n",
      "|   |   |   |   |   |   |   |   |   |   |--- class: 1\n",
      "|   |   |   |   |   |   |   |   |   |--- Attention to Politics_8 >  0.50\n",
      "|   |   |   |   |   |   |   |   |   |   |--- class: 3\n",
      "|   |   |   |   |   |   |   |--- Income bracket_Don`t know >  0.50\n",
      "|   |   |   |   |   |   |   |   |--- class: 4\n",
      "|   |   |   |   |   |   |--- Age >  61.00\n",
      "|   |   |   |   |   |   |   |--- class: 6\n",
      "|   |   |--- Housing type_Own home outright >  0.50\n",
      "|   |   |   |--- Age <= 41.50\n",
      "|   |   |   |   |--- Attention to Politics_5 <= 0.50\n",
      "|   |   |   |   |   |--- Contacted by canvasser_No <= 0.50\n",
      "|   |   |   |   |   |   |--- Attention to Politics_7 <= 0.50\n",
      "|   |   |   |   |   |   |   |--- class: 2\n",
      "|   |   |   |   |   |   |--- Attention to Politics_7 >  0.50\n",
      "|   |   |   |   |   |   |   |--- class: 3\n",
      "|   |   |   |   |   |--- Contacted by canvasser_No >  0.50\n",
      "|   |   |   |   |   |   |--- Religion_Church of England/ Anglican/Episcopal <= 0.50\n",
      "|   |   |   |   |   |   |   |--- class: 1\n",
      "|   |   |   |   |   |   |--- Religion_Church of England/ Anglican/Episcopal >  0.50\n",
      "|   |   |   |   |   |   |   |--- class: 9\n",
      "|   |   |   |   |--- Attention to Politics_5 >  0.50\n",
      "|   |   |   |   |   |--- class: 3\n",
      "|   |   |   |--- Age >  41.50\n",
      "|   |   |   |   |--- Age <= 81.50\n",
      "|   |   |   |   |   |--- How interested are you in politics?_Very interested <= 0.50\n",
      "|   |   |   |   |   |   |--- Age <= 67.50\n",
      "|   |   |   |   |   |   |   |--- Region_Scotland <= 0.50\n",
      "|   |   |   |   |   |   |   |   |--- Religion_Christian - no denomination <= 0.50\n",
      "|   |   |   |   |   |   |   |   |   |--- Attention to Politics_8 <= 0.50\n",
      "|   |   |   |   |   |   |   |   |   |   |--- class: 4\n",
      "|   |   |   |   |   |   |   |   |   |--- Attention to Politics_8 >  0.50\n",
      "|   |   |   |   |   |   |   |   |   |   |--- class: 2\n",
      "|   |   |   |   |   |   |   |   |--- Religion_Christian - no denomination >  0.50\n",
      "|   |   |   |   |   |   |   |   |   |--- How interested are you in politics?_Don`t know <= 0.50\n",
      "|   |   |   |   |   |   |   |   |   |   |--- class: 4\n",
      "|   |   |   |   |   |   |   |   |   |--- How interested are you in politics?_Don`t know >  0.50\n",
      "|   |   |   |   |   |   |   |   |   |   |--- class: 8\n",
      "|   |   |   |   |   |   |   |--- Region_Scotland >  0.50\n",
      "|   |   |   |   |   |   |   |   |--- Income bracket_GBP 20,800 - GBP 25,999 <= 0.50\n",
      "|   |   |   |   |   |   |   |   |   |--- How interested are you in politics?_Not very interested <= 0.50\n",
      "|   |   |   |   |   |   |   |   |   |   |--- class: 2\n",
      "|   |   |   |   |   |   |   |   |   |--- How interested are you in politics?_Not very interested >  0.50\n",
      "|   |   |   |   |   |   |   |   |   |   |--- class: 3\n",
      "|   |   |   |   |   |   |   |   |--- Income bracket_GBP 20,800 - GBP 25,999 >  0.50\n",
      "|   |   |   |   |   |   |   |   |   |--- class: 6\n",
      "|   |   |   |   |   |   |--- Age >  67.50\n",
      "|   |   |   |   |   |   |   |--- Region_East Midlands <= 0.50\n",
      "|   |   |   |   |   |   |   |   |--- Income bracket_GBP 60,000 - GBP 74,999 <= 0.50\n",
      "|   |   |   |   |   |   |   |   |   |--- How interested are you in politics?_Fairly interested <= 0.50\n",
      "|   |   |   |   |   |   |   |   |   |   |--- class: 2\n",
      "|   |   |   |   |   |   |   |   |   |--- How interested are you in politics?_Fairly interested >  0.50\n",
      "|   |   |   |   |   |   |   |   |   |   |--- class: 4\n",
      "|   |   |   |   |   |   |   |   |--- Income bracket_GBP 60,000 - GBP 74,999 >  0.50\n",
      "|   |   |   |   |   |   |   |   |   |--- Trade Union Membership_Yes: trade union <= 0.50\n",
      "|   |   |   |   |   |   |   |   |   |   |--- class: 0\n",
      "|   |   |   |   |   |   |   |   |   |--- Trade Union Membership_Yes: trade union >  0.50\n",
      "|   |   |   |   |   |   |   |   |   |   |--- class: 3\n",
      "|   |   |   |   |   |   |   |--- Region_East Midlands >  0.50\n",
      "|   |   |   |   |   |   |   |   |--- Income bracket_GBP 5,200 - GBP 10,399 <= 0.50\n",
      "|   |   |   |   |   |   |   |   |   |--- Age <= 70.00\n",
      "|   |   |   |   |   |   |   |   |   |   |--- class: 2\n",
      "|   |   |   |   |   |   |   |   |   |--- Age >  70.00\n",
      "|   |   |   |   |   |   |   |   |   |   |--- class: 4\n",
      "|   |   |   |   |   |   |   |   |--- Income bracket_GBP 5,200 - GBP 10,399 >  0.50\n",
      "|   |   |   |   |   |   |   |   |   |--- class: 5\n",
      "|   |   |   |   |   |--- How interested are you in politics?_Very interested >  0.50\n",
      "|   |   |   |   |   |   |--- Employment type_Retired from paid work <= 0.50\n",
      "|   |   |   |   |   |   |   |--- Religion_No religion <= 0.50\n",
      "|   |   |   |   |   |   |   |   |--- Religion_Church of England/ Anglican/Episcopal <= 0.50\n",
      "|   |   |   |   |   |   |   |   |   |--- class: 9\n",
      "|   |   |   |   |   |   |   |   |--- Religion_Church of England/ Anglican/Episcopal >  0.50\n",
      "|   |   |   |   |   |   |   |   |   |--- Age <= 57.00\n",
      "|   |   |   |   |   |   |   |   |   |   |--- class: 2\n",
      "|   |   |   |   |   |   |   |   |   |--- Age >  57.00\n",
      "|   |   |   |   |   |   |   |   |   |   |--- class: 5\n",
      "|   |   |   |   |   |   |   |--- Religion_No religion >  0.50\n",
      "|   |   |   |   |   |   |   |   |--- Income bracket_GBP 26,000 - GBP 31,199 <= 0.50\n",
      "|   |   |   |   |   |   |   |   |   |--- class: 4\n",
      "|   |   |   |   |   |   |   |   |--- Income bracket_GBP 26,000 - GBP 31,199 >  0.50\n",
      "|   |   |   |   |   |   |   |   |   |--- class: 5\n",
      "|   |   |   |   |   |   |--- Employment type_Retired from paid work >  0.50\n",
      "|   |   |   |   |   |   |   |--- Region_Wales <= 0.50\n",
      "|   |   |   |   |   |   |   |   |--- Income bracket_GBP 26,000 - GBP 31,199 <= 0.50\n",
      "|   |   |   |   |   |   |   |   |   |--- Gender_Female <= 0.50\n",
      "|   |   |   |   |   |   |   |   |   |   |--- class: 4\n",
      "|   |   |   |   |   |   |   |   |   |--- Gender_Female >  0.50\n",
      "|   |   |   |   |   |   |   |   |   |   |--- class: 3\n",
      "|   |   |   |   |   |   |   |   |--- Income bracket_GBP 26,000 - GBP 31,199 >  0.50\n",
      "|   |   |   |   |   |   |   |   |   |--- Uses Facebook_No <= 0.50\n",
      "|   |   |   |   |   |   |   |   |   |   |--- class: 2\n",
      "|   |   |   |   |   |   |   |   |   |--- Uses Facebook_No >  0.50\n",
      "|   |   |   |   |   |   |   |   |   |   |--- class: 3\n",
      "|   |   |   |   |   |   |   |--- Region_Wales >  0.50\n",
      "|   |   |   |   |   |   |   |   |--- class: 5\n",
      "|   |   |   |   |--- Age >  81.50\n",
      "|   |   |   |   |   |--- Region_London <= 0.50\n",
      "|   |   |   |   |   |   |--- Region_Eastern <= 0.50\n",
      "|   |   |   |   |   |   |   |--- Reads politics news_No <= 0.50\n",
      "|   |   |   |   |   |   |   |   |--- Region_Yorkshire & Humber <= 0.50\n",
      "|   |   |   |   |   |   |   |   |   |--- Region_North West <= 0.50\n",
      "|   |   |   |   |   |   |   |   |   |   |--- class: 4\n",
      "|   |   |   |   |   |   |   |   |   |--- Region_North West >  0.50\n",
      "|   |   |   |   |   |   |   |   |   |   |--- class: 2\n",
      "|   |   |   |   |   |   |   |   |--- Region_Yorkshire & Humber >  0.50\n",
      "|   |   |   |   |   |   |   |   |   |--- class: 2\n",
      "|   |   |   |   |   |   |   |--- Reads politics news_No >  0.50\n",
      "|   |   |   |   |   |   |   |   |--- Age <= 86.50\n",
      "|   |   |   |   |   |   |   |   |   |--- Religion_No religion <= 0.50\n",
      "|   |   |   |   |   |   |   |   |   |   |--- class: 2\n",
      "|   |   |   |   |   |   |   |   |   |--- Religion_No religion >  0.50\n",
      "|   |   |   |   |   |   |   |   |   |   |--- class: 1\n",
      "|   |   |   |   |   |   |   |   |--- Age >  86.50\n",
      "|   |   |   |   |   |   |   |   |   |--- class: 1\n",
      "|   |   |   |   |   |   |--- Region_Eastern >  0.50\n",
      "|   |   |   |   |   |   |   |--- Attention to Politics_7 <= 0.50\n",
      "|   |   |   |   |   |   |   |   |--- Religion_Roman Catholic <= 0.50\n",
      "|   |   |   |   |   |   |   |   |   |--- class: 1\n",
      "|   |   |   |   |   |   |   |   |--- Religion_Roman Catholic >  0.50\n",
      "|   |   |   |   |   |   |   |   |   |--- class: 4\n",
      "|   |   |   |   |   |   |   |--- Attention to Politics_7 >  0.50\n",
      "|   |   |   |   |   |   |   |   |--- class: 3\n",
      "|   |   |   |   |   |--- Region_London >  0.50\n",
      "|   |   |   |   |   |   |--- How interested are you in politics?_Fairly interested <= 0.50\n",
      "|   |   |   |   |   |   |   |--- class: 1\n",
      "|   |   |   |   |   |   |--- How interested are you in politics?_Fairly interested >  0.50\n",
      "|   |   |   |   |   |   |   |--- class: 3\n",
      "|   |--- Left-Right Self-Placement >  5.50\n",
      "|   |   |--- Age <= 66.50\n",
      "|   |   |   |--- How interested are you in politics?_Not at all interested <= 0.50\n",
      "|   |   |   |   |--- Ethnicity_English/Welsh/Scottish/Northern Irish/British <= 0.50\n",
      "|   |   |   |   |   |--- Region_South East <= 0.50\n",
      "|   |   |   |   |   |   |--- How interested are you in politics?_Fairly interested <= 0.50\n",
      "|   |   |   |   |   |   |   |--- Contacted by canvasser_No <= 0.50\n",
      "|   |   |   |   |   |   |   |   |--- Region_Eastern <= 0.50\n",
      "|   |   |   |   |   |   |   |   |   |--- Age <= 39.00\n",
      "|   |   |   |   |   |   |   |   |   |   |--- class: 2\n",
      "|   |   |   |   |   |   |   |   |   |--- Age >  39.00\n",
      "|   |   |   |   |   |   |   |   |   |   |--- class: 3\n",
      "|   |   |   |   |   |   |   |   |--- Region_Eastern >  0.50\n",
      "|   |   |   |   |   |   |   |   |   |--- class: 1\n",
      "|   |   |   |   |   |   |   |--- Contacted by canvasser_No >  0.50\n",
      "|   |   |   |   |   |   |   |   |--- Employment type_Working full time -  employee (30+ hours) <= 0.50\n",
      "|   |   |   |   |   |   |   |   |   |--- Region_West Midlands <= 0.50\n",
      "|   |   |   |   |   |   |   |   |   |   |--- class: 4\n",
      "|   |   |   |   |   |   |   |   |   |--- Region_West Midlands >  0.50\n",
      "|   |   |   |   |   |   |   |   |   |   |--- class: 3\n",
      "|   |   |   |   |   |   |   |   |--- Employment type_Working full time -  employee (30+ hours) >  0.50\n",
      "|   |   |   |   |   |   |   |   |   |--- Attention to Politics_3 <= 0.50\n",
      "|   |   |   |   |   |   |   |   |   |   |--- class: 2\n",
      "|   |   |   |   |   |   |   |   |   |--- Attention to Politics_3 >  0.50\n",
      "|   |   |   |   |   |   |   |   |   |   |--- class: 5\n",
      "|   |   |   |   |   |   |--- How interested are you in politics?_Fairly interested >  0.50\n",
      "|   |   |   |   |   |   |   |--- Housing type_Own home on mortgage <= 0.50\n",
      "|   |   |   |   |   |   |   |   |--- Gender_Female <= 0.50\n",
      "|   |   |   |   |   |   |   |   |   |--- class: 3\n",
      "|   |   |   |   |   |   |   |   |--- Gender_Female >  0.50\n",
      "|   |   |   |   |   |   |   |   |   |--- Religion_Methodist <= 0.50\n",
      "|   |   |   |   |   |   |   |   |   |   |--- class: 4\n",
      "|   |   |   |   |   |   |   |   |   |--- Religion_Methodist >  0.50\n",
      "|   |   |   |   |   |   |   |   |   |   |--- class: 3\n",
      "|   |   |   |   |   |   |   |--- Housing type_Own home on mortgage >  0.50\n",
      "|   |   |   |   |   |   |   |   |--- Income bracket_GBP 100,000 or more <= 0.50\n",
      "|   |   |   |   |   |   |   |   |   |--- Age <= 27.00\n",
      "|   |   |   |   |   |   |   |   |   |   |--- class: 1\n",
      "|   |   |   |   |   |   |   |   |   |--- Age >  27.00\n",
      "|   |   |   |   |   |   |   |   |   |   |--- class: 3\n",
      "|   |   |   |   |   |   |   |   |--- Income bracket_GBP 100,000 or more >  0.50\n",
      "|   |   |   |   |   |   |   |   |   |--- Uses Facebook_Yes <= 0.50\n",
      "|   |   |   |   |   |   |   |   |   |   |--- class: 1\n",
      "|   |   |   |   |   |   |   |   |   |--- Uses Facebook_Yes >  0.50\n",
      "|   |   |   |   |   |   |   |   |   |   |--- class: 4\n",
      "|   |   |   |   |   |--- Region_South East >  0.50\n",
      "|   |   |   |   |   |   |--- Gender_Female <= 0.50\n",
      "|   |   |   |   |   |   |   |--- Income bracket_GBP 100,000 or more <= 0.50\n",
      "|   |   |   |   |   |   |   |   |--- class: 2\n",
      "|   |   |   |   |   |   |   |--- Income bracket_GBP 100,000 or more >  0.50\n",
      "|   |   |   |   |   |   |   |   |--- class: 11\n",
      "|   |   |   |   |   |   |--- Gender_Female >  0.50\n",
      "|   |   |   |   |   |   |   |--- class: 4\n",
      "|   |   |   |   |--- Ethnicity_English/Welsh/Scottish/Northern Irish/British >  0.50\n",
      "|   |   |   |   |   |--- Income bracket_GBP 5,200 - GBP 10,399 <= 0.50\n",
      "|   |   |   |   |   |   |--- How interested are you in politics?_Not very interested <= 0.50\n",
      "|   |   |   |   |   |   |   |--- Region_Scotland <= 0.50\n",
      "|   |   |   |   |   |   |   |   |--- Housing type_Own home outright <= 0.50\n",
      "|   |   |   |   |   |   |   |   |   |--- Religion_No religion <= 0.50\n",
      "|   |   |   |   |   |   |   |   |   |   |--- class: 4\n",
      "|   |   |   |   |   |   |   |   |   |--- Religion_No religion >  0.50\n",
      "|   |   |   |   |   |   |   |   |   |   |--- class: 4\n",
      "|   |   |   |   |   |   |   |   |--- Housing type_Own home outright >  0.50\n",
      "|   |   |   |   |   |   |   |   |   |--- Region_North East <= 0.50\n",
      "|   |   |   |   |   |   |   |   |   |   |--- class: 4\n",
      "|   |   |   |   |   |   |   |   |   |--- Region_North East >  0.50\n",
      "|   |   |   |   |   |   |   |   |   |   |--- class: 2\n",
      "|   |   |   |   |   |   |   |--- Region_Scotland >  0.50\n",
      "|   |   |   |   |   |   |   |   |--- Age <= 44.50\n",
      "|   |   |   |   |   |   |   |   |   |--- Attention to Politics_7 <= 0.50\n",
      "|   |   |   |   |   |   |   |   |   |   |--- class: 5\n",
      "|   |   |   |   |   |   |   |   |   |--- Attention to Politics_7 >  0.50\n",
      "|   |   |   |   |   |   |   |   |   |   |--- class: 1\n",
      "|   |   |   |   |   |   |   |   |--- Age >  44.50\n",
      "|   |   |   |   |   |   |   |   |   |--- Contacted by canvasser_No <= 0.50\n",
      "|   |   |   |   |   |   |   |   |   |   |--- class: 6\n",
      "|   |   |   |   |   |   |   |   |   |--- Contacted by canvasser_No >  0.50\n",
      "|   |   |   |   |   |   |   |   |   |   |--- class: 4\n",
      "|   |   |   |   |   |   |--- How interested are you in politics?_Not very interested >  0.50\n",
      "|   |   |   |   |   |   |   |--- Housing type_Own home outright <= 0.50\n",
      "|   |   |   |   |   |   |   |   |--- Attention to Politics_5 <= 0.50\n",
      "|   |   |   |   |   |   |   |   |   |--- Religion_Christian - no denomination <= 0.50\n",
      "|   |   |   |   |   |   |   |   |   |   |--- class: 4\n",
      "|   |   |   |   |   |   |   |   |   |--- Religion_Christian - no denomination >  0.50\n",
      "|   |   |   |   |   |   |   |   |   |   |--- class: 2\n",
      "|   |   |   |   |   |   |   |   |--- Attention to Politics_5 >  0.50\n",
      "|   |   |   |   |   |   |   |   |   |--- class: 3\n",
      "|   |   |   |   |   |   |   |--- Housing type_Own home outright >  0.50\n",
      "|   |   |   |   |   |   |   |   |--- Attention to Politics_3 <= 0.50\n",
      "|   |   |   |   |   |   |   |   |   |--- Trade Union Membership_Yes: trade union <= 0.50\n",
      "|   |   |   |   |   |   |   |   |   |   |--- class: 4\n",
      "|   |   |   |   |   |   |   |   |   |--- Trade Union Membership_Yes: trade union >  0.50\n",
      "|   |   |   |   |   |   |   |   |   |   |--- class: 2\n",
      "|   |   |   |   |   |   |   |   |--- Attention to Politics_3 >  0.50\n",
      "|   |   |   |   |   |   |   |   |   |--- class: 2\n",
      "|   |   |   |   |   |--- Income bracket_GBP 5,200 - GBP 10,399 >  0.50\n",
      "|   |   |   |   |   |   |--- Left-Right Self-Placement <= 7.50\n",
      "|   |   |   |   |   |   |   |--- Region_North West <= 0.50\n",
      "|   |   |   |   |   |   |   |   |--- Trade Union Membership_Yes: trade union <= 0.50\n",
      "|   |   |   |   |   |   |   |   |   |--- Employment type_Not working because long-term sick or disabled <= 0.50\n",
      "|   |   |   |   |   |   |   |   |   |   |--- class: 3\n",
      "|   |   |   |   |   |   |   |   |   |--- Employment type_Not working because long-term sick or disabled >  0.50\n",
      "|   |   |   |   |   |   |   |   |   |   |--- class: 2\n",
      "|   |   |   |   |   |   |   |   |--- Trade Union Membership_Yes: trade union >  0.50\n",
      "|   |   |   |   |   |   |   |   |   |--- class: 2\n",
      "|   |   |   |   |   |   |   |--- Region_North West >  0.50\n",
      "|   |   |   |   |   |   |   |   |--- class: 1\n",
      "|   |   |   |   |   |   |--- Left-Right Self-Placement >  7.50\n",
      "|   |   |   |   |   |   |   |--- Religion_No religion <= 0.50\n",
      "|   |   |   |   |   |   |   |   |--- class: 4\n",
      "|   |   |   |   |   |   |   |--- Religion_No religion >  0.50\n",
      "|   |   |   |   |   |   |   |   |--- class: 3\n",
      "|   |   |   |--- How interested are you in politics?_Not at all interested >  0.50\n",
      "|   |   |   |   |--- Ethnicity_English/Welsh/Scottish/Northern Irish/British <= 0.50\n",
      "|   |   |   |   |   |--- Attention to Politics_5 <= 0.50\n",
      "|   |   |   |   |   |   |--- class: 4\n",
      "|   |   |   |   |   |--- Attention to Politics_5 >  0.50\n",
      "|   |   |   |   |   |   |--- class: 8\n",
      "|   |   |   |   |--- Ethnicity_English/Welsh/Scottish/Northern Irish/British >  0.50\n",
      "|   |   |   |   |   |--- Age <= 53.50\n",
      "|   |   |   |   |   |   |--- Uses Facebook_No <= 0.50\n",
      "|   |   |   |   |   |   |   |--- Contacted by canvasser_No <= 0.50\n",
      "|   |   |   |   |   |   |   |   |--- class: 2\n",
      "|   |   |   |   |   |   |   |--- Contacted by canvasser_No >  0.50\n",
      "|   |   |   |   |   |   |   |   |--- class: 1\n",
      "|   |   |   |   |   |   |--- Uses Facebook_No >  0.50\n",
      "|   |   |   |   |   |   |   |--- class: 2\n",
      "|   |   |   |   |   |--- Age >  53.50\n",
      "|   |   |   |   |   |   |--- Age <= 55.50\n",
      "|   |   |   |   |   |   |   |--- class: 4\n",
      "|   |   |   |   |   |   |--- Age >  55.50\n",
      "|   |   |   |   |   |   |   |--- Region_West Midlands <= 0.50\n",
      "|   |   |   |   |   |   |   |   |--- Religion_Presbyterian/Church of Scotland <= 0.50\n",
      "|   |   |   |   |   |   |   |   |   |--- class: 1\n",
      "|   |   |   |   |   |   |   |   |--- Religion_Presbyterian/Church of Scotland >  0.50\n",
      "|   |   |   |   |   |   |   |   |   |--- class: 6\n",
      "|   |   |   |   |   |   |   |--- Region_West Midlands >  0.50\n",
      "|   |   |   |   |   |   |   |   |--- class: 9\n",
      "|   |   |--- Age >  66.50\n",
      "|   |   |   |--- Region_North West <= 0.50\n",
      "|   |   |   |   |--- How interested are you in politics?_Fairly interested <= 0.50\n",
      "|   |   |   |   |   |--- Religion_Church of England/ Anglican/Episcopal <= 0.50\n",
      "|   |   |   |   |   |   |--- Attention to Politics_2 <= 0.50\n",
      "|   |   |   |   |   |   |   |--- Ethnicity_Irish <= 0.50\n",
      "|   |   |   |   |   |   |   |   |--- Income bracket_GBP 10,400 - GBP 15,599 <= 0.50\n",
      "|   |   |   |   |   |   |   |   |   |--- Income bracket_GBP 100,000 or more <= 0.50\n",
      "|   |   |   |   |   |   |   |   |   |   |--- class: 4\n",
      "|   |   |   |   |   |   |   |   |   |--- Income bracket_GBP 100,000 or more >  0.50\n",
      "|   |   |   |   |   |   |   |   |   |   |--- class: 2\n",
      "|   |   |   |   |   |   |   |   |--- Income bracket_GBP 10,400 - GBP 15,599 >  0.50\n",
      "|   |   |   |   |   |   |   |   |   |--- Left-Right Self-Placement <= 6.50\n",
      "|   |   |   |   |   |   |   |   |   |   |--- class: 1\n",
      "|   |   |   |   |   |   |   |   |   |--- Left-Right Self-Placement >  6.50\n",
      "|   |   |   |   |   |   |   |   |   |   |--- class: 2\n",
      "|   |   |   |   |   |   |   |--- Ethnicity_Irish >  0.50\n",
      "|   |   |   |   |   |   |   |   |--- class: 3\n",
      "|   |   |   |   |   |   |--- Attention to Politics_2 >  0.50\n",
      "|   |   |   |   |   |   |   |--- Contacted by canvasser_Yes <= 0.50\n",
      "|   |   |   |   |   |   |   |   |--- Age <= 72.00\n",
      "|   |   |   |   |   |   |   |   |   |--- class: 2\n",
      "|   |   |   |   |   |   |   |   |--- Age >  72.00\n",
      "|   |   |   |   |   |   |   |   |   |--- class: 1\n",
      "|   |   |   |   |   |   |   |--- Contacted by canvasser_Yes >  0.50\n",
      "|   |   |   |   |   |   |   |   |--- class: 3\n",
      "|   |   |   |   |   |--- Religion_Church of England/ Anglican/Episcopal >  0.50\n",
      "|   |   |   |   |   |   |--- Income bracket_GBP 20,800 - GBP 25,999 <= 0.50\n",
      "|   |   |   |   |   |   |   |--- Age <= 74.50\n",
      "|   |   |   |   |   |   |   |   |--- How interested are you in politics?_Very interested <= 0.50\n",
      "|   |   |   |   |   |   |   |   |   |--- Region_Eastern <= 0.50\n",
      "|   |   |   |   |   |   |   |   |   |   |--- class: 4\n",
      "|   |   |   |   |   |   |   |   |   |--- Region_Eastern >  0.50\n",
      "|   |   |   |   |   |   |   |   |   |   |--- class: 3\n",
      "|   |   |   |   |   |   |   |   |--- How interested are you in politics?_Very interested >  0.50\n",
      "|   |   |   |   |   |   |   |   |   |--- class: 4\n",
      "|   |   |   |   |   |   |   |--- Age >  74.50\n",
      "|   |   |   |   |   |   |   |   |--- Income bracket_GBP 15,600 - GBP 20,799 <= 0.50\n",
      "|   |   |   |   |   |   |   |   |   |--- Income bracket_GBP 10,400 - GBP 15,599 <= 0.50\n",
      "|   |   |   |   |   |   |   |   |   |   |--- class: 4\n",
      "|   |   |   |   |   |   |   |   |   |--- Income bracket_GBP 10,400 - GBP 15,599 >  0.50\n",
      "|   |   |   |   |   |   |   |   |   |   |--- class: 9\n",
      "|   |   |   |   |   |   |   |   |--- Income bracket_GBP 15,600 - GBP 20,799 >  0.50\n",
      "|   |   |   |   |   |   |   |   |   |--- class: 9\n",
      "|   |   |   |   |   |   |--- Income bracket_GBP 20,800 - GBP 25,999 >  0.50\n",
      "|   |   |   |   |   |   |   |--- class: 1\n",
      "|   |   |   |   |--- How interested are you in politics?_Fairly interested >  0.50\n",
      "|   |   |   |   |   |--- Employment type_Retired from paid work <= 0.50\n",
      "|   |   |   |   |   |   |--- Region_Eastern <= 0.50\n",
      "|   |   |   |   |   |   |   |--- Attention to Politics_9 <= 0.50\n",
      "|   |   |   |   |   |   |   |   |--- class: 4\n",
      "|   |   |   |   |   |   |   |--- Attention to Politics_9 >  0.50\n",
      "|   |   |   |   |   |   |   |   |--- class: 2\n",
      "|   |   |   |   |   |   |--- Region_Eastern >  0.50\n",
      "|   |   |   |   |   |   |   |--- class: 2\n",
      "|   |   |   |   |   |--- Employment type_Retired from paid work >  0.50\n",
      "|   |   |   |   |   |   |--- Left-Right Self-Placement <= 9.50\n",
      "|   |   |   |   |   |   |   |--- Region_Eastern <= 0.50\n",
      "|   |   |   |   |   |   |   |   |--- Region_South East <= 0.50\n",
      "|   |   |   |   |   |   |   |   |   |--- Region_Wales <= 0.50\n",
      "|   |   |   |   |   |   |   |   |   |   |--- class: 4\n",
      "|   |   |   |   |   |   |   |   |   |--- Region_Wales >  0.50\n",
      "|   |   |   |   |   |   |   |   |   |   |--- class: 4\n",
      "|   |   |   |   |   |   |   |   |--- Region_South East >  0.50\n",
      "|   |   |   |   |   |   |   |   |   |--- Left-Right Self-Placement <= 6.50\n",
      "|   |   |   |   |   |   |   |   |   |   |--- class: 2\n",
      "|   |   |   |   |   |   |   |   |   |--- Left-Right Self-Placement >  6.50\n",
      "|   |   |   |   |   |   |   |   |   |   |--- class: 4\n",
      "|   |   |   |   |   |   |   |--- Region_Eastern >  0.50\n",
      "|   |   |   |   |   |   |   |   |--- Left-Right Self-Placement <= 6.50\n",
      "|   |   |   |   |   |   |   |   |   |--- Gender_Male <= 0.50\n",
      "|   |   |   |   |   |   |   |   |   |   |--- class: 1\n",
      "|   |   |   |   |   |   |   |   |   |--- Gender_Male >  0.50\n",
      "|   |   |   |   |   |   |   |   |   |   |--- class: 4\n",
      "|   |   |   |   |   |   |   |   |--- Left-Right Self-Placement >  6.50\n",
      "|   |   |   |   |   |   |   |   |   |--- Income bracket_GBP 31,200 - GBP 36,399 <= 0.50\n",
      "|   |   |   |   |   |   |   |   |   |   |--- class: 4\n",
      "|   |   |   |   |   |   |   |   |   |--- Income bracket_GBP 31,200 - GBP 36,399 >  0.50\n",
      "|   |   |   |   |   |   |   |   |   |   |--- class: 2\n",
      "|   |   |   |   |   |   |--- Left-Right Self-Placement >  9.50\n",
      "|   |   |   |   |   |   |   |--- Income bracket_GBP 10,400 - GBP 15,599 <= 0.50\n",
      "|   |   |   |   |   |   |   |   |--- Attention to Politics_7 <= 0.50\n",
      "|   |   |   |   |   |   |   |   |   |--- class: 4\n",
      "|   |   |   |   |   |   |   |   |--- Attention to Politics_7 >  0.50\n",
      "|   |   |   |   |   |   |   |   |   |--- class: 9\n",
      "|   |   |   |   |   |   |   |--- Income bracket_GBP 10,400 - GBP 15,599 >  0.50\n",
      "|   |   |   |   |   |   |   |   |--- class: 1\n",
      "|   |   |   |--- Region_North West >  0.50\n",
      "|   |   |   |   |--- Attention to Politics_3 <= 0.50\n",
      "|   |   |   |   |   |--- Attention to Politics_6 <= 0.50\n",
      "|   |   |   |   |   |   |--- class: 4\n",
      "|   |   |   |   |   |--- Attention to Politics_6 >  0.50\n",
      "|   |   |   |   |   |   |--- Reads politics news_Yes <= 0.50\n",
      "|   |   |   |   |   |   |   |--- class: 10\n",
      "|   |   |   |   |   |   |--- Reads politics news_Yes >  0.50\n",
      "|   |   |   |   |   |   |   |--- class: 4\n",
      "|   |   |   |   |--- Attention to Politics_3 >  0.50\n",
      "|   |   |   |   |   |--- Reads politics news_No <= 0.50\n",
      "|   |   |   |   |   |   |--- class: 4\n",
      "|   |   |   |   |   |--- Reads politics news_No >  0.50\n",
      "|   |   |   |   |   |   |--- class: 0\n",
      "\n"
     ]
    }
   ],
   "source": [
    "r = export_text(dt, feature_names=feature_names_long)\n",
    "print(r)"
   ]
  },
  {
   "cell_type": "markdown",
   "metadata": {
    "slideshow": {
     "slide_type": "subslide"
    }
   },
   "source": [
    "## Random Forests"
   ]
  },
  {
   "cell_type": "code",
   "execution_count": 53,
   "metadata": {
    "slideshow": {
     "slide_type": "subslide"
    }
   },
   "outputs": [],
   "source": [
    "from sklearn.ensemble import RandomForestClassifier"
   ]
  },
  {
   "cell_type": "code",
   "execution_count": 54,
   "metadata": {
    "slideshow": {
     "slide_type": "subslide"
    }
   },
   "outputs": [
    {
     "data": {
      "text/plain": [
       "RandomForestClassifier(bootstrap=True, ccp_alpha=0.0, class_weight=None,\n",
       "                       criterion='gini', max_depth=None, max_features='auto',\n",
       "                       max_leaf_nodes=None, max_samples=None,\n",
       "                       min_impurity_decrease=0.0, min_impurity_split=None,\n",
       "                       min_samples_leaf=1, min_samples_split=2,\n",
       "                       min_weight_fraction_leaf=0.0, n_estimators=100,\n",
       "                       n_jobs=None, oob_score=False, random_state=None,\n",
       "                       verbose=0, warm_start=False)"
      ]
     },
     "execution_count": 54,
     "metadata": {},
     "output_type": "execute_result"
    }
   ],
   "source": [
    "rf = RandomForestClassifier()\n",
    "rf.fit(X, y)"
   ]
  },
  {
   "cell_type": "code",
   "execution_count": 78,
   "metadata": {
    "slideshow": {
     "slide_type": "subslide"
    }
   },
   "outputs": [
    {
     "data": {
      "text/html": [
       "<div>\n",
       "<style scoped>\n",
       "    .dataframe tbody tr th:only-of-type {\n",
       "        vertical-align: middle;\n",
       "    }\n",
       "\n",
       "    .dataframe tbody tr th {\n",
       "        vertical-align: top;\n",
       "    }\n",
       "\n",
       "    .dataframe thead th {\n",
       "        text-align: right;\n",
       "    }\n",
       "</style>\n",
       "<table border=\"1\" class=\"dataframe\">\n",
       "  <thead>\n",
       "    <tr style=\"text-align: right;\">\n",
       "      <th></th>\n",
       "      <th>features</th>\n",
       "      <th>importance</th>\n",
       "    </tr>\n",
       "  </thead>\n",
       "  <tbody>\n",
       "    <tr>\n",
       "      <th>0</th>\n",
       "      <td>Uses Twitter</td>\n",
       "      <td>0.020176</td>\n",
       "    </tr>\n",
       "    <tr>\n",
       "      <th>1</th>\n",
       "      <td>Trade Union Membership</td>\n",
       "      <td>0.022174</td>\n",
       "    </tr>\n",
       "    <tr>\n",
       "      <th>2</th>\n",
       "      <td>Uses Facebook</td>\n",
       "      <td>0.027347</td>\n",
       "    </tr>\n",
       "    <tr>\n",
       "      <th>3</th>\n",
       "      <td>Ethnicity</td>\n",
       "      <td>0.028560</td>\n",
       "    </tr>\n",
       "    <tr>\n",
       "      <th>4</th>\n",
       "      <td>Reads politics news</td>\n",
       "      <td>0.029785</td>\n",
       "    </tr>\n",
       "    <tr>\n",
       "      <th>5</th>\n",
       "      <td>Contacted by canvasser</td>\n",
       "      <td>0.033800</td>\n",
       "    </tr>\n",
       "    <tr>\n",
       "      <th>6</th>\n",
       "      <td>Gender</td>\n",
       "      <td>0.034563</td>\n",
       "    </tr>\n",
       "    <tr>\n",
       "      <th>7</th>\n",
       "      <td>How interested are you in politics?</td>\n",
       "      <td>0.055021</td>\n",
       "    </tr>\n",
       "    <tr>\n",
       "      <th>8</th>\n",
       "      <td>Housing type</td>\n",
       "      <td>0.058485</td>\n",
       "    </tr>\n",
       "    <tr>\n",
       "      <th>9</th>\n",
       "      <td>Religion</td>\n",
       "      <td>0.069792</td>\n",
       "    </tr>\n",
       "    <tr>\n",
       "      <th>10</th>\n",
       "      <td>Employment type</td>\n",
       "      <td>0.070654</td>\n",
       "    </tr>\n",
       "    <tr>\n",
       "      <th>11</th>\n",
       "      <td>Age</td>\n",
       "      <td>0.085066</td>\n",
       "    </tr>\n",
       "    <tr>\n",
       "      <th>12</th>\n",
       "      <td>Attention to Politics</td>\n",
       "      <td>0.102591</td>\n",
       "    </tr>\n",
       "    <tr>\n",
       "      <th>13</th>\n",
       "      <td>Left-Right Self-Placement</td>\n",
       "      <td>0.112127</td>\n",
       "    </tr>\n",
       "    <tr>\n",
       "      <th>14</th>\n",
       "      <td>Region</td>\n",
       "      <td>0.114931</td>\n",
       "    </tr>\n",
       "    <tr>\n",
       "      <th>15</th>\n",
       "      <td>Income bracket</td>\n",
       "      <td>0.134927</td>\n",
       "    </tr>\n",
       "  </tbody>\n",
       "</table>\n",
       "</div>"
      ],
      "text/plain": [
       "                               features  importance\n",
       "0                          Uses Twitter    0.020176\n",
       "1                Trade Union Membership    0.022174\n",
       "2                         Uses Facebook    0.027347\n",
       "3                             Ethnicity    0.028560\n",
       "4                   Reads politics news    0.029785\n",
       "5                Contacted by canvasser    0.033800\n",
       "6                                Gender    0.034563\n",
       "7   How interested are you in politics?    0.055021\n",
       "8                          Housing type    0.058485\n",
       "9                              Religion    0.069792\n",
       "10                      Employment type    0.070654\n",
       "11                                  Age    0.085066\n",
       "12                Attention to Politics    0.102591\n",
       "13            Left-Right Self-Placement    0.112127\n",
       "14                               Region    0.114931\n",
       "15                       Income bracket    0.134927"
      ]
     },
     "execution_count": 78,
     "metadata": {},
     "output_type": "execute_result"
    }
   ],
   "source": [
    "feature_importances = pd.DataFrame(\n",
    "    data = {\n",
    "        \"features\":  [col_dict[f.split('_')[0]] for f in feature_names],\n",
    "        \"importance\": rf.feature_importances_\n",
    "    }\n",
    ")\n",
    "\n",
    "feature_importances = feature_importances.groupby(['features'])[['importance']].sum().sort_values('importance').reset_index()\n",
    "feature_importances"
   ]
  },
  {
   "cell_type": "code",
   "execution_count": 77,
   "metadata": {
    "slideshow": {
     "slide_type": "subslide"
    }
   },
   "outputs": [
    {
     "data": {
      "image/png": "[encoded data removed]",
      "text/plain": [
       "<Figure size 1080x576 with 1 Axes>"
      ]
     },
     "metadata": {
      "needs_background": "light"
     },
     "output_type": "display_data"
    }
   ],
   "source": [
    "f, ax = plt.subplots(1,1, figsize=(15, 8))\n",
    "ax.set_title(\"Sum Feature Importance for Predicting Preferred Party to Solve Biggest Issue\")\n",
    "sns.barplot(data = feature_importances, x='importance', y='features', ax=ax);"
   ]
  },
  {
   "cell_type": "markdown",
   "metadata": {
    "slideshow": {
     "slide_type": "subslide"
    }
   },
   "source": [
    "# Training-Test Split"
   ]
  },
  {
   "cell_type": "code",
   "execution_count": 79,
   "metadata": {
    "slideshow": {
     "slide_type": "subslide"
    }
   },
   "outputs": [],
   "source": [
    "from sklearn.model_selection import train_test_split"
   ]
  },
  {
   "cell_type": "code",
   "execution_count": 80,
   "metadata": {
    "slideshow": {
     "slide_type": "subslide"
    }
   },
   "outputs": [
    {
     "name": "stdout",
     "output_type": "stream",
     "text": [
      "(1410, 116) (1410,)\n",
      "(470, 116) (470,)\n"
     ]
    }
   ],
   "source": [
    "X_train, X_test, y_train, y_test = train_test_split(\n",
    "    X, y, test_size=0.25)\n",
    "\n",
    "print(X_train.shape, y_train.shape)\n",
    "print(X_test.shape, y_test.shape)"
   ]
  },
  {
   "cell_type": "code",
   "execution_count": 81,
   "metadata": {
    "slideshow": {
     "slide_type": "subslide"
    }
   },
   "outputs": [],
   "source": [
    "def correct_prediction_rate(model, X_test, y_test):\n",
    "    \"Returns rate of correct predictions.\"\n",
    "    preds = model.predict(X_test)\n",
    "    correct_preds =  sum(preds == y_test)\n",
    "    cpr = correct_preds/len(y_test)\n",
    "    return cpr"
   ]
  },
  {
   "cell_type": "code",
   "execution_count": 82,
   "metadata": {
    "slideshow": {
     "slide_type": "subslide"
    }
   },
   "outputs": [
    {
     "data": {
      "text/plain": [
       "RandomForestClassifier(bootstrap=True, ccp_alpha=0.0, class_weight=None,\n",
       "                       criterion='gini', max_depth=None, max_features='auto',\n",
       "                       max_leaf_nodes=None, max_samples=None,\n",
       "                       min_impurity_decrease=0.0, min_impurity_split=None,\n",
       "                       min_samples_leaf=1, min_samples_split=2,\n",
       "                       min_weight_fraction_leaf=0.0, n_estimators=100,\n",
       "                       n_jobs=None, oob_score=False, random_state=None,\n",
       "                       verbose=0, warm_start=False)"
      ]
     },
     "execution_count": 82,
     "metadata": {},
     "output_type": "execute_result"
    }
   ],
   "source": [
    "rf_OOS = RandomForestClassifier()\n",
    "rf_OOS.fit(X_train, y_train)"
   ]
  },
  {
   "cell_type": "code",
   "execution_count": 83,
   "metadata": {
    "slideshow": {
     "slide_type": "subslide"
    }
   },
   "outputs": [
    {
     "name": "stdout",
     "output_type": "stream",
     "text": [
      "0.4851063829787234\n"
     ]
    }
   ],
   "source": [
    "print(correct_prediction_rate(rf_OOS, X_test, y_test)) "
   ]
  },
  {
   "cell_type": "code",
   "execution_count": 84,
   "metadata": {
    "slideshow": {
     "slide_type": "subslide"
    }
   },
   "outputs": [
    {
     "name": "stdout",
     "output_type": "stream",
     "text": [
      "1.0\n",
      "1.0\n"
     ]
    }
   ],
   "source": [
    "print(correct_prediction_rate(rf, X_test, y_test))\n",
    "print(correct_prediction_rate(rf_OOS, X_train, y_train))"
   ]
  },
  {
   "cell_type": "markdown",
   "metadata": {
    "slideshow": {
     "slide_type": "subslide"
    }
   },
   "source": [
    "# Hyperparameter Tuning"
   ]
  },
  {
   "cell_type": "code",
   "execution_count": 85,
   "metadata": {
    "slideshow": {
     "slide_type": "subslide"
    }
   },
   "outputs": [],
   "source": [
    "from sklearn.model_selection import RandomizedSearchCV"
   ]
  },
  {
   "cell_type": "code",
   "execution_count": 86,
   "metadata": {
    "slideshow": {
     "slide_type": "subslide"
    }
   },
   "outputs": [
    {
     "data": {
      "text/plain": [
       "{'bootstrap': True,\n",
       " 'ccp_alpha': 0.0,\n",
       " 'class_weight': None,\n",
       " 'criterion': 'gini',\n",
       " 'max_depth': None,\n",
       " 'max_features': 'auto',\n",
       " 'max_leaf_nodes': None,\n",
       " 'max_samples': None,\n",
       " 'min_impurity_decrease': 0.0,\n",
       " 'min_impurity_split': None,\n",
       " 'min_samples_leaf': 1,\n",
       " 'min_samples_split': 2,\n",
       " 'min_weight_fraction_leaf': 0.0,\n",
       " 'n_estimators': 100,\n",
       " 'n_jobs': None,\n",
       " 'oob_score': False,\n",
       " 'random_state': None,\n",
       " 'verbose': 0,\n",
       " 'warm_start': False}"
      ]
     },
     "execution_count": 86,
     "metadata": {},
     "output_type": "execute_result"
    }
   ],
   "source": [
    "rf.get_params()"
   ]
  },
  {
   "cell_type": "code",
   "execution_count": 87,
   "metadata": {
    "slideshow": {
     "slide_type": "subslide"
    }
   },
   "outputs": [],
   "source": [
    "param_grid = {'bootstrap': [True, False],\n",
    " 'max_depth': [10, 20, 30, 40, 50, 60, 70, 80, 90, 100, None],\n",
    " 'max_features': ['auto', 'sqrt'],\n",
    " 'min_samples_leaf': [1, 2, 4],\n",
    " 'min_samples_split': [2, 5, 10],\n",
    " 'n_estimators': [200, 400, 600, 800, 1000, 1200, 1400, 1600, 1800, 2000]\n",
    " }"
   ]
  },
  {
   "cell_type": "code",
   "execution_count": 88,
   "metadata": {
    "slideshow": {
     "slide_type": "subslide"
    }
   },
   "outputs": [
    {
     "name": "stderr",
     "output_type": "stream",
     "text": [
      "/home/lunayneko/anaconda3/envs/teaching/lib/python3.7/site-packages/sklearn/model_selection/_split.py:667: UserWarning: The least populated class in y has only 3 members, which is less than n_splits=5.\n",
      "  % (min_groups, self.n_splits)), UserWarning)\n"
     ]
    },
    {
     "data": {
      "text/plain": [
       "RandomizedSearchCV(cv=5, error_score=nan,\n",
       "                   estimator=RandomForestClassifier(bootstrap=True,\n",
       "                                                    ccp_alpha=0.0,\n",
       "                                                    class_weight=None,\n",
       "                                                    criterion='gini',\n",
       "                                                    max_depth=None,\n",
       "                                                    max_features='auto',\n",
       "                                                    max_leaf_nodes=None,\n",
       "                                                    max_samples=None,\n",
       "                                                    min_impurity_decrease=0.0,\n",
       "                                                    min_impurity_split=None,\n",
       "                                                    min_samples_leaf=1,\n",
       "                                                    min_samples_split=2,\n",
       "                                                    min_weight_fraction_leaf=0.0,\n",
       "                                                    n_estimators=100,\n",
       "                                                    n_jobs...\n",
       "                   iid='deprecated', n_iter=100, n_jobs=-1,\n",
       "                   param_distributions={'bootstrap': [True, False],\n",
       "                                        'max_depth': [10, 20, 30, 40, 50, 60,\n",
       "                                                      70, 80, 90, 100, None],\n",
       "                                        'max_features': ['auto', 'sqrt'],\n",
       "                                        'min_samples_leaf': [1, 2, 4],\n",
       "                                        'min_samples_split': [2, 5, 10],\n",
       "                                        'n_estimators': [200, 400, 600, 800,\n",
       "                                                         1000, 1200, 1400, 1600,\n",
       "                                                         1800, 2000]},\n",
       "                   pre_dispatch='2*n_jobs', random_state=None, refit=True,\n",
       "                   return_train_score=False, scoring=None, verbose=0)"
      ]
     },
     "execution_count": 88,
     "metadata": {},
     "output_type": "execute_result"
    }
   ],
   "source": [
    "rf = RandomForestClassifier()\n",
    "\n",
    "rf_tuning = RandomizedSearchCV(\n",
    "    estimator=rf,\n",
    "    param_distributions=param_grid,\n",
    "    n_iter=100,\n",
    "    cv=5,\n",
    "    n_jobs=-1\n",
    ")\n",
    "\n",
    "rf_tuning.fit(X_train, y_train)"
   ]
  },
  {
   "cell_type": "code",
   "execution_count": 89,
   "metadata": {
    "slideshow": {
     "slide_type": "subslide"
    }
   },
   "outputs": [
    {
     "data": {
      "text/plain": [
       "{'n_estimators': 800,\n",
       " 'min_samples_split': 2,\n",
       " 'min_samples_leaf': 4,\n",
       " 'max_features': 'sqrt',\n",
       " 'max_depth': 70,\n",
       " 'bootstrap': False}"
      ]
     },
     "execution_count": 89,
     "metadata": {},
     "output_type": "execute_result"
    }
   ],
   "source": [
    "rf_tuning.best_params_"
   ]
  },
  {
   "cell_type": "code",
   "execution_count": 90,
   "metadata": {},
   "outputs": [
    {
     "data": {
      "text/plain": [
       "0.48936170212765956"
      ]
     },
     "execution_count": 90,
     "metadata": {},
     "output_type": "execute_result"
    }
   ],
   "source": [
    "correct_prediction_rate(\n",
    "        rf_tuning.best_estimator_,\n",
    "        X_test,\n",
    "        y_test\n",
    "    )"
   ]
  },
  {
   "cell_type": "code",
   "execution_count": 91,
   "metadata": {
    "slideshow": {
     "slide_type": "subslide"
    }
   },
   "outputs": [
    {
     "data": {
      "text/plain": [
       "'0.426% prediction accuracy improvement achieved!'"
      ]
     },
     "execution_count": 91,
     "metadata": {},
     "output_type": "execute_result"
    }
   ],
   "source": [
    "# Compare OOS accuracy\n",
    "\"{:.3f}%\".format(100*(\n",
    "    correct_prediction_rate(\n",
    "        rf_tuning.best_estimator_,\n",
    "        X_test,\n",
    "        y_test\n",
    "    )-correct_prediction_rate(\n",
    "        rf_OOS,\n",
    "        X_test,\n",
    "        y_test\n",
    "    ))\n",
    ") + \" prediction accuracy improvement achieved!\""
   ]
  }
 ],
 "metadata": {
  "kernelspec": {
   "display_name": "teaching",
   "language": "python",
   "name": "teaching"
  },
  "language_info": {
   "codemirror_mode": {
    "name": "ipython",
    "version": 3
   },
   "file_extension": ".py",
   "mimetype": "text/x-python",
   "name": "python",
   "nbconvert_exporter": "python",
   "pygments_lexer": "ipython3",
   "version": "3.7.9"
  }
 },
 "nbformat": 4,
 "nbformat_minor": 4
}
