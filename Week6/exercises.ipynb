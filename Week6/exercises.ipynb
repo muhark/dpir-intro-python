{
 "cells": [
  {
   "cell_type": "markdown",
   "metadata": {},
   "source": [
    "# Coding Exercise Week 6\n",
    "\n",
    "My main challenge to you this week is to improve on the 0.5066162570888468 correct out-of-sample prediction rate the lecture example RF achieved.\n",
    "\n",
    "To ensure that you have the same train-test split, I've given you the beginning of the code. Your goal is to build a model that provides a better prediction of `y_test` using `X_test` as inputs than the one in the lecture.\n",
    "\n",
    "Some ideas for how you might improve beyond the model in the lecture:\n",
    "\n",
    "- Using a GridCVSearch instead of RandomCVSearch to further fine-tune the hyperparameters\n",
    "- Add additional features to the model (make sure you have the same splits!)\n",
    "- Using a different prediction algorithm, for example a Support Vector Machine or a Neural Network."
   ]
  },
  {
   "cell_type": "code",
   "execution_count": 1,
   "metadata": {},
   "outputs": [],
   "source": [
    "import pandas as pd\n",
    "import numpy as np\n",
    "\n",
    "from sklearn.model_selection import train_test_split\n",
    "\n",
    "# Set random seed\n",
    "np.random.seed(634)"
   ]
  },
  {
   "cell_type": "code",
   "execution_count": 3,
   "metadata": {},
   "outputs": [
    {
     "name": "stdout",
     "output_type": "stream",
     "text": [
      "(1585, 128) (1585,)\n",
      "(529, 128) (529,)\n"
     ]
    }
   ],
   "source": [
    "link = 'http://github.com/muhark/dpir-intro-python/raw/master/Week2/data/bes_data_subset_week2.feather'\n",
    "df = pd.read_feather(link)\n",
    "# Refactoring e01: partisan self-id\n",
    "df.loc[:, 'e01'] = df['e01'].apply(\n",
    "    lambda x: int(x.split(' ')[0]) if x[0] in ''.join(list(map(str, list(range(10))))) else None)\n",
    "# Let's predict 'a02' as a function of the rest\n",
    "features = ['region', 'Age', 'a03', 'e01', 'k01',\n",
    "            'k02', 'k11', 'k06', 'k08', 'y01',\n",
    "            'y03', 'y06', 'y08', 'y09', 'y11', 'y17']\n",
    "labels = 'a02'\n",
    "\n",
    "# Prep data\n",
    "df = df[features+[labels]].dropna()\n",
    "temp = pd.get_dummies(df[features])\n",
    "feature_names = temp.columns.tolist()\n",
    "X = temp.values\n",
    "y = df[labels].values\n",
    "\n",
    "# Train-test split\n",
    "X_train, X_test, y_train, y_test = train_test_split(\n",
    "    X, y, test_size=0.25)\n",
    "\n",
    "print(X_train.shape, y_train.shape)\n",
    "print(X_test.shape, y_test.shape)"
   ]
  },
  {
   "cell_type": "code",
   "execution_count": null,
   "metadata": {},
   "outputs": [],
   "source": [
    "col_dict = {\n",
    "    'region': 'Region',\n",
    "    'Age': 'Age',\n",
    "    'a02': 'Which party is best able to handle this issue?',\n",
    "    'a03': 'How interested are you in politics?',\n",
    "    'e01': 'Left-Right Self-Placement',\n",
    "    'k01': 'Attention to Politics',\n",
    "    'k02': 'Reads politics news',\n",
    "    'k11': 'Contacted by canvasser',\n",
    "    'k06': 'Uses Twitter',\n",
    "    'k08': 'Uses Facebook',\n",
    "    'y01': 'Income bracket',\n",
    "    'y03': 'Housing type',\n",
    "    'y06': 'Religion',\n",
    "    'y08': 'Trade Union Membership',\n",
    "    'y09': 'Gender',\n",
    "    'y11': 'Ethnicity',\n",
    "    'y17': 'Employment type'\n",
    "}"
   ]
  }
 ],
 "metadata": {
  "kernelspec": {
   "display_name": "teaching",
   "language": "python",
   "name": "teaching"
  },
  "language_info": {
   "codemirror_mode": {
    "name": "ipython",
    "version": 3
   },
   "file_extension": ".py",
   "mimetype": "text/x-python",
   "name": "python",
   "nbconvert_exporter": "python",
   "pygments_lexer": "ipython3",
   "version": "3.7.9"
  }
 },
 "nbformat": 4,
 "nbformat_minor": 4
}
