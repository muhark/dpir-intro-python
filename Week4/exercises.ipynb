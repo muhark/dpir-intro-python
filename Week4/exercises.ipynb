{
 "cells": [
  {
   "cell_type": "markdown",
   "metadata": {},
   "source": [
    "# Week 4 Exercises: Data Visualisation\n",
    "\n",
    "This week in particular does not have correct \"solutions\". However, I encourage you to attempt the following:\n",
    "\n",
    "- Make your figures as complete and professional as possible. This means adding titles, legends, axis labels, and making them aesthetically pleasing.\n",
    "- Write the solutions as generalisable functions. As much as possible you should be able to substitute the inputs and still get a complete and correctly-labelled figure.\n",
    "\n",
    "Additional code examples can be found in: https://github.com/muhark/dpir-intro-python/blob/master/Week4/figures.py"
   ]
  },
  {
   "cell_type": "markdown",
   "metadata": {},
   "source": [
    "## Task 1: Simple Figure\n",
    "\n",
    "Using the BES data:\n",
    "\n",
    "- Create a figure with a single subplot.\n",
    "- Plot the answer to item 'a02' (party best suited to tackle the biggest issue in Britain) as a function of age.\n",
    "\n",
    "As an additional challenge, try using only functions from `matplotlib` for this figure."
   ]
  },
  {
   "cell_type": "markdown",
   "metadata": {},
   "source": [
    "## Task 2: Panelling\n",
    "\n",
    "Recreate the same figure as above, but with a separate subplot for each region.\n",
    "\n",
    "- Challenge 1: Use a for-loop\n",
    "- Challenge 2: Write this as a function where 'a02' and 'region' can be substituted for other categorical variables.\n",
    "- Challenge 3: Make the figure size dynamic, i.e. a function of the number of subplots.\n",
    "- Challenge 4: Limit the number of subplot columns to 4; if there are more than 4 categories, the function should add an additional row to fit them."
   ]
  },
  {
   "cell_type": "markdown",
   "metadata": {},
   "source": [
    "## Task 3: Color Palettes and Mapping\n",
    "\n",
    "Seaborn has a lot of resources for customising the color palettes in your figures. See: https://seaborn.pydata.org/tutorial/color_palettes.html\n",
    "\n",
    "A useful tool when creating figures is creating a column of color values. In other words, given some categorical column, you want to be able to create a column where each category is replaced by a unique color.\n",
    "\n",
    "Let's try doing this:\n",
    "\n",
    "- First, create a color palette with a number of colors equal to the number of categories in your column. To do this, you will need the `sns.color_palette()`, `pd.Series.unique()`, and `dict(zip())`.\n",
    "    - Given two lists, `zip` will combine them into a list of pairs. e.g. `zip([1, 2, 3], ['a', 'b', 'c'])` will return `[(1, 'a'), (2, 'b'), (3, 'c')]`. Passing this to `dict`, i.e. `dict(zip([1, 2, 3], ['a', 'b', 'c']))`, will return `{1: 'a', 2: 'b', 3: 'c'}`.\n",
    "- Apply the dictionary to your column. You should get back a column of RGB values (a triplet of red, green and blue defining a color)."
   ]
  },
  {
   "cell_type": "markdown",
   "metadata": {},
   "source": [
    "## Extra Challenge: Crosstab Heatmap\n",
    "\n",
    "This one is extremely hard. See the following figure: https://github.com/muhark/dpir-intro-python/blob/master/Week4/extra_challenge.png\n",
    "\n",
    "Do your best to create a similar figure. You will need the `pd.crosstab` function, and the `sns.heatmap` function.\n",
    "\n",
    "(Solution is in the github, but give it a go!)"
   ]
  }
 ],
 "metadata": {
  "kernelspec": {
   "display_name": "teaching",
   "language": "python",
   "name": "teaching"
  },
  "language_info": {
   "codemirror_mode": {
    "name": "ipython",
    "version": 3
   },
   "file_extension": ".py",
   "mimetype": "text/x-python",
   "name": "python",
   "nbconvert_exporter": "python",
   "pygments_lexer": "ipython3",
   "version": "3.7.9"
  }
 },
 "nbformat": 4,
 "nbformat_minor": 4
}
