{
 "cells": [
  {
   "cell_type": "markdown",
   "metadata": {
    "slideshow": {
     "slide_type": "subslide"
    }
   },
   "source": [
    "# Coding Tutorial 4: Data Visualisation"
   ]
  },
  {
   "cell_type": "markdown",
   "metadata": {
    "slideshow": {
     "slide_type": "subslide"
    }
   },
   "source": [
    "In this coding tutorial, we go through the basic building blocks of a `matplotlib` figure, and then review how to combine this with `seaborn` visuals."
   ]
  },
  {
   "cell_type": "code",
   "execution_count": null,
   "metadata": {
    "slideshow": {
     "slide_type": "subslide"
    }
   },
   "outputs": [],
   "source": [
    "import matplotlib\n",
    "import matplotlib.pyplot as plt\n",
    "import seaborn as sns\n",
    "import pandas as pd\n",
    "import numpy as np\n",
    "\n",
    "%matplotlib inline"
   ]
  },
  {
   "cell_type": "code",
   "execution_count": null,
   "metadata": {
    "slideshow": {
     "slide_type": "subslide"
    }
   },
   "outputs": [],
   "source": [
    "link = 'http://github.com/muhark/dpir-intro-python/raw/master/Week2/data/bes_data_subset_week2.feather'\n",
    "bes_df = pd.read_feather(link)"
   ]
  },
  {
   "cell_type": "markdown",
   "metadata": {
    "slideshow": {
     "slide_type": "subslide"
    }
   },
   "source": [
    "## Figure\n",
    "\n",
    "The `figure` is the top-level container for your visual. Its methods are concerned with high-level properties, such as:\n",
    "\n",
    "- Figure-level title (`suptitle`)\n",
    "- Subplot spacing (`subplots_adjust`)\n",
    "- Saving to file (`savefig`)\n",
    "\n",
    "It can be created using the `plt.figure()` function, but I prefer to use a different method."
   ]
  },
  {
   "cell_type": "code",
   "execution_count": null,
   "metadata": {
    "slideshow": {
     "slide_type": "subslide"
    }
   },
   "outputs": [],
   "source": [
    "f = plt.figure()"
   ]
  },
  {
   "cell_type": "markdown",
   "metadata": {
    "slideshow": {
     "slide_type": "subslide"
    }
   },
   "source": [
    "## Subplots\n",
    "\n",
    "The subplot(s) are the individual \"grids\" that the visuals are created on.\n",
    "\n",
    "I prefer to create the subplots and figure using the single command: `plt.subplots()`"
   ]
  },
  {
   "cell_type": "markdown",
   "metadata": {
    "slideshow": {
     "slide_type": "subslide"
    }
   },
   "source": [
    "### `plt.subplots()`\n",
    "\n",
    "This function takes two (three) arguments:\n",
    "\n",
    "- `n_rows`: integer\n",
    "- `n_columns`: integer\n",
    "- `figsize`: (optional), numeric tuple of (width, height). Values are hundreds of pixels.\n",
    "\n",
    "And returns two objects:\n",
    "\n",
    "- The figure, which we should assign to `f`\n",
    "- If `n_rows` $\\times$ `n_columns` = 1, the axes object for the sole subplot is returned.\n",
    "- If `n_rows` $\\times$ `n_columns` > 1, then a numpy `ndarray` of axes is returned."
   ]
  },
  {
   "cell_type": "code",
   "execution_count": null,
   "metadata": {
    "slideshow": {
     "slide_type": "subslide"
    }
   },
   "outputs": [],
   "source": [
    "f, ax = plt.subplots(1, 1, figsize=(15, 8)) # 1 subplot, 1500x800 pixels"
   ]
  },
  {
   "cell_type": "code",
   "execution_count": null,
   "metadata": {
    "slideshow": {
     "slide_type": "subslide"
    }
   },
   "outputs": [],
   "source": [
    "f, ax = plt.subplots(2, 1, figsize=(15, 8)) # 2 subplots, arranged 2 rows 1 col, 1500x800 pixels"
   ]
  },
  {
   "cell_type": "code",
   "execution_count": null,
   "metadata": {
    "slideshow": {
     "slide_type": "subslide"
    }
   },
   "outputs": [],
   "source": [
    "f, ax = plt.subplots(2, 3, figsize=(8, 12)) # 6 subplots, arranged 2 rows and 3 cols, 800x1200 pixels"
   ]
  },
  {
   "cell_type": "markdown",
   "metadata": {
    "slideshow": {
     "slide_type": "subslide"
    }
   },
   "source": [
    "### Accessing Subplots\n",
    "\n",
    "Any plotting function you call will by default be assigned to the last \"active\" subplot.\n",
    "\n",
    "This behaviour can be unpredictable, so when we have more than one subplot we want to be able to explicitly access it.\n",
    "\n",
    "The `numpy.ndarray` created by the `plt.subplots` function can be accessed with the following syntax: `ax[row][col]`"
   ]
  },
  {
   "cell_type": "code",
   "execution_count": null,
   "metadata": {
    "slideshow": {
     "slide_type": "subslide"
    }
   },
   "outputs": [],
   "source": [
    "f, ax = plt.subplots(3, 3, figsize=(12, 12))\n",
    "\n",
    "ax[0][0].set_title(\"This is subplot (0, 0)\", color=\"r\")\n",
    "ax[1][0].set_title(\"This is subplot (1, 0)\", color=\"r\")\n",
    "ax[2][1].set_title(\"This is subplot (2, 1)\", color=\"r\");"
   ]
  },
  {
   "cell_type": "code",
   "execution_count": null,
   "metadata": {
    "slideshow": {
     "slide_type": "subslide"
    }
   },
   "outputs": [],
   "source": [
    "f, ax = plt.subplots(3, 3, figsize=(12, 12))\n",
    "for row in range(3):\n",
    "    for col in range(3):\n",
    "        ax[row][col].set_title(f\"This is subplot ({row}, {col})\");"
   ]
  },
  {
   "cell_type": "markdown",
   "metadata": {
    "slideshow": {
     "slide_type": "subslide"
    }
   },
   "source": [
    "Of course, if there is just one subplot we don't need to use indexers."
   ]
  },
  {
   "cell_type": "code",
   "execution_count": null,
   "metadata": {
    "slideshow": {
     "slide_type": "subslide"
    }
   },
   "outputs": [],
   "source": [
    "f, ax = plt.subplots()\n",
    "ax.set_title(\"This is the only subplot\");"
   ]
  },
  {
   "cell_type": "markdown",
   "metadata": {
    "slideshow": {
     "slide_type": "subslide"
    }
   },
   "source": [
    "**Task and Check**\n",
    "\n",
    "Can you:\n",
    "\n",
    "- Create a figure of dimensions 1500x300 with five subplots arranged 1 (row) x 5 (columns)?\n",
    "- Create a figure of dimensions 300x300 with one subplot, labelled \"Just one subplot\"\n",
    "- Create a figure of dimensions 900x900 with nine subplots in a square, with the bottom-left one labelled \"bottom-left\""
   ]
  },
  {
   "cell_type": "code",
   "execution_count": null,
   "metadata": {
    "slideshow": {
     "slide_type": "fragment"
    }
   },
   "outputs": [],
   "source": []
  },
  {
   "cell_type": "code",
   "execution_count": null,
   "metadata": {
    "slideshow": {
     "slide_type": "fragment"
    }
   },
   "outputs": [],
   "source": []
  },
  {
   "cell_type": "code",
   "execution_count": null,
   "metadata": {
    "slideshow": {
     "slide_type": "fragment"
    }
   },
   "outputs": [],
   "source": []
  },
  {
   "cell_type": "markdown",
   "metadata": {
    "slideshow": {
     "slide_type": "subslide"
    }
   },
   "source": [
    "## Adding Graphical Elements\n",
    "\n",
    "Now we get to the fun part: actually adding the visuals to our graphs. We begin with the two simplest elements:\n",
    "\n",
    "- Dots (`ax.scatter`)\n",
    "- Lines (`ax.plot`)"
   ]
  },
  {
   "cell_type": "markdown",
   "metadata": {
    "slideshow": {
     "slide_type": "subslide"
    }
   },
   "source": [
    "### `ax.scatter`\n",
    "\n",
    "The `scatter` function requires at a minimum, the x- and y- coordinates of the dots it should be creating.\n",
    "\n",
    "This should be passed as two equal-length vectors (i.e. columns in a dataframe)."
   ]
  },
  {
   "cell_type": "code",
   "execution_count": null,
   "metadata": {
    "slideshow": {
     "slide_type": "subslide"
    }
   },
   "outputs": [],
   "source": [
    "# Let's generate some random data\n",
    "\n",
    "x = np.random.normal(0, 1, 100) # 100 draws from standard normal with mean 0, sd 1\n",
    "y = np.random.normal(0, 1, 100) \n",
    "\n",
    "df = pd.DataFrame({'x':x, 'y':y})"
   ]
  },
  {
   "cell_type": "code",
   "execution_count": null,
   "metadata": {
    "slideshow": {
     "slide_type": "subslide"
    }
   },
   "outputs": [],
   "source": [
    "f, ax = plt.subplots(1, 1, figsize=(4, 4))\n",
    "ax.scatter(x=df['x'], y=df['y']);"
   ]
  },
  {
   "cell_type": "markdown",
   "metadata": {
    "slideshow": {
     "slide_type": "subslide"
    }
   },
   "source": [
    "Here's a good point to bring up the first useful function from seaborn: `set_style`."
   ]
  },
  {
   "cell_type": "code",
   "execution_count": null,
   "metadata": {
    "slideshow": {
     "slide_type": "subslide"
    }
   },
   "outputs": [],
   "source": [
    "sns.set_style('darkgrid')"
   ]
  },
  {
   "cell_type": "code",
   "execution_count": null,
   "metadata": {
    "slideshow": {
     "slide_type": "subslide"
    }
   },
   "outputs": [],
   "source": [
    "f, ax = plt.subplots(1, 1, figsize=(4, 4))\n",
    "ax.scatter(x=df['x'], y=df['y']);"
   ]
  },
  {
   "cell_type": "markdown",
   "metadata": {
    "slideshow": {
     "slide_type": "subslide"
    }
   },
   "source": [
    "`scatter` can take parameters for:\n",
    "\n",
    "- size: `s`\n",
    "- color: `c`\n",
    "- marker shape: `marker` (See `matplotlib.markers` for more information about marker styles.)\n",
    "- transparency: `alpha`, numeric between 0 and 1\n",
    "\n",
    "The above parameters can either be a single (scalar) value, or a vector of values equal in length to `x` and `y`"
   ]
  },
  {
   "cell_type": "code",
   "execution_count": null,
   "metadata": {
    "slideshow": {
     "slide_type": "subslide"
    }
   },
   "outputs": [],
   "source": [
    "df['s'] = np.random.randint(10, 900, 100)\n",
    "f, ax = plt.subplots(1, 1, figsize=(8, 8))\n",
    "ax.scatter(x=df['x'], y=df['y'], s=df['s'], c='red', marker=\"v\",\n",
    "           alpha=0.3);"
   ]
  },
  {
   "cell_type": "markdown",
   "metadata": {
    "slideshow": {
     "slide_type": "subslide"
    }
   },
   "source": [
    "`ax.plot`\n",
    "\n",
    "The `plot` function creates a line. Similar to `scatter`, it takes vectors of x- and y- coordinates as inputs, but _the sequence of the values determines the path of the line_.\n",
    "\n",
    "The following parameters can also be passed to customise the line:\n",
    "\n",
    "- line style: `ls`, a string (`--`, `-.`, and so on. See the documentation for a full list).\n",
    "- line width: `lw`, a numeric value\n",
    "- color: `color`, a string\n",
    "- markers at each point: `marker`, same as scatter\n",
    "- transparency: `alpha`, numeric, between 0 and 1"
   ]
  },
  {
   "cell_type": "code",
   "execution_count": null,
   "metadata": {
    "slideshow": {
     "slide_type": "subslide"
    }
   },
   "outputs": [],
   "source": [
    "df['x1'] = np.linspace(0, 10, len(y))"
   ]
  },
  {
   "cell_type": "code",
   "execution_count": null,
   "metadata": {
    "slideshow": {
     "slide_type": "subslide"
    }
   },
   "outputs": [],
   "source": [
    "df['x1'] = np.linspace(0, 10, len(y))\n",
    "f, ax = plt.subplots(1, 1, figsize=(15, 8))\n",
    "ax.plot(df['x1'], df['y'], color='r', marker='v', ls='-.')\n",
    "ax.plot(df['x1'], df['x'], color='b', marker='o', ls='--');"
   ]
  },
  {
   "cell_type": "markdown",
   "metadata": {
    "slideshow": {
     "slide_type": "subslide"
    }
   },
   "source": [
    "### `ax.legend`\n",
    "\n",
    "Usually plotting functions will have a `label` parameter. By assigning these, you can automatically generate a legend with `ax.legend()`."
   ]
  },
  {
   "cell_type": "code",
   "execution_count": null,
   "metadata": {
    "slideshow": {
     "slide_type": "subslide"
    }
   },
   "outputs": [],
   "source": [
    "f, ax = plt.subplots(1, 1, figsize=(15, 8))\n",
    "ax.plot(df['x1'], df['y'], color='r', marker='v', ls='-.',\n",
    "        label=\"Path 1\")\n",
    "ax.plot(df['x1'], df['x'], color='b', marker='o', ls='--',\n",
    "        label=\"Path 2\")\n",
    "ax.legend(); # loc = number 1-8"
   ]
  },
  {
   "cell_type": "markdown",
   "metadata": {
    "slideshow": {
     "slide_type": "subslide"
    }
   },
   "source": [
    "Let's bring a few of these things together."
   ]
  },
  {
   "cell_type": "code",
   "execution_count": null,
   "metadata": {
    "slideshow": {
     "slide_type": "subslide"
    }
   },
   "outputs": [],
   "source": [
    "f, ax = plt.subplots(1, 2, figsize=(25, 5))\n",
    "f.suptitle(\"Difference Between Two Series\")\n",
    "ax[0].set_title(\"Path 1 and Path 2\")\n",
    "ax[0].plot(df['x1'], df['y'], color='r', marker='v', ls='-.',\n",
    "           label=\"Path 1\", alpha=0.5)\n",
    "ax[0].plot(df['x1'], df['x'], color='b', marker='o', ls='--',\n",
    "           label=\"Path 2\", alpha=0.5)\n",
    "ax[0].legend()\n",
    "ax[1].set_title(\"Absolute Difference Between Path 1 and Path 2\")\n",
    "ax[1].scatter(df['x1'], abs(df['y']-df['x']),\n",
    "              s=100*abs(df['y']-df['x']),\n",
    "              marker='^', alpha=0.75)\n",
    "ax[1].axhline(0, ls='--');"
   ]
  },
  {
   "cell_type": "markdown",
   "metadata": {
    "slideshow": {
     "slide_type": "subslide"
    }
   },
   "source": [
    "**Task**:\n",
    "\n",
    "Generate some data:\n",
    "\n",
    "- x taking 100 evenly-spaced values from -10 to 10\n",
    "- f1 = $-0.5x$ + noise drawn from $\\mathcal{N}(0, 0.5)$\n",
    "- f2 = $0.3x^2$ + noise drawn from $\\mathcal{N}(0, 0.1)$\n",
    "\n",
    "And create a plot drawing the two lines. Add a legend."
   ]
  },
  {
   "cell_type": "code",
   "execution_count": null,
   "metadata": {
    "slideshow": {
     "slide_type": "subslide"
    }
   },
   "outputs": [],
   "source": []
  },
  {
   "cell_type": "markdown",
   "metadata": {
    "slideshow": {
     "slide_type": "subslide"
    }
   },
   "source": [
    "## Seaborn\n",
    "\n",
    "Seaborn is a library built on top of `matplotlib` that provides a lot of amazing and easy-to-use plots.\n",
    "\n",
    "We're going to go through some of my favourite:\n",
    "\n",
    "- `sns.histplot`: General 1-D distributions\n",
    "- `sns.boxplot`: Box-and-whiskers plot\n",
    "- `sns.barplot`: Barplot. Nicer than the `matplotlib` implementation."
   ]
  },
  {
   "cell_type": "markdown",
   "metadata": {
    "slideshow": {
     "slide_type": "subslide"
    }
   },
   "source": [
    "### `sns.histplot`\n",
    "\n",
    "This combines two commonly-used visualisations for 1-D distributions:\n",
    "\n",
    "- Histogram\n",
    "- Kernel Density Estimate\n",
    "\n",
    "By default, only the histogram is shown. This behaviour can be altered with (`kde` being set to `True` or `False`)."
   ]
  },
  {
   "cell_type": "code",
   "execution_count": null,
   "metadata": {
    "slideshow": {
     "slide_type": "subslide"
    }
   },
   "outputs": [],
   "source": [
    "f, ax = plt.subplots(1, 1, figsize=(15, 8))\n",
    "sns.histplot(bes_df['Age'].dropna(), kde=True, ax=ax)"
   ]
  },
  {
   "cell_type": "markdown",
   "metadata": {},
   "source": [
    "## `sns.kdeplot`\n",
    "\n",
    "If you want to just draw the kernel density estimate, you can use the `sns.kdeplot` function"
   ]
  },
  {
   "cell_type": "code",
   "execution_count": null,
   "metadata": {
    "slideshow": {
     "slide_type": "subslide"
    }
   },
   "outputs": [],
   "source": [
    "f, ax = plt.subplots(1, 1, figsize=(15, 8))\n",
    "sns.kdeplot(bes_df[bes_df['y09'] == 'Male']['Age'].dropna(),\n",
    "             label='Male')\n",
    "sns.kdeplot(bes_df[bes_df['y09'] == 'Female']['Age'].dropna(),\n",
    "             label='Female')\n",
    "ax.legend()\n",
    "ax.set_title(\"Age Distribution of BES by Gender\")\n",
    "None"
   ]
  },
  {
   "cell_type": "code",
   "execution_count": null,
   "metadata": {
    "slideshow": {
     "slide_type": "subslide"
    }
   },
   "outputs": [],
   "source": [
    "f, ax = plt.subplots(1, 1, figsize=(15, 8))\n",
    "sns.boxplot(x=bes_df['Age'].dropna(), y=bes_df['region'])\n",
    "ax.set_title(\"BES Age Distribution by Region\");"
   ]
  },
  {
   "cell_type": "markdown",
   "metadata": {
    "slideshow": {
     "slide_type": "subslide"
    }
   },
   "source": [
    "To create the next figure, we'll need to draw on some of the advanced data manipulation techniques we learned last week.\n",
    "\n",
    "I want to create a grouped bar plot showing the number of male and female respondents per region in the BES data.\n",
    "\n",
    "In order to create this figure, I will need a _long-form_ dataframe, with the columns _region_ , _gender_ , and the per-region/gender count."
   ]
  },
  {
   "cell_type": "code",
   "execution_count": null,
   "metadata": {
    "slideshow": {
     "slide_type": "subslide"
    }
   },
   "outputs": [],
   "source": [
    "temp = bes_df.groupby(\n",
    "    ['region', 'y09']\n",
    ").apply(\n",
    "    len\n",
    ").reset_index(\n",
    ").rename(\n",
    "    {'y09': 'Gender',\n",
    "     0: 'Count'},\n",
    "    axis=1\n",
    ")\n",
    "\n",
    "temp"
   ]
  },
  {
   "cell_type": "code",
   "execution_count": null,
   "metadata": {
    "slideshow": {
     "slide_type": "subslide"
    }
   },
   "outputs": [],
   "source": [
    "f, ax = plt.subplots(1, 1, figsize=(15, 10))\n",
    "\n",
    "sns.barplot(data=temp, x='region', y='Count', hue='Gender')\n",
    "ax.set_title(\"BES Sample Gender Balance by Region\")\n",
    "ax.xaxis.set_ticklabels(ax.xaxis.get_ticklabels(), rotation=30);"
   ]
  },
  {
   "cell_type": "markdown",
   "metadata": {
    "slideshow": {
     "slide_type": "subslide"
    }
   },
   "source": [
    "It's useful to create functions to do this for us as well."
   ]
  },
  {
   "cell_type": "code",
   "execution_count": null,
   "metadata": {
    "slideshow": {
     "slide_type": "subslide"
    }
   },
   "outputs": [],
   "source": [
    "def check_sample_balance(data, var1, var2):\n",
    "    \"\"\"\n",
    "    Creates a grouped bar plot of the distribution of `var2` within each group of `var2`.\n",
    "    TODO: Add arguments to rename the columns.\n",
    "    \"\"\"\n",
    "    temp = data.groupby([var1, var2]).apply(len).reset_index().rename({0: 'Count'}, axis=1)\n",
    "    f, ax = plt.subplots(1, 1, figsize=(len(data[var1].unique())*len(data[var1].unique())/5, 10))\n",
    "    sns.barplot(data=temp, x=var1, y='Count', hue=var2)\n",
    "    ax.set_title(f\"BES Sample {var2} Balance by {var1}\")\n",
    "    ax.xaxis.set_ticklabels(ax.xaxis.get_ticklabels(), rotation=30)"
   ]
  },
  {
   "cell_type": "code",
   "execution_count": null,
   "metadata": {
    "slideshow": {
     "slide_type": "subslide"
    }
   },
   "outputs": [],
   "source": [
    "check_sample_balance(bes_df, 'region', 'y01')"
   ]
  },
  {
   "cell_type": "code",
   "execution_count": null,
   "metadata": {
    "slideshow": {
     "slide_type": "subslide"
    }
   },
   "outputs": [],
   "source": [
    "check_sample_balance(bes_df, 'y03', 'y09')"
   ]
  },
  {
   "cell_type": "markdown",
   "metadata": {
    "slideshow": {
     "slide_type": "subslide"
    }
   },
   "source": [
    "### Some Advanced Panelling\n",
    "\n",
    "Less typing is better. Let's go through how we can panel a figure in `matplotlib` using for-loops.\n",
    "\n",
    "In this example, I will create a figure that shows the per-region age distribution by male/female."
   ]
  },
  {
   "cell_type": "code",
   "execution_count": null,
   "metadata": {
    "slideshow": {
     "slide_type": "subslide"
    }
   },
   "outputs": [],
   "source": [
    "f, ax = plt.subplots(1, 11, figsize=(20, 4), sharey=True)\n",
    "\n",
    "for i, region in enumerate(bes_df['region'].unique()):\n",
    "    temp = bes_df[bes_df['region']==region]\n",
    "    sns.swarmplot(x=temp['y09'], y=temp['Age'], ax=ax[i], s=4)\n",
    "    ax[i].yaxis.set_label_text('', visible=False)\n",
    "    ax[i].xaxis.set_label_text(region)"
   ]
  },
  {
   "cell_type": "markdown",
   "metadata": {
    "slideshow": {
     "slide_type": "subslide"
    }
   },
   "source": [
    "Want to go over multiple rows? No problem!"
   ]
  },
  {
   "cell_type": "code",
   "execution_count": null,
   "metadata": {
    "slideshow": {
     "slide_type": "subslide"
    }
   },
   "outputs": [],
   "source": [
    "f, ax = plt.subplots(4, 3, figsize=(15, 8), sharey=True, sharex=True)\n",
    "i = 0\n",
    "j = 0\n",
    "for region in bes_df['region'].unique():\n",
    "    if i == 4:\n",
    "        i = 0\n",
    "        j += 1\n",
    "    temp = bes_df[bes_df['region']==region]\n",
    "    sns.swarmplot(x=temp['y09'], y=temp['Age'], ax=ax[i][j])\n",
    "    ax[i][j].yaxis.set_label_text('', visible=False)\n",
    "    ax[i][j].xaxis.set_label_text(region)\n",
    "    i += 1"
   ]
  },
  {
   "cell_type": "markdown",
   "metadata": {
    "slideshow": {
     "slide_type": "subslide"
    }
   },
   "source": [
    "Much of this functionality, however, is contained within `sns.catplot`. I encourage you to check out the documentation on your own."
   ]
  },
  {
   "cell_type": "code",
   "execution_count": null,
   "metadata": {
    "slideshow": {
     "slide_type": "subslide"
    }
   },
   "outputs": [],
   "source": [
    "g = sns.catplot(data=bes_df, x='a03', hue='y09', col='region',\n",
    "                y='Age', kind='violin', col_wrap=3, split=True);\n",
    "g.set_xticklabels(rotation=30)"
   ]
  }
 ],
 "metadata": {
  "kernelspec": {
   "display_name": "teaching",
   "language": "python",
   "name": "teaching"
  },
  "language_info": {
   "codemirror_mode": {
    "name": "ipython",
    "version": 3
   },
   "file_extension": ".py",
   "mimetype": "text/x-python",
   "name": "python",
   "nbconvert_exporter": "python",
   "pygments_lexer": "ipython3",
   "version": "3.7.9"
  }
 },
 "nbformat": 4,
 "nbformat_minor": 4
}
