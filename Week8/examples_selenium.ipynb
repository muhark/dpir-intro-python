{
 "cells": [
  {
   "cell_type": "markdown",
   "id": "opponent-colorado",
   "metadata": {
    "slideshow": {
     "slide_type": "subslide"
    }
   },
   "source": [
    "# Browser Automation with Selenium\n",
    "\n",
    "This notebook contains a short tutorial for scraping with the Selenium toolkit.\n",
    "\n",
    "We will be scraping `quotes.toscrape.com`, a wonderful page for practicing more advanced scraping techniques."
   ]
  },
  {
   "cell_type": "code",
   "execution_count": null,
   "id": "julian-canon",
   "metadata": {
    "slideshow": {
     "slide_type": "subslide"
    }
   },
   "outputs": [],
   "source": [
    "# imports\n",
    "import requests\n",
    "from selenium import webdriver\n",
    "from selenium.webdriver.common.by import By"
   ]
  },
  {
   "cell_type": "markdown",
   "id": "finished-mixer",
   "metadata": {
    "slideshow": {
     "slide_type": "subslide"
    }
   },
   "source": [
    "## When static scraping fails:\n",
    "\n",
    "The following webpage is generated dynamically by `javascript`.\n",
    "We can see the script source in this page, but this is often not the case:"
   ]
  },
  {
   "cell_type": "code",
   "execution_count": null,
   "id": "straight-columbia",
   "metadata": {
    "slideshow": {
     "slide_type": "subslide"
    }
   },
   "outputs": [],
   "source": [
    "from bs4 import BeautifulSoup\n",
    "\n",
    "url = \"https://quotes.toscrape.com/js/\"\n",
    "page = requests.get(url)\n",
    "print(BeautifulSoup(page.text).body.prettify())"
   ]
  },
  {
   "cell_type": "markdown",
   "id": "collect-finnish",
   "metadata": {
    "slideshow": {
     "slide_type": "subslide"
    }
   },
   "source": [
    "## Instantiating the WebDriver\n",
    "\n",
    "When we call the `webdriver.Chrome()` method, if we have the webdriver properly installed, an automated Chrome instance should appear!\n"
   ]
  },
  {
   "cell_type": "code",
   "execution_count": null,
   "id": "julian-nightlife",
   "metadata": {
    "slideshow": {
     "slide_type": "subslide"
    }
   },
   "outputs": [],
   "source": [
    "driver = webdriver.Chrome()\n",
    "driver.get(url)"
   ]
  },
  {
   "cell_type": "markdown",
   "id": "intimate-edgar",
   "metadata": {
    "slideshow": {
     "slide_type": "subslide"
    }
   },
   "source": [
    "Let's select all of the quote-boxes that have the tag \"life\"."
   ]
  },
  {
   "cell_type": "code",
   "execution_count": null,
   "id": "white-interstate",
   "metadata": {
    "slideshow": {
     "slide_type": "subslide"
    }
   },
   "outputs": [],
   "source": [
    "# This returns a list of elements that have the CSS class 'quote'\n",
    "quote_boxes = driver.find_elements(\n",
    "    By.CLASS_NAME, 'quote')"
   ]
  },
  {
   "cell_type": "code",
   "execution_count": null,
   "id": "living-bundle",
   "metadata": {
    "slideshow": {
     "slide_type": "subslide"
    }
   },
   "outputs": [],
   "source": [
    "# Let's navigate the first element to recognize a pattern\n",
    "# Selecting the first div\n",
    "quote_box = quote_boxes[0]\n",
    "# Selecting the container div for the tags\n",
    "tags = quote_box.find_element(By.CLASS_NAME, 'tags')\n",
    "# Getting the tag names\n",
    "[\n",
    "    tag.text for tag\n",
    "    in tags.find_elements(By.TAG_NAME, 'a')\n",
    "]"
   ]
  },
  {
   "cell_type": "code",
   "execution_count": null,
   "id": "impressive-diesel",
   "metadata": {
    "slideshow": {
     "slide_type": "subslide"
    }
   },
   "outputs": [],
   "source": [
    "# Some crazy list filtering\n",
    "life_quotes = [\n",
    "    quote for quote in quote_boxes if                     # unpack quote_boxes\n",
    "    'life' in [tag.text for tag in                        # check if 'life' is in\n",
    "               quote.find_element(By.CLASS_NAME, 'tags'). # the list of tags\n",
    "               find_elements(By.TAG_NAME, 'a')]           # like we obtained before\n",
    "]\n",
    "life_quotes"
   ]
  },
  {
   "cell_type": "code",
   "execution_count": null,
   "id": "young-emergency",
   "metadata": {
    "slideshow": {
     "slide_type": "subslide"
    }
   },
   "outputs": [],
   "source": [
    "# Let's put that into a function\n",
    "def filter_quotes_by_tag(driver, tag):\n",
    "    quote_boxes = driver.find_elements(By.CLASS_NAME, 'quote')\n",
    "    tagged_quotes = [\n",
    "    quote for quote in quote_boxes if                     # unpack quote_boxes\n",
    "        tag in [t.text for t in                           # check if tag is in\n",
    "               quote.find_element(By.CLASS_NAME, 'tags'). # the list of tags\n",
    "               find_elements(By.TAG_NAME, 'a')]           # like we obtained before\n",
    "    ]\n",
    "    return tagged_quotes"
   ]
  },
  {
   "cell_type": "markdown",
   "id": "binding-wheel",
   "metadata": {
    "slideshow": {
     "slide_type": "subslide"
    }
   },
   "source": [
    "## Simulating Clicks\n",
    "\n",
    "We can use the `.click()` property of any element to 'click' on it.\n",
    "\n",
    "Let's proceed to the next page of quotes."
   ]
  },
  {
   "cell_type": "code",
   "execution_count": null,
   "id": "aging-voltage",
   "metadata": {
    "slideshow": {
     "slide_type": "subslide"
    }
   },
   "outputs": [],
   "source": [
    "# Get the \"next\" element\n",
    "next_button = driver.find_element(By.PARTIAL_LINK_TEXT, 'Next')\n",
    "print(driver.current_url)\n",
    "next_button.click()\n",
    "print(driver.current_url)"
   ]
  },
  {
   "cell_type": "markdown",
   "id": "still-gasoline",
   "metadata": {
    "slideshow": {
     "slide_type": "subslide"
    }
   },
   "source": [
    "## Sending Keys\n",
    "\n",
    "Let's try to log in!"
   ]
  },
  {
   "cell_type": "code",
   "execution_count": null,
   "id": "controversial-jackson",
   "metadata": {
    "slideshow": {
     "slide_type": "subslide"
    }
   },
   "outputs": [],
   "source": [
    "login_box = driver.find_element(By.LINK_TEXT, 'Login')\n",
    "login_box.click()"
   ]
  },
  {
   "cell_type": "code",
   "execution_count": null,
   "id": "august-purpose",
   "metadata": {
    "slideshow": {
     "slide_type": "subslide"
    }
   },
   "outputs": [],
   "source": [
    "# Entering username and password\n",
    "username_box = driver.find_element(By.ID, 'username')\n",
    "password_box = driver.find_element(By.ID, 'password')"
   ]
  },
  {
   "cell_type": "code",
   "execution_count": null,
   "id": "flush-minutes",
   "metadata": {
    "slideshow": {
     "slide_type": "subslide"
    }
   },
   "outputs": [],
   "source": [
    "username_box.send_keys('username')\n",
    "password_box.send_keys('password')"
   ]
  },
  {
   "cell_type": "code",
   "execution_count": null,
   "id": "double-boring",
   "metadata": {
    "slideshow": {
     "slide_type": "subslide"
    }
   },
   "outputs": [],
   "source": [
    "# Using XPATH to get the login button\\\n",
    "# https://www.w3schools.com/xml/xpath_syntax.asp\n",
    "login_button = driver.find_element(\n",
    "    By.XPATH, r\"//input[(@type='submit')]\")\n",
    "login_button.click()"
   ]
  },
  {
   "cell_type": "markdown",
   "id": "correct-speaking",
   "metadata": {
    "slideshow": {
     "slide_type": "subslide"
    }
   },
   "source": [
    "## Race Conditions\n",
    "\n",
    "Usually the page will take time to load.\n",
    "\n",
    "If you are running Selenium from a script, it will execute the commands sequentially\n",
    "as fast as possible. This causes problems."
   ]
  },
  {
   "cell_type": "code",
   "execution_count": null,
   "id": "quality-israel",
   "metadata": {
    "slideshow": {
     "slide_type": "subslide"
    }
   },
   "outputs": [],
   "source": [
    "url = \"https://quotes.toscrape.com/js-delayed/\"\n",
    "driver.get(url)\n",
    "filter_quotes_by_tag(driver, 'life')"
   ]
  },
  {
   "cell_type": "markdown",
   "id": "average-scottish",
   "metadata": {
    "slideshow": {
     "slide_type": "subslide"
    }
   },
   "source": [
    "Selenium does provide more sophisticated \"wait\" functionality,\n",
    "where you can define some condition that it will test until\n",
    "it becomes true.\n",
    "\n",
    "I'll demonstrate a simpler (and less reliable) solution, which\n",
    "is to just use a timed wait."
   ]
  },
  {
   "cell_type": "code",
   "execution_count": null,
   "id": "frozen-forest",
   "metadata": {
    "slideshow": {
     "slide_type": "fragment"
    }
   },
   "outputs": [],
   "source": [
    "from time import sleep\n",
    "url = \"https://quotes.toscrape.com/js-delayed/\"\n",
    "driver.get(url)\n",
    "sleep(10) # I happen to know the length of the delay\n",
    "filter_quotes_by_tag(driver, 'life')"
   ]
  },
  {
   "cell_type": "code",
   "execution_count": null,
   "id": "weekly-kingdom",
   "metadata": {},
   "outputs": [],
   "source": [
    "driver.quit()"
   ]
  }
 ],
 "metadata": {
  "kernelspec": {
   "display_name": "scrape",
   "language": "python",
   "name": "scrape"
  },
  "language_info": {
   "codemirror_mode": {
    "name": "ipython",
    "version": 3
   },
   "file_extension": ".py",
   "mimetype": "text/x-python",
   "name": "python",
   "nbconvert_exporter": "python",
   "pygments_lexer": "ipython3",
   "version": "3.8.5"
  }
 },
 "nbformat": 4,
 "nbformat_minor": 5
}
