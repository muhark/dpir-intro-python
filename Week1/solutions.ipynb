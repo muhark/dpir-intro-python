{
 "cells": [
  {
   "cell_type": "markdown",
   "metadata": {
    "slideshow": {
     "slide_type": "slide"
    }
   },
   "source": [
    "# Week 1 Lecture Solutions\n",
    "\n",
    "_Model solutions_.\n",
    "\n",
    "Note that there are many possible ways to solve these problems, but the best solutions will maximise readability and efficiency. Therefore you should aim to iterate where possible, but make it clear what you are doing at each step."
   ]
  },
  {
   "cell_type": "markdown",
   "metadata": {
    "slideshow": {
     "slide_type": "slide"
    }
   },
   "source": [
    "## Task 1: Animal Sounds\n",
    "\n",
    "1. Create a dictionary of animals and their sounds and call it `animal_sounds`.\n",
    "    - Each value should be the corresponding sound for the animal.\n",
    "    - If your native language is not English, use the sounds from your language!\n",
    "2. Use a for loop to print the statement \"In my language, the **ANIMAL** makes the sound **SOUND**\" for each key-value pair in your dictionary.\n",
    "\n",
    "**_Extra Challenge_**:\n",
    "\n",
    "1. Create two separate lists, `animals` and `sounds`.\n",
    "    - `animals` should be the list of the animals used in the previous task.\n",
    "    - `sounds` should be the list of corresponding sounds.\n",
    "    - Also: Make sure the `type` of `animals` and `sounds` is `list`!\n",
    "2. Create an empty dictionary called `animal_sounds`.\n",
    "    - Hint: This can be done with `{}`\n",
    "3. Use a for loop to populate the dictionary with the information from animals and sounds.\n",
    "    - _In the same for-loop, print the same statements as in the previous section_."
   ]
  },
  {
   "cell_type": "code",
   "execution_count": null,
   "metadata": {
    "slideshow": {
     "slide_type": "slide"
    }
   },
   "outputs": [],
   "source": [
    "# Task 1 - Part 1\n",
    "# Dictionary of animal sounds\n",
    "animal_sounds = {\n",
    "    'dog': 'wanwan',\n",
    "    'cat': 'nyaa',\n",
    "    'mouse': 'chuu',\n",
    "    'frog': 'kerokero',\n",
    "    'elephant': 'paoon'\n",
    "}\n",
    "\n",
    "# Task 1 - Part 2\n",
    "# Iterate over keys to create statements.\n",
    "for animal in animal_sounds.keys():\n",
    "    print(\"In Japanese, the \"+animal+\" makes the sound \"+animal_sounds[animal]+\"!\")"
   ]
  },
  {
   "cell_type": "code",
   "execution_count": null,
   "metadata": {
    "slideshow": {
     "slide_type": "slide"
    }
   },
   "outputs": [],
   "source": [
    "# Task 1 - Part 2: Bonus Solution\n",
    "# You can use f-strings to make this a bit easier to read:\n",
    "for animal in animal_sounds.keys():\n",
    "    print(f\"In Japanese, the {animal} makes the sound {animal_sounds[animal]}!\")\n",
    "    # Note the `f` before the string. This creates a f-string, which an take values in `{}`"
   ]
  },
  {
   "cell_type": "code",
   "execution_count": null,
   "metadata": {
    "slideshow": {
     "slide_type": "slide"
    }
   },
   "outputs": [],
   "source": [
    "# Extra Challenge:\n",
    "\n",
    "# Part 1 - Create lists. Note that they are aligned on index.\n",
    "animals = ['dog', 'cat', 'mouse', 'frog', 'elephant']\n",
    "sounds = ['wanwan', 'nyaa', 'chuu', 'kerokero', 'paoon']"
   ]
  },
  {
   "cell_type": "code",
   "execution_count": null,
   "metadata": {
    "slideshow": {
     "slide_type": "slide"
    }
   },
   "outputs": [],
   "source": [
    "# Part 2 - Create empty dict\n",
    "animal_sounds = {}\n",
    "\n",
    "# Part 3 - Solution 1: Using `enumerate`\n",
    "# `enumerate` creates an iterator that returns a counter and the objects in the iterable.\n",
    "for i, animal in enumerate(animals):\n",
    "    animal_sounds[animal] = sounds[i]\n",
    "    print(f\"In Japanese, the {animal} makes the sound {animal_sounds[animal]}!\")"
   ]
  },
  {
   "cell_type": "code",
   "execution_count": null,
   "metadata": {
    "slideshow": {
     "slide_type": "slide"
    }
   },
   "outputs": [],
   "source": [
    "# Part 3 - Solution 2: Using `range`\n",
    "\n",
    "# We need to 'reset' the dict by making it empty again\n",
    "animal_sounds = {}\n",
    "\n",
    "# `range` returns a sequence of the length you have given it.\n",
    "# Here I use `len(animals)` because the iterator needs to be the length of the sequences we are\n",
    "# iterating over.\n",
    "# `range` is a very useful function, and worth reading the documentation on.\n",
    "for i in range(len(animals)):\n",
    "    animal = animals[i]\n",
    "    sound = sounds[i]\n",
    "    animal_sounds[animal] = sound\n",
    "    print(f\"In Japanese, the {animal} makes the sound {sound}!\")"
   ]
  },
  {
   "cell_type": "code",
   "execution_count": null,
   "metadata": {
    "slideshow": {
     "slide_type": "slide"
    }
   },
   "outputs": [],
   "source": [
    "# Part 3 - Solution 3: Using zip and dict\n",
    "\n",
    "# `zip` creates an iterator.\n",
    "# Given two sequences, [1, 2, 3] and [a, b, c], zip will return the sequence [(1, a), (2, b), (3, c)]\n",
    "# Pass this to the dict function, which can take a list of tuples to construct a dictionary!\n",
    "\n",
    "animal_sounds = dict(zip(animals, sounds))\n",
    "\n",
    "# I'm not going to repeat the print portion.\n",
    "# This is probably the most \"pythonic\" solution, but that's always debatable."
   ]
  },
  {
   "cell_type": "markdown",
   "metadata": {
    "slideshow": {
     "slide_type": "slide"
    }
   },
   "source": [
    "## Task 2: Writing a Menu\n",
    "\n",
    "A menu typically consists of the following information:\n",
    "\n",
    "- Course\n",
    "- Dish\n",
    "- Description\n",
    "- Price\n",
    "\n",
    "In this exercise, you will experiment with different ways of representing this information.\n",
    "\n",
    "1. Dictionary of Dictionaries (Nested Hierarchy)\n",
    "    - Create a dictionary called `menu1`.\n",
    "    - For each dish, create a second dictionary with the keys `'course'`, `'price'`,  and `'description'`. Fill these in accordingly.\n",
    "    \n",
    "2. Dictionary of Lists\n",
    "    - Create a dictionary called `menu2`.\n",
    "        - For each of the keys `'dish'`, `'course'`, `'description'` and `'price'`, write a list of all of the values.\n",
    "        - Hint: `'course'` will contain many repeated values.\n",
    "\n",
    "**_Extra Challenge_**:\n",
    "\n",
    "- For both methods, find a way to iterate over the dictionary to print out a menu.\n",
    "- The fancier the better!\n",
    "    - Note that you can get the length of a string using the `len` function. You can use this to create aligned columns!"
   ]
  },
  {
   "cell_type": "code",
   "execution_count": null,
   "metadata": {
    "slideshow": {
     "slide_type": "slide"
    }
   },
   "outputs": [],
   "source": [
    "# Approach 1: Nested Dictionaries\n",
    "menu1 = {} # Creating an empty dictionary\n",
    "\n",
    "# Adding three items.\n",
    "menu1['Karaage'] = {'price': 5.0,\n",
    "                   'course': 'Starter',\n",
    "                   'description': 'Japanese fried chicken'}\n",
    "menu1['Salmon Teriyaki'] = {'price': 9.0,\n",
    "                            'course': 'Main',\n",
    "                            'description': 'Pan-fried salmon over rice with teriyaki sauce'}\n",
    "menu1['Mochi'] = {'price': 3.5,\n",
    "                 'course': 'Dessert',\n",
    "                 'description': 'Sweet rice paste'}"
   ]
  },
  {
   "cell_type": "code",
   "execution_count": null,
   "metadata": {
    "slideshow": {
     "slide_type": "slide"
    }
   },
   "outputs": [],
   "source": [
    "# Approach 2 - Dictionary of Lists\n",
    "# This is my less-preferred approach, but important for Week 2.\n",
    "menu2 = {\n",
    "    'course': ['Starter', 'Main', 'Dessert'],\n",
    "    'name': ['Karaage', 'Salmon Teriyaki', 'Mochi'],\n",
    "    'description': ['Japanese fried chicken', 'Pan-fried salmon over rice with teriyaki sauce', 'Sweet rice paste'],\n",
    "    'price': [5.0, 9.0, 3.5]\n",
    "}"
   ]
  },
  {
   "cell_type": "code",
   "execution_count": null,
   "metadata": {
    "slideshow": {
     "slide_type": "slide"
    }
   },
   "outputs": [],
   "source": [
    "# Extra Challenge - Printing out a Menu\n",
    "# Creating list for courses. Could be done with existing information, but order is not guaranteed.\n",
    "courses = ['Starter', 'Main', 'Dessert']\n",
    "\n",
    "# Use a nested for loop to create sections in menu\n",
    "for course in courses:\n",
    "    # Each course should be headed by the name of the course, and be followed by a blank space.\n",
    "    print(course)\n",
    "    for item in menu1.keys():\n",
    "        # Within each course, we list out the items in that course. This can be done with an `if` statement.\n",
    "        if menu1[item]['course']==course: # Checking if item is in course.\n",
    "            # Aligned menu, using dashes.\n",
    "            print(\n",
    "                item + \\\n",
    "                (\"-\"*(20-len(item))) + \\\n",
    "                menu1[item]['description'] + \\\n",
    "                (\"-\"*(60-len(menu1[item]['description']))) + \\\n",
    "                str(menu1[item]['price']) # float needs to be coerced to string\n",
    "            )\n",
    "    print(\"\\n\") # Trailing blank space."
   ]
  },
  {
   "cell_type": "markdown",
   "metadata": {
    "slideshow": {
     "slide_type": "slide"
    }
   },
   "source": [
    "# Task 3:\n",
    "\n",
    "Similar to the exercise of making a sentence from the fewest letters possible. \n",
    "\n",
    "- Create a list of five letters and a space, call it `letters`.\n",
    "- Figure out the longest sentence you can make from those letters.\n",
    "- Use the indices of the list to write a sentence.\n",
    "- Create a new sentence using a for loop and the `join` function.\n",
    "\n",
    " **_Extra Challenge_**:\n",
    "\n",
    "There are other, smarter ways of doing this with dictionaries and lists. See if you can find a better method than the one below!"
   ]
  },
  {
   "cell_type": "code",
   "execution_count": null,
   "metadata": {
    "slideshow": {
     "slide_type": "slide"
    }
   },
   "outputs": [],
   "source": [
    "# Example:\n",
    "letters = ['a', 't', 'r', 's', 'e', ' ']\n",
    "sentence_indices = [3, 4, 4, 5, 3, 0, 2, 0, 5, 4, 0, 1, 5, 3, 4, 0, 5, 1, 2, 4, 4, 5, 1, 4, 0, 5, 1, 2, 4, 0, 1, 3]\n",
    "\n",
    "sentence = []\n",
    "for index in sentence_indices:\n",
    "    sentence.append(letters[index])\n",
    "\n",
    "\"\".join(sentence) # `\" \".join` would join a sequence of values with a space between each value.\n",
    "                  # `\"\".join` just pastes them all together."
   ]
  },
  {
   "cell_type": "markdown",
   "metadata": {},
   "source": [
    "# Task 4 (Bonus):\n",
    "\n",
    "A prime number is a natural number ($\\mathbb{N}$) that is greater than 1 and is not the product of two smaller natural numbers.\n",
    "\n",
    "Write code that prints all prime numbers less than 10000\n",
    "\n",
    "For an additional challenge, write `%%timeit` at the top of the codeblock to see how long your code takes to execute. See how fast you can make your code."
   ]
  },
  {
   "cell_type": "code",
   "execution_count": null,
   "metadata": {},
   "outputs": [],
   "source": [
    "# There are a variety of ways you could approach this.\n",
    "# My approach will use the modulo operator, '%'\n",
    "# x % y gives the remainder of the division of x by y\n",
    "# In other words, it gives the remainder after you find the maximum number of\n",
    "# times y goes into x.\n",
    "# e.g.\n",
    "print(3 % 2)\n",
    "print(5 % 3)\n",
    "print(12 % 2)"
   ]
  },
  {
   "cell_type": "code",
   "execution_count": null,
   "metadata": {},
   "outputs": [],
   "source": [
    "# We want to generate a growing list of primes.\n",
    "# We can do this with a list and the '.append()' method.\n",
    "# list.append() appends the argument to the list.\n",
    "isPrime = True\n",
    "primes = [2] # An empty list\n",
    "\n",
    "for i in range(3, 10001): # Start from 1, finish at 10000\n",
    "    # Check if divisible with no remainder from existing arguments\n",
    "    for p in primes:\n",
    "        # Here we need some kind of conditional logic. I will use 'if' again.\n",
    "        if i % p == 0: # If zero remainder, then multiple and not prime\n",
    "            isPrime = False\n",
    "        # After all primes checked, if still isPrime=True, then we can append\n",
    "    if isPrime == True:\n",
    "        primes.append(i)\n",
    "    isPrime = True # Resetting the 'trigger'"
   ]
  },
  {
   "cell_type": "code",
   "execution_count": null,
   "metadata": {},
   "outputs": [],
   "source": [
    "%%timeit\n",
    "# I can compare a few methods for speed\n",
    "# Using '%%timeit'\n",
    "\n",
    "isPrime = True\n",
    "primes = [2] # An empty list\n",
    "\n",
    "for i in range(3, 10001): # Third argument is step\n",
    "    for p in primes:\n",
    "        if i % p == 0:\n",
    "            isPrime = False\n",
    "    if isPrime == True:\n",
    "        primes.append(i)\n",
    "    isPrime = True"
   ]
  },
  {
   "cell_type": "code",
   "execution_count": null,
   "metadata": {},
   "outputs": [],
   "source": [
    "%%timeit\n",
    "# Now we skip even numbers\n",
    "\n",
    "isPrime = True\n",
    "primes = [2]\n",
    "\n",
    "for i in range(3, 10001, 2): # Third argument is step\n",
    "    for p in primes:\n",
    "        if i % p == 0:\n",
    "            isPrime = False\n",
    "    if isPrime == True:\n",
    "        primes.append(i)\n",
    "    isPrime = True"
   ]
  },
  {
   "cell_type": "code",
   "execution_count": null,
   "metadata": {},
   "outputs": [],
   "source": [
    "%%timeit\n",
    "# Can also cut out numbers larger than the square root of n\n",
    "\n",
    "isPrime = True\n",
    "primes = [2]\n",
    "\n",
    "for i in range(3, 10001, 2): # Third argument is step\n",
    "    for p in primes:\n",
    "        if i % p == 0:\n",
    "            isPrime = False\n",
    "        if p > (i**0.5): # Check if p is larger than sqrt of i\n",
    "            break # 'break' breaks the current loop\n",
    "    if isPrime == True:\n",
    "        primes.append(i)\n",
    "    isPrime = True"
   ]
  }
 ],
 "metadata": {
  "celltoolbar": "Slideshow",
  "kernelspec": {
   "display_name": "Python 3",
   "language": "python",
   "name": "python3"
  },
  "language_info": {
   "codemirror_mode": {
    "name": "ipython",
    "version": 3
   },
   "file_extension": ".py",
   "mimetype": "text/x-python",
   "name": "python",
   "nbconvert_exporter": "python",
   "pygments_lexer": "ipython3",
   "version": "3.7.5"
  }
 },
 "nbformat": 4,
 "nbformat_minor": 4
}
