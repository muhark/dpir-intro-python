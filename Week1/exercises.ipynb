{
 "cells": [
  {
   "cell_type": "markdown",
   "metadata": {},
   "source": [
    "# Week 1 Lecture Exercises\n",
    "\n",
    "_Refer to the lecture notes, examples, and the Internet to help you complete these tasks.<br>\n",
    "Model solutions will be posted next week._"
   ]
  },
  {
   "cell_type": "markdown",
   "metadata": {},
   "source": [
    "## Task 1: Animal Sounds\n",
    "\n",
    "1. Create a dictionary of animals and their sounds and call it `animal_sounds`.\n",
    "    - Each value should be the corresponding sound for the animal.\n",
    "    - If your native language is not English, use the sounds from your language!\n",
    "2. Use a for loop to print the statement \"In my language, the **ANIMAL** makes the sound **SOUND**\" for each key-value pair in your dictionary.\n",
    "\n",
    "**_Extra Challenge_**:\n",
    "\n",
    "1. Create two separate lists, `animals` and `sounds`.\n",
    "    - `animals` should be the list of the animals used in the previous task.\n",
    "    - `sounds` should be the list of corresponding sounds.\n",
    "    - Also: Make sure the `type` of `animals` and `sounds` is `list`!\n",
    "2. Create an empty dictionary called `animal_sounds`.\n",
    "    - Hint: This can be done with `{}`\n",
    "3. Use a for loop to populate the dictionary with the information from animals and sounds.\n",
    "    - _In the same for-loop, print the same statements as in the previous section_."
   ]
  },
  {
   "cell_type": "markdown",
   "metadata": {},
   "source": [
    "## Task 2: Writing a Menu\n",
    "\n",
    "A menu typically consists of the following information:\n",
    "\n",
    "- Course\n",
    "- Dish\n",
    "- Description\n",
    "- Price\n",
    "\n",
    "In this exercise, you will experiment with different ways of representing this information.\n",
    "\n",
    "1. Dictionary of Dictionaries (Nested Hierarchy)\n",
    "    - Create a dictionary called `menu1`.\n",
    "    - For each dish, create a second dictionary with the keys `'course'`, `'price'`,  and `'description'`. Fill these in accordingly.\n",
    "    \n",
    "2. Dictionary of Lists\n",
    "    - Create a dictionary called `menu2`.\n",
    "        - For each of the keys `'dish'`, `'course'`, `'description'` and `'price'`, write a list of all of the values.\n",
    "        - Hint: `'course'` will contain many repeated values.\n",
    "\n",
    "**_Extra Challenge_**:\n",
    "\n",
    "- For both methods, find a way to iterate over the dictionary to print out a menu.\n",
    "- The fancier the better!\n",
    "    - Note that you can get the length of a string using the `len` function. You can use this to create aligned columns!"
   ]
  },
  {
   "cell_type": "markdown",
   "metadata": {},
   "source": [
    "# Task 3:\n",
    "\n",
    "Similar to the exercise of making a sentence from the fewest letters possible. \n",
    "\n",
    "- Create a list of five letters and a space, call it `letters`.\n",
    "- Figure out the longest sentence you can make from those letters.\n",
    "- Use the indices of the list to write a sentence.\n",
    "- Create a new sentence using a for loop and the `join` function.\n",
    "\n",
    "**_Extra Challenge_**:\n",
    "\n",
    "There are other, smarter ways of doing this with dictionaries and lists. See if you can find a better method than the one below!"
   ]
  },
  {
   "cell_type": "markdown",
   "metadata": {},
   "source": [
    "# Task 4 (Bonus):\n",
    "\n",
    "A prime number is a natural number ($\\mathbb{N}$) that is greater than 1 and is not the product of two smaller natural numbers.\n",
    "\n",
    "Write code that prints all prime numbers less than 10000\n",
    "\n",
    "For an additional challenge, write `%%timeit` at the top of the codeblock to see how long your code takes to execute. See how fast you can make your code."
   ]
  },
  {
   "cell_type": "code",
   "execution_count": null,
   "metadata": {},
   "outputs": [],
   "source": []
  }
 ],
 "metadata": {
  "kernelspec": {
   "display_name": "teaching",
   "language": "python",
   "name": "teaching"
  },
  "language_info": {
   "codemirror_mode": {
    "name": "ipython",
    "version": 3
   },
   "file_extension": ".py",
   "mimetype": "text/x-python",
   "name": "python",
   "nbconvert_exporter": "python",
   "pygments_lexer": "ipython3",
   "version": "3.7.6"
  }
 },
 "nbformat": 4,
 "nbformat_minor": 4
}
