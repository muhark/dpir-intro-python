{
 "cells": [
  {
   "cell_type": "markdown",
   "metadata": {
    "slideshow": {
     "slide_type": "slide"
    }
   },
   "source": [
    "# Namespaces, Input/Output\n",
    "\n",
    "- When you start a python session, your computer creates a blank canvas that can be populated with python objects.\n",
    "- Commands, written in these cells, are inputs.\n",
    "- These commands can create and modify objects that persist in the memory.\n",
    "- We use the `print()` function to display these objects in the output."
   ]
  },
  {
   "cell_type": "markdown",
   "metadata": {
    "slideshow": {
     "slide_type": "slide"
    }
   },
   "source": [
    "# First Command: \"Hello World!\"\n",
    "\n",
    "Write the following command into the first cell:"
   ]
  },
  {
   "cell_type": "code",
   "execution_count": null,
   "metadata": {
    "slideshow": {
     "slide_type": "fragment"
    }
   },
   "outputs": [],
   "source": [
    "print(\"Hello World!\")"
   ]
  },
  {
   "cell_type": "markdown",
   "metadata": {
    "slideshow": {
     "slide_type": "slide"
    }
   },
   "source": [
    "# Variable Assignment\n",
    "\n",
    "- Variables are names that point to particular objects on the canvas. These objects can be values, functions, etc.\n",
    "- We assign variables with the `=` operator."
   ]
  },
  {
   "cell_type": "code",
   "execution_count": null,
   "metadata": {
    "slideshow": {
     "slide_type": "fragment"
    }
   },
   "outputs": [],
   "source": [
    "x = 1\n",
    "y = 2\n",
    "print(x)\n",
    "print(y)"
   ]
  },
  {
   "cell_type": "markdown",
   "metadata": {
    "slideshow": {
     "slide_type": "subslide"
    }
   },
   "source": [
    "There are some rules for variable assignment:\n",
    "\n",
    "- Variable names cannot contain spaces\n",
    "- The first letter of the variable cannot be a number or symbol\n",
    "\n",
    "Both of these will return `SyntaxError`, because the interpreter cannot understand these commands."
   ]
  },
  {
   "cell_type": "code",
   "execution_count": null,
   "metadata": {
    "slideshow": {
     "slide_type": "fragment"
    }
   },
   "outputs": [],
   "source": [
    "a variable = \"this will give an error\""
   ]
  },
  {
   "cell_type": "code",
   "execution_count": null,
   "metadata": {
    "slideshow": {
     "slide_type": "fragment"
    }
   },
   "outputs": [],
   "source": [
    "1st_variable = \"this will also give an error\""
   ]
  },
  {
   "cell_type": "markdown",
   "metadata": {
    "slideshow": {
     "slide_type": "slide"
    }
   },
   "source": [
    "# Data Types\n",
    "\n",
    "I introduce the four basic data types:\n",
    "\n",
    "- Strings\n",
    "- Integers\n",
    "- Floats\n",
    "- Booleans"
   ]
  },
  {
   "cell_type": "markdown",
   "metadata": {
    "slideshow": {
     "slide_type": "slide"
    }
   },
   "source": [
    "# Working with strings\n",
    "\n",
    "There are four basic datatypes in base Python.\n",
    "\n",
    "We began by looking at strings (`str`), which are a _sequence of characters_.\n",
    "\n",
    "Strings are created by writing a sequence of letters between _single **or** double_ quotes."
   ]
  },
  {
   "cell_type": "markdown",
   "metadata": {
    "slideshow": {
     "slide_type": "subslide"
    }
   },
   "source": [
    "_**Task:**_\n",
    "\n",
    "Assign the following strings to the following variables.\n",
    "\n",
    "`first_word`, `\"Hello\"` <br>\n",
    "`second_word`, `\"World\"` <br>\n",
    "`first_punct`, `\"!\"` <br>"
   ]
  },
  {
   "cell_type": "code",
   "execution_count": null,
   "metadata": {
    "slideshow": {
     "slide_type": "fragment"
    }
   },
   "outputs": [],
   "source": [
    "first_word = \"Hello\"\n",
    "second_word = \"World\"\n",
    "first_punct = \"!\""
   ]
  },
  {
   "cell_type": "markdown",
   "metadata": {
    "slideshow": {
     "slide_type": "subslide"
    }
   },
   "source": [
    "We can test equivalence using the `==` operator."
   ]
  },
  {
   "cell_type": "markdown",
   "metadata": {
    "slideshow": {
     "slide_type": "fragment"
    }
   },
   "source": [
    "_**Task:**_\n",
    "\n",
    "Test whether the following are equal:\n",
    "\n",
    "- `first_word` and `first_word`\n",
    "- `first_word` and `second_word`"
   ]
  },
  {
   "cell_type": "code",
   "execution_count": null,
   "metadata": {
    "slideshow": {
     "slide_type": "fragment"
    }
   },
   "outputs": [],
   "source": [
    "first_word == first_word"
   ]
  },
  {
   "cell_type": "code",
   "execution_count": null,
   "metadata": {
    "slideshow": {
     "slide_type": "fragment"
    }
   },
   "outputs": [],
   "source": [
    "first_word == second_word"
   ]
  },
  {
   "cell_type": "markdown",
   "metadata": {
    "slideshow": {
     "slide_type": "subslide"
    }
   },
   "source": [
    "We can combine _strings_ with the `+` operator.\n",
    "\n",
    "_**Task:**_\n",
    "\n",
    "Using `first_word`, `second_word`, `first_punct`, the `+` operator, and anything else you may need, create a new variable called `first_sentence` and print it."
   ]
  },
  {
   "cell_type": "code",
   "execution_count": null,
   "metadata": {
    "slideshow": {
     "slide_type": "subslide"
    }
   },
   "outputs": [],
   "source": [
    "print(first_word+second_word+first_punct)"
   ]
  },
  {
   "cell_type": "code",
   "execution_count": null,
   "metadata": {
    "slideshow": {
     "slide_type": "fragment"
    }
   },
   "outputs": [],
   "source": [
    "first_sentence = first_word+\" \"+second_word+first_punct\n",
    "first_sentence == \"Hello World!\""
   ]
  },
  {
   "cell_type": "markdown",
   "metadata": {
    "slideshow": {
     "slide_type": "subslide"
    }
   },
   "source": [
    "Strings can be indexed by using the `[]` operator _after_ the string.\n",
    "\n",
    "Note that python counts from zero!"
   ]
  },
  {
   "cell_type": "code",
   "execution_count": null,
   "metadata": {
    "slideshow": {
     "slide_type": "fragment"
    }
   },
   "outputs": [],
   "source": [
    "the_word = \"bird\"\n",
    "\n",
    "print(the_word+\" is the word\")\n",
    "print(the_word[0]+\" is the first letter of the word\")\n",
    "print(the_word[1]+\" is the second letter of the word\")"
   ]
  },
  {
   "cell_type": "markdown",
   "metadata": {
    "slideshow": {
     "slide_type": "subslide"
    }
   },
   "source": [
    "Use the `:` to return a range of values. The range `[m:n]` returns from the (m+1)th letter to the nth letter."
   ]
  },
  {
   "cell_type": "code",
   "execution_count": null,
   "metadata": {
    "slideshow": {
     "slide_type": "fragment"
    }
   },
   "outputs": [],
   "source": [
    "print(the_word[0:2]+\" is the first two letters of the word\")\n",
    "print(the_word[1:3]+\" is the second and third letter of the word\")"
   ]
  },
  {
   "cell_type": "markdown",
   "metadata": {
    "slideshow": {
     "slide_type": "subslide"
    }
   },
   "source": [
    "*Useful tip*: `[-1]` returns the last element of a sequence; in this case, the last character in a word."
   ]
  },
  {
   "cell_type": "code",
   "execution_count": null,
   "metadata": {
    "slideshow": {
     "slide_type": "fragment"
    }
   },
   "outputs": [],
   "source": [
    "print(the_word[-1])"
   ]
  },
  {
   "cell_type": "markdown",
   "metadata": {
    "slideshow": {
     "slide_type": "slide"
    }
   },
   "source": [
    "# Integers\n",
    "\n",
    "The second basic data type is _integer_ (`int`).\n",
    "\n",
    "Integers are whole numbers, positive or negative, and we have already used them for indexing."
   ]
  },
  {
   "cell_type": "markdown",
   "metadata": {
    "slideshow": {
     "slide_type": "subslide"
    }
   },
   "source": [
    "## Working with integers\n",
    "\n",
    "- Integers can be assigned to variables in the same way, with the `=` operator.\n",
    "- Other basic binary operators are as expected: `+`, `-`, `*`, `/`\n",
    "- `==` still tests equivalence."
   ]
  },
  {
   "cell_type": "code",
   "execution_count": null,
   "metadata": {
    "slideshow": {
     "slide_type": "fragment"
    }
   },
   "outputs": [],
   "source": [
    "a = 5\n",
    "b = 13\n",
    "print(\"a is\", a)\n",
    "print(\"b is\", b)\n",
    "print(\"a + b is\", a+b)\n",
    "print(\"a - b is\", a-b)\n",
    "print(\"a * b is\", a*b)\n",
    "print(\"a is equal to b:\", a==b)"
   ]
  },
  {
   "cell_type": "markdown",
   "metadata": {
    "slideshow": {
     "slide_type": "skip"
    }
   },
   "source": [
    "**_Task_**:\n",
    "\n",
    "Assign the integers 2, 3 and 7 to the variables `a`, `b` and `c`.\n",
    "\n",
    "_Challenge:_ See if you can get the number 135 from some combination of these variables, using each variable twice, i.e. `a?a?b?b?c?c = 135`"
   ]
  },
  {
   "cell_type": "code",
   "execution_count": null,
   "metadata": {
    "slideshow": {
     "slide_type": "skip"
    }
   },
   "outputs": [],
   "source": [
    "a = 2\n",
    "b = 3\n",
    "c = 7\n",
    "print(a+a*b*b*c+c)"
   ]
  },
  {
   "cell_type": "markdown",
   "metadata": {
    "slideshow": {
     "slide_type": "slide"
    }
   },
   "source": [
    "# Floats\n",
    "\n",
    "Floats are, technically, the representation of real numbers ($\\mathbb{R}$) in base 2.\n",
    "\n",
    "For our purposes, all non-whole numbers are represented by floats."
   ]
  },
  {
   "cell_type": "markdown",
   "metadata": {
    "slideshow": {
     "slide_type": "subslide"
    }
   },
   "source": [
    "Floats can be constructed using the `.` in a number:"
   ]
  },
  {
   "cell_type": "code",
   "execution_count": null,
   "metadata": {
    "slideshow": {
     "slide_type": "fragment"
    }
   },
   "outputs": [],
   "source": [
    "x = 1.0\n",
    "y = 3.4\n",
    "print(x, \"and\", y, \"are floats\")"
   ]
  },
  {
   "cell_type": "markdown",
   "metadata": {
    "slideshow": {
     "slide_type": "subslide"
    }
   },
   "source": [
    "Python also automatically converts the output of integer division to a float:"
   ]
  },
  {
   "cell_type": "code",
   "execution_count": null,
   "metadata": {
    "slideshow": {
     "slide_type": "fragment"
    }
   },
   "outputs": [],
   "source": [
    "print(1/3)\n",
    "print(3)\n",
    "print(3/1)"
   ]
  },
  {
   "cell_type": "markdown",
   "metadata": {
    "slideshow": {
     "slide_type": "subslide"
    }
   },
   "source": [
    "## Warning!!\n",
    "\n",
    "Floats can behave unpredictably. Note the following examples:"
   ]
  },
  {
   "cell_type": "code",
   "execution_count": null,
   "metadata": {
    "slideshow": {
     "slide_type": "subslide"
    }
   },
   "outputs": [],
   "source": [
    "10*0.1*3 == 3"
   ]
  },
  {
   "cell_type": "code",
   "execution_count": null,
   "metadata": {
    "slideshow": {
     "slide_type": "fragment"
    }
   },
   "outputs": [],
   "source": [
    "0.1*3*10 == 3"
   ]
  },
  {
   "cell_type": "code",
   "execution_count": null,
   "metadata": {
    "slideshow": {
     "slide_type": "fragment"
    }
   },
   "outputs": [],
   "source": [
    "0.1*3 == 0.3"
   ]
  },
  {
   "cell_type": "code",
   "execution_count": null,
   "metadata": {
    "slideshow": {
     "slide_type": "fragment"
    }
   },
   "outputs": [],
   "source": [
    "0.1*3"
   ]
  },
  {
   "cell_type": "markdown",
   "metadata": {
    "slideshow": {
     "slide_type": "slide"
    }
   },
   "source": [
    "# Booleans\n",
    "\n",
    "Booleans are True/False values; you will have noticed that we have already come across these.\n",
    "\n",
    "There are two Booleans: `True` and `False`.\n",
    "\n",
    "\n",
    "## Boolean Operators\n",
    "\n",
    "- `and`\n",
    "- `or`"
   ]
  },
  {
   "cell_type": "code",
   "execution_count": null,
   "metadata": {
    "slideshow": {
     "slide_type": "subslide"
    }
   },
   "outputs": [],
   "source": [
    "True and True"
   ]
  },
  {
   "cell_type": "code",
   "execution_count": null,
   "metadata": {
    "slideshow": {
     "slide_type": "fragment"
    }
   },
   "outputs": [],
   "source": [
    "False or True"
   ]
  },
  {
   "cell_type": "markdown",
   "metadata": {
    "slideshow": {
     "slide_type": "subslide"
    }
   },
   "source": [
    "Also: Booleans act like the integers 0 and 1."
   ]
  },
  {
   "cell_type": "code",
   "execution_count": null,
   "metadata": {
    "slideshow": {
     "slide_type": "subslide"
    }
   },
   "outputs": [],
   "source": [
    "True+True"
   ]
  },
  {
   "cell_type": "code",
   "execution_count": null,
   "metadata": {
    "slideshow": {
     "slide_type": "fragment"
    }
   },
   "outputs": [],
   "source": [
    "True*False"
   ]
  },
  {
   "cell_type": "code",
   "execution_count": null,
   "metadata": {
    "slideshow": {
     "slide_type": "fragment"
    }
   },
   "outputs": [],
   "source": [
    "False/False"
   ]
  },
  {
   "cell_type": "markdown",
   "metadata": {
    "slideshow": {
     "slide_type": "slide"
    }
   },
   "source": [
    "# Extra: Checking and Converting Types\n",
    "\n",
    "- The type of an object can be detected by using the `type` function.\n",
    "- The type of an object can be coerced by calling the a different type on the object."
   ]
  },
  {
   "cell_type": "code",
   "execution_count": null,
   "metadata": {
    "slideshow": {
     "slide_type": "fragment"
    }
   },
   "outputs": [],
   "source": [
    "print(type(15))\n",
    "print(type(float(15)))"
   ]
  },
  {
   "cell_type": "markdown",
   "metadata": {
    "slideshow": {
     "slide_type": "fragment"
    }
   },
   "source": [
    "**_Task:_**\n",
    "\n",
    "- _Create two variables, `a` and `b`._\n",
    "- _Assign an integer to `a` and a float to `b`._\n",
    "- _Use the `print()` and `type()` functions to check the types of `a` and `b`._"
   ]
  },
  {
   "cell_type": "code",
   "execution_count": null,
   "metadata": {
    "slideshow": {
     "slide_type": "fragment"
    }
   },
   "outputs": [],
   "source": [
    "a = 3\n",
    "print(type(a))\n",
    "\n",
    "b = 0.439\n",
    "print(type(b))"
   ]
  },
  {
   "cell_type": "markdown",
   "metadata": {
    "slideshow": {
     "slide_type": "subslide"
    }
   },
   "source": [
    "**_Task_**:\n",
    "\n",
    "- Create an integer variable `i`.\n",
    "- Use the `float()` function with `i` to create a float variable, `f`.\n",
    "- Use the `str()` function with `i` to create a string variable, `s`.\n",
    "- For each of the variables `i`, `f` and `s`, print the variable, its type, and the result of the variable plus itself."
   ]
  },
  {
   "cell_type": "code",
   "execution_count": null,
   "metadata": {
    "slideshow": {
     "slide_type": "fragment"
    }
   },
   "outputs": [],
   "source": [
    "i = 5423\n",
    "f = float(i)\n",
    "s = str(i)\n",
    "\n",
    "print(i, type(i), i+i)\n",
    "print(f, type(f), f+f)\n",
    "print(s, type(s), s+s)"
   ]
  },
  {
   "cell_type": "markdown",
   "metadata": {
    "slideshow": {
     "slide_type": "slide"
    }
   },
   "source": [
    "# Data Structures:\n",
    "\n",
    "I introduce two base data containers:\n",
    "\n",
    "- Lists\n",
    "- Dictionaries"
   ]
  },
  {
   "cell_type": "markdown",
   "metadata": {
    "slideshow": {
     "slide_type": "slide"
    }
   },
   "source": [
    "# Lists\n",
    "\n",
    "Lists are a type of data container in base Python. Lists are:\n",
    "\n",
    "- 1-dimensional\n",
    "- Ordered and indexed\n",
    "- Mutable\n",
    "- Able to contain any (type of) object"
   ]
  },
  {
   "cell_type": "markdown",
   "metadata": {
    "slideshow": {
     "slide_type": "fragment"
    }
   },
   "source": [
    "To create a list, write a sequence of values separated by commas between square brackets:"
   ]
  },
  {
   "cell_type": "code",
   "execution_count": null,
   "metadata": {
    "slideshow": {
     "slide_type": "fragment"
    }
   },
   "outputs": [],
   "source": [
    "my_list = [1, 2, 3] # Contains only integers.\n",
    "my_list = [1, 2.0, '3'] # Contains integer, float and string"
   ]
  },
  {
   "cell_type": "markdown",
   "metadata": {
    "slideshow": {
     "slide_type": "subslide"
    }
   },
   "source": [
    "## Indexing and Slicing Lists\n",
    "\n",
    "- Lists can be indexed in the same way as strings, using the `list[m:n]` notation.\n",
    "    - `list[0]` returns the first value of the list\n",
    "    - `list[0:3]` returns a slice of the first, second and third value of the list"
   ]
  },
  {
   "cell_type": "markdown",
   "metadata": {
    "slideshow": {
     "slide_type": "fragment"
    }
   },
   "source": [
    "**_Task_**:\n",
    "\n",
    "- Create a list of strings containing three letters (easiest if you name it `x`).\n",
    "- Using list indexing and slicing with string addition (concatenation), write a sentence using only those letters and spaces. Spaces are free."
   ]
  },
  {
   "cell_type": "code",
   "execution_count": null,
   "metadata": {
    "slideshow": {
     "slide_type": "subslide"
    }
   },
   "outputs": [],
   "source": [
    "x = ['a', 't', 'e']\n",
    "\n",
    "# Eat tea!\n",
    "\n",
    "print(x[2]+x[0]+x[1]+\" \"+x[1]+x[2]+x[0])"
   ]
  },
  {
   "cell_type": "markdown",
   "metadata": {
    "slideshow": {
     "slide_type": "subslide"
    }
   },
   "source": [
    "## Changing Values in Lists\n",
    "\n",
    "We can assign or reassign values using `=` and indexers:"
   ]
  },
  {
   "cell_type": "code",
   "execution_count": null,
   "metadata": {
    "slideshow": {
     "slide_type": "fragment"
    }
   },
   "outputs": [],
   "source": [
    "x[0] = 'A'\n",
    "x[1] = 'T'\n",
    "\n",
    "print(x[2]+x[0]+x[1]+\" \"+x[1]+x[2]+x[0])"
   ]
  },
  {
   "cell_type": "code",
   "execution_count": null,
   "metadata": {
    "slideshow": {
     "slide_type": "fragment"
    }
   },
   "outputs": [],
   "source": [
    "x[0:2] = ['a', 't']\n",
    "\n",
    "print(x[2]+x[0]+x[1]+\" \"+x[1]+x[2]+x[0])"
   ]
  },
  {
   "cell_type": "markdown",
   "metadata": {
    "slideshow": {
     "slide_type": "slide"
    }
   },
   "source": [
    "# Dictionaries\n",
    "\n",
    "- Dictionaries are an unordered mapping of _keys_ to _values_. \n",
    "- Created by writing a list of `key:value` pairs separated by commas between `{}`."
   ]
  },
  {
   "cell_type": "code",
   "execution_count": null,
   "metadata": {
    "slideshow": {
     "slide_type": "fragment"
    }
   },
   "outputs": [],
   "source": [
    "favourite_icecream = {\n",
    "    \"Musashi\": \"chocolate\",\n",
    "    \"Marco\": \"dulce de leche\"\n",
    "}"
   ]
  },
  {
   "cell_type": "markdown",
   "metadata": {
    "slideshow": {
     "slide_type": "fragment"
    }
   },
   "source": [
    "- Values are accessed with `dict_name[key]`"
   ]
  },
  {
   "cell_type": "code",
   "execution_count": null,
   "metadata": {
    "slideshow": {
     "slide_type": "fragment"
    }
   },
   "outputs": [],
   "source": [
    "print(favourite_icecream['Musashi'])\n",
    "print(favourite_icecream['Marco'])"
   ]
  },
  {
   "cell_type": "markdown",
   "metadata": {
    "slideshow": {
     "slide_type": "subslide"
    }
   },
   "source": [
    "- New key-value pairs can be added or modified with `=`"
   ]
  },
  {
   "cell_type": "code",
   "execution_count": null,
   "metadata": {
    "slideshow": {
     "slide_type": "fragment"
    }
   },
   "outputs": [],
   "source": [
    "favourite_icecream['Raquel'] = 'pistachio'\n",
    "favourite_icecream['Musashi'] = 'green tea'\n",
    "\n",
    "print(favourite_icecream['Musashi'])\n",
    "print(favourite_icecream['Raquel'])"
   ]
  },
  {
   "cell_type": "markdown",
   "metadata": {
    "slideshow": {
     "slide_type": "subslide"
    }
   },
   "source": [
    "## Accessing All Keys or Values\n",
    "\n",
    "To view all of the keys or values in a dictionary, you can use the following _methods_:\n",
    "\n",
    "- `dict_name.keys()`\n",
    "- `dict_name.values()`\n",
    "\n",
    "IMPORTANT: Dictionaries are **not** ordered, meaning the sequence of keys and values may not be in the same order."
   ]
  },
  {
   "cell_type": "code",
   "execution_count": null,
   "metadata": {
    "slideshow": {
     "slide_type": "fragment"
    }
   },
   "outputs": [],
   "source": [
    "print(favourite_icecream.keys())\n",
    "print(favourite_icecream.values())"
   ]
  },
  {
   "cell_type": "markdown",
   "metadata": {
    "slideshow": {
     "slide_type": "subslide"
    }
   },
   "source": [
    "**_Task_**:\n",
    "\n",
    "- Create a dictionary of the favourite foods of the people sitting around you."
   ]
  },
  {
   "cell_type": "markdown",
   "metadata": {
    "slideshow": {
     "slide_type": "slide"
    }
   },
   "source": [
    "# Control Flow\n",
    "\n",
    "- Control flow structures are specific structures we can put in our code to dictate the order in which code is executed, or whether it is executed at all.\n",
    "- Today we learn about for-loops, which allow us to repeat a section of code while varying elements systematically."
   ]
  },
  {
   "cell_type": "markdown",
   "metadata": {
    "slideshow": {
     "slide_type": "slide"
    }
   },
   "source": [
    "# For Loops\n",
    "\n",
    "- A for-loop is a logical structure composed of two parts: an iterable and an action.\n",
    "- They can be thought of as _for each element of x, do **a**._\n",
    "- In python, they are written as follows:\n",
    "\n",
    "```\n",
    "for i in iterable:\n",
    "    do x\n",
    "```\n",
    "\n",
    "- The four spaces (i.e., a tab) are necessary.\n"
   ]
  },
  {
   "cell_type": "code",
   "execution_count": null,
   "metadata": {
    "slideshow": {
     "slide_type": "subslide"
    }
   },
   "outputs": [],
   "source": [
    "for number in [1, 2, 3, 4, 5, 6, 7]:\n",
    "    print(number, \"+\", number, \"=\", number+number)"
   ]
  },
  {
   "cell_type": "code",
   "execution_count": null,
   "metadata": {
    "slideshow": {
     "slide_type": "fragment"
    }
   },
   "outputs": [],
   "source": [
    "for person in favourite_icecream.keys():\n",
    "    print(person+\"'s favourite flavour of ice cream is \"+favourite_icecream[person]+\".\")"
   ]
  },
  {
   "cell_type": "markdown",
   "metadata": {
    "slideshow": {
     "slide_type": "subslide"
    }
   },
   "source": [
    "**_Task_**:\n",
    "\n",
    "- Using the dictionary you created in the previous section, use a for loop:\n",
    "    - Iterating over the people\n",
    "    - Printing \"**PERSON**'s favourite food is **FOOD**\""
   ]
  }
 ],
 "metadata": {
  "celltoolbar": "Slideshow",
  "kernelspec": {
   "display_name": "teaching",
   "language": "python",
   "name": "teaching"
  },
  "language_info": {
   "codemirror_mode": {
    "name": "ipython",
    "version": 3
   },
   "file_extension": ".py",
   "mimetype": "text/x-python",
   "name": "python",
   "nbconvert_exporter": "python",
   "pygments_lexer": "ipython3",
   "version": "3.7.6"
  }
 },
 "nbformat": 4,
 "nbformat_minor": 4
}
